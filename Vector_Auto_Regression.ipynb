{
  "nbformat": 4,
  "nbformat_minor": 0,
  "metadata": {
    "colab": {
      "provenance": []
    },
    "kernelspec": {
      "name": "python3",
      "display_name": "Python 3"
    },
    "language_info": {
      "name": "python"
    }
  },
  "cells": [
    {
      "cell_type": "markdown",
      "source": [
        "## **Import Dependencies**"
      ],
      "metadata": {
        "id": "MZM0M6PGF7JT"
      }
    },
    {
      "cell_type": "code",
      "execution_count": 39,
      "metadata": {
        "id": "zgDvqxSQ9PwS"
      },
      "outputs": [],
      "source": [
        "import os\n",
        "import pickle\n",
        "import random\n",
        "import warnings\n",
        "import numpy as np\n",
        "import pandas as pd\n",
        "import seaborn as sns\n",
        "import statsmodels.api as sm\n",
        "import matplotlib.pyplot as plt\n",
        "import statsmodels.tsa.stattools as ts\n",
        "\n",
        "from tqdm import tqdm\n",
        "from statsmodels.tsa.api import VAR\n",
        "from statsmodels.tsa.stattools import adfuller\n",
        "from statsmodels.tsa.stattools import grangercausalitytests\n",
        "\n",
        "from keras.models import load_model\n",
        "from keras.callbacks import ModelCheckpoint\n",
        "from sklearn.preprocessing import MinMaxScaler\n",
        "from sklearn.metrics import mean_squared_error\n",
        "from sklearn.model_selection import cross_val_score\n",
        "\n",
        "warnings.filterwarnings(\"ignore\")\n",
        "pd.set_option('display.max_rows', None)\n",
        "pd.set_option('display.max_columns', None)"
      ]
    },
    {
      "cell_type": "markdown",
      "source": [
        "## **Read the Dataset**"
      ],
      "metadata": {
        "id": "dY0PZgT4cujc"
      }
    },
    {
      "cell_type": "code",
      "source": [
        "data = pd.read_csv(\"/content/ASII.csv\")\n",
        "\n",
        "column_to_drop = [\"previous\", \"open_price\", \"first_trade\", \"high\", \"low\", \"delisting_date\"]\n",
        "data = data.drop(column_to_drop, axis=1)\n",
        "data.head()"
      ],
      "metadata": {
        "colab": {
          "base_uri": "https://localhost:8080/",
          "height": 313
        },
        "id": "A2c80iJmAlVC",
        "outputId": "beadd9a8-263e-49cc-9776-bb0c13e9cfee"
      },
      "execution_count": 40,
      "outputs": [
        {
          "output_type": "execute_result",
          "data": {
            "text/plain": [
              "                  date   close  change      volume         value  frequency  \\\n",
              "0  2019-07-29T00:00:00  7175.0   100.0  18841000.0  1.344756e+11     3859.0   \n",
              "1  2019-07-30T00:00:00  7275.0   100.0  30765800.0  2.220982e+11     4420.0   \n",
              "2  2019-07-31T00:00:00  7000.0  -275.0  61515300.0  4.324626e+11    11015.0   \n",
              "3  2019-08-01T00:00:00  7025.0    25.0  37270900.0  2.619394e+11     5176.0   \n",
              "4  2019-08-02T00:00:00  7075.0    50.0  40942800.0  2.884855e+11     5182.0   \n",
              "\n",
              "   index_individual   offer  offer_volume     bid  bid_volume  listed_shares  \\\n",
              "0            5131.0  7175.0      633400.0  7150.0      1600.0   4.048355e+10   \n",
              "1            5202.5  7275.0     1122400.0  7225.0    162000.0   4.048355e+10   \n",
              "2            5005.8  7025.0      110200.0  7000.0   6532400.0   4.048355e+10   \n",
              "3            5023.7  7050.0      514800.0  7025.0   2984200.0   4.048355e+10   \n",
              "4            5059.5  7100.0     3721700.0  7075.0       700.0   4.048355e+10   \n",
              "\n",
              "   tradeble_shares  weight_for_index  foreign_sell  foreign_buy  \\\n",
              "0     4.048355e+10      4.048355e+10    12745600.0    9583800.0   \n",
              "1     4.048355e+10      4.048355e+10    17320100.0   15540300.0   \n",
              "2     4.048355e+10      4.048355e+10    50801800.0   16316900.0   \n",
              "3     4.048355e+10      4.048355e+10    25471600.0   27668200.0   \n",
              "4     4.048355e+10      4.048355e+10    26615000.0   27470700.0   \n",
              "\n",
              "   non_regular_volume  non_regular_value  non_regular_frequency  \n",
              "0           2808700.0       1.995158e+10                    7.0  \n",
              "1           4249420.0       3.027105e+10                   25.0  \n",
              "2          54680952.0       3.850957e+11                   45.0  \n",
              "3          31364378.0       2.208941e+11                   19.0  \n",
              "4          14526329.0       1.030492e+11                   13.0  "
            ],
            "text/html": [
              "\n",
              "  <div id=\"df-7bd188de-7675-43f3-9299-29124efc1470\" class=\"colab-df-container\">\n",
              "    <div>\n",
              "<style scoped>\n",
              "    .dataframe tbody tr th:only-of-type {\n",
              "        vertical-align: middle;\n",
              "    }\n",
              "\n",
              "    .dataframe tbody tr th {\n",
              "        vertical-align: top;\n",
              "    }\n",
              "\n",
              "    .dataframe thead th {\n",
              "        text-align: right;\n",
              "    }\n",
              "</style>\n",
              "<table border=\"1\" class=\"dataframe\">\n",
              "  <thead>\n",
              "    <tr style=\"text-align: right;\">\n",
              "      <th></th>\n",
              "      <th>date</th>\n",
              "      <th>close</th>\n",
              "      <th>change</th>\n",
              "      <th>volume</th>\n",
              "      <th>value</th>\n",
              "      <th>frequency</th>\n",
              "      <th>index_individual</th>\n",
              "      <th>offer</th>\n",
              "      <th>offer_volume</th>\n",
              "      <th>bid</th>\n",
              "      <th>bid_volume</th>\n",
              "      <th>listed_shares</th>\n",
              "      <th>tradeble_shares</th>\n",
              "      <th>weight_for_index</th>\n",
              "      <th>foreign_sell</th>\n",
              "      <th>foreign_buy</th>\n",
              "      <th>non_regular_volume</th>\n",
              "      <th>non_regular_value</th>\n",
              "      <th>non_regular_frequency</th>\n",
              "    </tr>\n",
              "  </thead>\n",
              "  <tbody>\n",
              "    <tr>\n",
              "      <th>0</th>\n",
              "      <td>2019-07-29T00:00:00</td>\n",
              "      <td>7175.0</td>\n",
              "      <td>100.0</td>\n",
              "      <td>18841000.0</td>\n",
              "      <td>1.344756e+11</td>\n",
              "      <td>3859.0</td>\n",
              "      <td>5131.0</td>\n",
              "      <td>7175.0</td>\n",
              "      <td>633400.0</td>\n",
              "      <td>7150.0</td>\n",
              "      <td>1600.0</td>\n",
              "      <td>4.048355e+10</td>\n",
              "      <td>4.048355e+10</td>\n",
              "      <td>4.048355e+10</td>\n",
              "      <td>12745600.0</td>\n",
              "      <td>9583800.0</td>\n",
              "      <td>2808700.0</td>\n",
              "      <td>1.995158e+10</td>\n",
              "      <td>7.0</td>\n",
              "    </tr>\n",
              "    <tr>\n",
              "      <th>1</th>\n",
              "      <td>2019-07-30T00:00:00</td>\n",
              "      <td>7275.0</td>\n",
              "      <td>100.0</td>\n",
              "      <td>30765800.0</td>\n",
              "      <td>2.220982e+11</td>\n",
              "      <td>4420.0</td>\n",
              "      <td>5202.5</td>\n",
              "      <td>7275.0</td>\n",
              "      <td>1122400.0</td>\n",
              "      <td>7225.0</td>\n",
              "      <td>162000.0</td>\n",
              "      <td>4.048355e+10</td>\n",
              "      <td>4.048355e+10</td>\n",
              "      <td>4.048355e+10</td>\n",
              "      <td>17320100.0</td>\n",
              "      <td>15540300.0</td>\n",
              "      <td>4249420.0</td>\n",
              "      <td>3.027105e+10</td>\n",
              "      <td>25.0</td>\n",
              "    </tr>\n",
              "    <tr>\n",
              "      <th>2</th>\n",
              "      <td>2019-07-31T00:00:00</td>\n",
              "      <td>7000.0</td>\n",
              "      <td>-275.0</td>\n",
              "      <td>61515300.0</td>\n",
              "      <td>4.324626e+11</td>\n",
              "      <td>11015.0</td>\n",
              "      <td>5005.8</td>\n",
              "      <td>7025.0</td>\n",
              "      <td>110200.0</td>\n",
              "      <td>7000.0</td>\n",
              "      <td>6532400.0</td>\n",
              "      <td>4.048355e+10</td>\n",
              "      <td>4.048355e+10</td>\n",
              "      <td>4.048355e+10</td>\n",
              "      <td>50801800.0</td>\n",
              "      <td>16316900.0</td>\n",
              "      <td>54680952.0</td>\n",
              "      <td>3.850957e+11</td>\n",
              "      <td>45.0</td>\n",
              "    </tr>\n",
              "    <tr>\n",
              "      <th>3</th>\n",
              "      <td>2019-08-01T00:00:00</td>\n",
              "      <td>7025.0</td>\n",
              "      <td>25.0</td>\n",
              "      <td>37270900.0</td>\n",
              "      <td>2.619394e+11</td>\n",
              "      <td>5176.0</td>\n",
              "      <td>5023.7</td>\n",
              "      <td>7050.0</td>\n",
              "      <td>514800.0</td>\n",
              "      <td>7025.0</td>\n",
              "      <td>2984200.0</td>\n",
              "      <td>4.048355e+10</td>\n",
              "      <td>4.048355e+10</td>\n",
              "      <td>4.048355e+10</td>\n",
              "      <td>25471600.0</td>\n",
              "      <td>27668200.0</td>\n",
              "      <td>31364378.0</td>\n",
              "      <td>2.208941e+11</td>\n",
              "      <td>19.0</td>\n",
              "    </tr>\n",
              "    <tr>\n",
              "      <th>4</th>\n",
              "      <td>2019-08-02T00:00:00</td>\n",
              "      <td>7075.0</td>\n",
              "      <td>50.0</td>\n",
              "      <td>40942800.0</td>\n",
              "      <td>2.884855e+11</td>\n",
              "      <td>5182.0</td>\n",
              "      <td>5059.5</td>\n",
              "      <td>7100.0</td>\n",
              "      <td>3721700.0</td>\n",
              "      <td>7075.0</td>\n",
              "      <td>700.0</td>\n",
              "      <td>4.048355e+10</td>\n",
              "      <td>4.048355e+10</td>\n",
              "      <td>4.048355e+10</td>\n",
              "      <td>26615000.0</td>\n",
              "      <td>27470700.0</td>\n",
              "      <td>14526329.0</td>\n",
              "      <td>1.030492e+11</td>\n",
              "      <td>13.0</td>\n",
              "    </tr>\n",
              "  </tbody>\n",
              "</table>\n",
              "</div>\n",
              "    <div class=\"colab-df-buttons\">\n",
              "\n",
              "  <div class=\"colab-df-container\">\n",
              "    <button class=\"colab-df-convert\" onclick=\"convertToInteractive('df-7bd188de-7675-43f3-9299-29124efc1470')\"\n",
              "            title=\"Convert this dataframe to an interactive table.\"\n",
              "            style=\"display:none;\">\n",
              "\n",
              "  <svg xmlns=\"http://www.w3.org/2000/svg\" height=\"24px\" viewBox=\"0 -960 960 960\">\n",
              "    <path d=\"M120-120v-720h720v720H120Zm60-500h600v-160H180v160Zm220 220h160v-160H400v160Zm0 220h160v-160H400v160ZM180-400h160v-160H180v160Zm440 0h160v-160H620v160ZM180-180h160v-160H180v160Zm440 0h160v-160H620v160Z\"/>\n",
              "  </svg>\n",
              "    </button>\n",
              "\n",
              "  <style>\n",
              "    .colab-df-container {\n",
              "      display:flex;\n",
              "      gap: 12px;\n",
              "    }\n",
              "\n",
              "    .colab-df-convert {\n",
              "      background-color: #E8F0FE;\n",
              "      border: none;\n",
              "      border-radius: 50%;\n",
              "      cursor: pointer;\n",
              "      display: none;\n",
              "      fill: #1967D2;\n",
              "      height: 32px;\n",
              "      padding: 0 0 0 0;\n",
              "      width: 32px;\n",
              "    }\n",
              "\n",
              "    .colab-df-convert:hover {\n",
              "      background-color: #E2EBFA;\n",
              "      box-shadow: 0px 1px 2px rgba(60, 64, 67, 0.3), 0px 1px 3px 1px rgba(60, 64, 67, 0.15);\n",
              "      fill: #174EA6;\n",
              "    }\n",
              "\n",
              "    .colab-df-buttons div {\n",
              "      margin-bottom: 4px;\n",
              "    }\n",
              "\n",
              "    [theme=dark] .colab-df-convert {\n",
              "      background-color: #3B4455;\n",
              "      fill: #D2E3FC;\n",
              "    }\n",
              "\n",
              "    [theme=dark] .colab-df-convert:hover {\n",
              "      background-color: #434B5C;\n",
              "      box-shadow: 0px 1px 3px 1px rgba(0, 0, 0, 0.15);\n",
              "      filter: drop-shadow(0px 1px 2px rgba(0, 0, 0, 0.3));\n",
              "      fill: #FFFFFF;\n",
              "    }\n",
              "  </style>\n",
              "\n",
              "    <script>\n",
              "      const buttonEl =\n",
              "        document.querySelector('#df-7bd188de-7675-43f3-9299-29124efc1470 button.colab-df-convert');\n",
              "      buttonEl.style.display =\n",
              "        google.colab.kernel.accessAllowed ? 'block' : 'none';\n",
              "\n",
              "      async function convertToInteractive(key) {\n",
              "        const element = document.querySelector('#df-7bd188de-7675-43f3-9299-29124efc1470');\n",
              "        const dataTable =\n",
              "          await google.colab.kernel.invokeFunction('convertToInteractive',\n",
              "                                                    [key], {});\n",
              "        if (!dataTable) return;\n",
              "\n",
              "        const docLinkHtml = 'Like what you see? Visit the ' +\n",
              "          '<a target=\"_blank\" href=https://colab.research.google.com/notebooks/data_table.ipynb>data table notebook</a>'\n",
              "          + ' to learn more about interactive tables.';\n",
              "        element.innerHTML = '';\n",
              "        dataTable['output_type'] = 'display_data';\n",
              "        await google.colab.output.renderOutput(dataTable, element);\n",
              "        const docLink = document.createElement('div');\n",
              "        docLink.innerHTML = docLinkHtml;\n",
              "        element.appendChild(docLink);\n",
              "      }\n",
              "    </script>\n",
              "  </div>\n",
              "\n",
              "\n",
              "<div id=\"df-eb97c85a-ccf4-485d-88e5-5e9a2b933202\">\n",
              "  <button class=\"colab-df-quickchart\" onclick=\"quickchart('df-eb97c85a-ccf4-485d-88e5-5e9a2b933202')\"\n",
              "            title=\"Suggest charts\"\n",
              "            style=\"display:none;\">\n",
              "\n",
              "<svg xmlns=\"http://www.w3.org/2000/svg\" height=\"24px\"viewBox=\"0 0 24 24\"\n",
              "     width=\"24px\">\n",
              "    <g>\n",
              "        <path d=\"M19 3H5c-1.1 0-2 .9-2 2v14c0 1.1.9 2 2 2h14c1.1 0 2-.9 2-2V5c0-1.1-.9-2-2-2zM9 17H7v-7h2v7zm4 0h-2V7h2v10zm4 0h-2v-4h2v4z\"/>\n",
              "    </g>\n",
              "</svg>\n",
              "  </button>\n",
              "\n",
              "<style>\n",
              "  .colab-df-quickchart {\n",
              "      --bg-color: #E8F0FE;\n",
              "      --fill-color: #1967D2;\n",
              "      --hover-bg-color: #E2EBFA;\n",
              "      --hover-fill-color: #174EA6;\n",
              "      --disabled-fill-color: #AAA;\n",
              "      --disabled-bg-color: #DDD;\n",
              "  }\n",
              "\n",
              "  [theme=dark] .colab-df-quickchart {\n",
              "      --bg-color: #3B4455;\n",
              "      --fill-color: #D2E3FC;\n",
              "      --hover-bg-color: #434B5C;\n",
              "      --hover-fill-color: #FFFFFF;\n",
              "      --disabled-bg-color: #3B4455;\n",
              "      --disabled-fill-color: #666;\n",
              "  }\n",
              "\n",
              "  .colab-df-quickchart {\n",
              "    background-color: var(--bg-color);\n",
              "    border: none;\n",
              "    border-radius: 50%;\n",
              "    cursor: pointer;\n",
              "    display: none;\n",
              "    fill: var(--fill-color);\n",
              "    height: 32px;\n",
              "    padding: 0;\n",
              "    width: 32px;\n",
              "  }\n",
              "\n",
              "  .colab-df-quickchart:hover {\n",
              "    background-color: var(--hover-bg-color);\n",
              "    box-shadow: 0 1px 2px rgba(60, 64, 67, 0.3), 0 1px 3px 1px rgba(60, 64, 67, 0.15);\n",
              "    fill: var(--button-hover-fill-color);\n",
              "  }\n",
              "\n",
              "  .colab-df-quickchart-complete:disabled,\n",
              "  .colab-df-quickchart-complete:disabled:hover {\n",
              "    background-color: var(--disabled-bg-color);\n",
              "    fill: var(--disabled-fill-color);\n",
              "    box-shadow: none;\n",
              "  }\n",
              "\n",
              "  .colab-df-spinner {\n",
              "    border: 2px solid var(--fill-color);\n",
              "    border-color: transparent;\n",
              "    border-bottom-color: var(--fill-color);\n",
              "    animation:\n",
              "      spin 1s steps(1) infinite;\n",
              "  }\n",
              "\n",
              "  @keyframes spin {\n",
              "    0% {\n",
              "      border-color: transparent;\n",
              "      border-bottom-color: var(--fill-color);\n",
              "      border-left-color: var(--fill-color);\n",
              "    }\n",
              "    20% {\n",
              "      border-color: transparent;\n",
              "      border-left-color: var(--fill-color);\n",
              "      border-top-color: var(--fill-color);\n",
              "    }\n",
              "    30% {\n",
              "      border-color: transparent;\n",
              "      border-left-color: var(--fill-color);\n",
              "      border-top-color: var(--fill-color);\n",
              "      border-right-color: var(--fill-color);\n",
              "    }\n",
              "    40% {\n",
              "      border-color: transparent;\n",
              "      border-right-color: var(--fill-color);\n",
              "      border-top-color: var(--fill-color);\n",
              "    }\n",
              "    60% {\n",
              "      border-color: transparent;\n",
              "      border-right-color: var(--fill-color);\n",
              "    }\n",
              "    80% {\n",
              "      border-color: transparent;\n",
              "      border-right-color: var(--fill-color);\n",
              "      border-bottom-color: var(--fill-color);\n",
              "    }\n",
              "    90% {\n",
              "      border-color: transparent;\n",
              "      border-bottom-color: var(--fill-color);\n",
              "    }\n",
              "  }\n",
              "</style>\n",
              "\n",
              "  <script>\n",
              "    async function quickchart(key) {\n",
              "      const quickchartButtonEl =\n",
              "        document.querySelector('#' + key + ' button');\n",
              "      quickchartButtonEl.disabled = true;  // To prevent multiple clicks.\n",
              "      quickchartButtonEl.classList.add('colab-df-spinner');\n",
              "      try {\n",
              "        const charts = await google.colab.kernel.invokeFunction(\n",
              "            'suggestCharts', [key], {});\n",
              "      } catch (error) {\n",
              "        console.error('Error during call to suggestCharts:', error);\n",
              "      }\n",
              "      quickchartButtonEl.classList.remove('colab-df-spinner');\n",
              "      quickchartButtonEl.classList.add('colab-df-quickchart-complete');\n",
              "    }\n",
              "    (() => {\n",
              "      let quickchartButtonEl =\n",
              "        document.querySelector('#df-eb97c85a-ccf4-485d-88e5-5e9a2b933202 button');\n",
              "      quickchartButtonEl.style.display =\n",
              "        google.colab.kernel.accessAllowed ? 'block' : 'none';\n",
              "    })();\n",
              "  </script>\n",
              "</div>\n",
              "    </div>\n",
              "  </div>\n"
            ]
          },
          "metadata": {},
          "execution_count": 40
        }
      ]
    },
    {
      "cell_type": "markdown",
      "source": [
        "## **Understanding the Dataset**"
      ],
      "metadata": {
        "id": "EQDH7FspcxS8"
      }
    },
    {
      "cell_type": "code",
      "source": [
        "# Check the percentage of Nan in dataset\n",
        "total        = data.isnull().sum().sort_values(ascending=False)\n",
        "percent      = (data.isnull().sum() / len(data)).sort_values(ascending=False)\n",
        "missing_data = pd.concat([total, percent], axis=1, keys=['Total', 'Percent'])\n",
        "missing_data.head(15)"
      ],
      "metadata": {
        "colab": {
          "base_uri": "https://localhost:8080/",
          "height": 519
        },
        "id": "7JgQt8MOFOGv",
        "outputId": "6fdd560e-c694-4677-e80a-558c55b69d4f"
      },
      "execution_count": 41,
      "outputs": [
        {
          "output_type": "execute_result",
          "data": {
            "text/plain": [
              "                    Total  Percent\n",
              "date                    0      0.0\n",
              "bid_volume              0      0.0\n",
              "non_regular_value       0      0.0\n",
              "non_regular_volume      0      0.0\n",
              "foreign_buy             0      0.0\n",
              "foreign_sell            0      0.0\n",
              "weight_for_index        0      0.0\n",
              "tradeble_shares         0      0.0\n",
              "listed_shares           0      0.0\n",
              "bid                     0      0.0\n",
              "close                   0      0.0\n",
              "offer_volume            0      0.0\n",
              "offer                   0      0.0\n",
              "index_individual        0      0.0\n",
              "frequency               0      0.0"
            ],
            "text/html": [
              "\n",
              "  <div id=\"df-75e2244d-332e-440f-8bf2-ea92d0b31ba6\" class=\"colab-df-container\">\n",
              "    <div>\n",
              "<style scoped>\n",
              "    .dataframe tbody tr th:only-of-type {\n",
              "        vertical-align: middle;\n",
              "    }\n",
              "\n",
              "    .dataframe tbody tr th {\n",
              "        vertical-align: top;\n",
              "    }\n",
              "\n",
              "    .dataframe thead th {\n",
              "        text-align: right;\n",
              "    }\n",
              "</style>\n",
              "<table border=\"1\" class=\"dataframe\">\n",
              "  <thead>\n",
              "    <tr style=\"text-align: right;\">\n",
              "      <th></th>\n",
              "      <th>Total</th>\n",
              "      <th>Percent</th>\n",
              "    </tr>\n",
              "  </thead>\n",
              "  <tbody>\n",
              "    <tr>\n",
              "      <th>date</th>\n",
              "      <td>0</td>\n",
              "      <td>0.0</td>\n",
              "    </tr>\n",
              "    <tr>\n",
              "      <th>bid_volume</th>\n",
              "      <td>0</td>\n",
              "      <td>0.0</td>\n",
              "    </tr>\n",
              "    <tr>\n",
              "      <th>non_regular_value</th>\n",
              "      <td>0</td>\n",
              "      <td>0.0</td>\n",
              "    </tr>\n",
              "    <tr>\n",
              "      <th>non_regular_volume</th>\n",
              "      <td>0</td>\n",
              "      <td>0.0</td>\n",
              "    </tr>\n",
              "    <tr>\n",
              "      <th>foreign_buy</th>\n",
              "      <td>0</td>\n",
              "      <td>0.0</td>\n",
              "    </tr>\n",
              "    <tr>\n",
              "      <th>foreign_sell</th>\n",
              "      <td>0</td>\n",
              "      <td>0.0</td>\n",
              "    </tr>\n",
              "    <tr>\n",
              "      <th>weight_for_index</th>\n",
              "      <td>0</td>\n",
              "      <td>0.0</td>\n",
              "    </tr>\n",
              "    <tr>\n",
              "      <th>tradeble_shares</th>\n",
              "      <td>0</td>\n",
              "      <td>0.0</td>\n",
              "    </tr>\n",
              "    <tr>\n",
              "      <th>listed_shares</th>\n",
              "      <td>0</td>\n",
              "      <td>0.0</td>\n",
              "    </tr>\n",
              "    <tr>\n",
              "      <th>bid</th>\n",
              "      <td>0</td>\n",
              "      <td>0.0</td>\n",
              "    </tr>\n",
              "    <tr>\n",
              "      <th>close</th>\n",
              "      <td>0</td>\n",
              "      <td>0.0</td>\n",
              "    </tr>\n",
              "    <tr>\n",
              "      <th>offer_volume</th>\n",
              "      <td>0</td>\n",
              "      <td>0.0</td>\n",
              "    </tr>\n",
              "    <tr>\n",
              "      <th>offer</th>\n",
              "      <td>0</td>\n",
              "      <td>0.0</td>\n",
              "    </tr>\n",
              "    <tr>\n",
              "      <th>index_individual</th>\n",
              "      <td>0</td>\n",
              "      <td>0.0</td>\n",
              "    </tr>\n",
              "    <tr>\n",
              "      <th>frequency</th>\n",
              "      <td>0</td>\n",
              "      <td>0.0</td>\n",
              "    </tr>\n",
              "  </tbody>\n",
              "</table>\n",
              "</div>\n",
              "    <div class=\"colab-df-buttons\">\n",
              "\n",
              "  <div class=\"colab-df-container\">\n",
              "    <button class=\"colab-df-convert\" onclick=\"convertToInteractive('df-75e2244d-332e-440f-8bf2-ea92d0b31ba6')\"\n",
              "            title=\"Convert this dataframe to an interactive table.\"\n",
              "            style=\"display:none;\">\n",
              "\n",
              "  <svg xmlns=\"http://www.w3.org/2000/svg\" height=\"24px\" viewBox=\"0 -960 960 960\">\n",
              "    <path d=\"M120-120v-720h720v720H120Zm60-500h600v-160H180v160Zm220 220h160v-160H400v160Zm0 220h160v-160H400v160ZM180-400h160v-160H180v160Zm440 0h160v-160H620v160ZM180-180h160v-160H180v160Zm440 0h160v-160H620v160Z\"/>\n",
              "  </svg>\n",
              "    </button>\n",
              "\n",
              "  <style>\n",
              "    .colab-df-container {\n",
              "      display:flex;\n",
              "      gap: 12px;\n",
              "    }\n",
              "\n",
              "    .colab-df-convert {\n",
              "      background-color: #E8F0FE;\n",
              "      border: none;\n",
              "      border-radius: 50%;\n",
              "      cursor: pointer;\n",
              "      display: none;\n",
              "      fill: #1967D2;\n",
              "      height: 32px;\n",
              "      padding: 0 0 0 0;\n",
              "      width: 32px;\n",
              "    }\n",
              "\n",
              "    .colab-df-convert:hover {\n",
              "      background-color: #E2EBFA;\n",
              "      box-shadow: 0px 1px 2px rgba(60, 64, 67, 0.3), 0px 1px 3px 1px rgba(60, 64, 67, 0.15);\n",
              "      fill: #174EA6;\n",
              "    }\n",
              "\n",
              "    .colab-df-buttons div {\n",
              "      margin-bottom: 4px;\n",
              "    }\n",
              "\n",
              "    [theme=dark] .colab-df-convert {\n",
              "      background-color: #3B4455;\n",
              "      fill: #D2E3FC;\n",
              "    }\n",
              "\n",
              "    [theme=dark] .colab-df-convert:hover {\n",
              "      background-color: #434B5C;\n",
              "      box-shadow: 0px 1px 3px 1px rgba(0, 0, 0, 0.15);\n",
              "      filter: drop-shadow(0px 1px 2px rgba(0, 0, 0, 0.3));\n",
              "      fill: #FFFFFF;\n",
              "    }\n",
              "  </style>\n",
              "\n",
              "    <script>\n",
              "      const buttonEl =\n",
              "        document.querySelector('#df-75e2244d-332e-440f-8bf2-ea92d0b31ba6 button.colab-df-convert');\n",
              "      buttonEl.style.display =\n",
              "        google.colab.kernel.accessAllowed ? 'block' : 'none';\n",
              "\n",
              "      async function convertToInteractive(key) {\n",
              "        const element = document.querySelector('#df-75e2244d-332e-440f-8bf2-ea92d0b31ba6');\n",
              "        const dataTable =\n",
              "          await google.colab.kernel.invokeFunction('convertToInteractive',\n",
              "                                                    [key], {});\n",
              "        if (!dataTable) return;\n",
              "\n",
              "        const docLinkHtml = 'Like what you see? Visit the ' +\n",
              "          '<a target=\"_blank\" href=https://colab.research.google.com/notebooks/data_table.ipynb>data table notebook</a>'\n",
              "          + ' to learn more about interactive tables.';\n",
              "        element.innerHTML = '';\n",
              "        dataTable['output_type'] = 'display_data';\n",
              "        await google.colab.output.renderOutput(dataTable, element);\n",
              "        const docLink = document.createElement('div');\n",
              "        docLink.innerHTML = docLinkHtml;\n",
              "        element.appendChild(docLink);\n",
              "      }\n",
              "    </script>\n",
              "  </div>\n",
              "\n",
              "\n",
              "<div id=\"df-62166b17-72f5-403f-bb70-28337c7fec1e\">\n",
              "  <button class=\"colab-df-quickchart\" onclick=\"quickchart('df-62166b17-72f5-403f-bb70-28337c7fec1e')\"\n",
              "            title=\"Suggest charts\"\n",
              "            style=\"display:none;\">\n",
              "\n",
              "<svg xmlns=\"http://www.w3.org/2000/svg\" height=\"24px\"viewBox=\"0 0 24 24\"\n",
              "     width=\"24px\">\n",
              "    <g>\n",
              "        <path d=\"M19 3H5c-1.1 0-2 .9-2 2v14c0 1.1.9 2 2 2h14c1.1 0 2-.9 2-2V5c0-1.1-.9-2-2-2zM9 17H7v-7h2v7zm4 0h-2V7h2v10zm4 0h-2v-4h2v4z\"/>\n",
              "    </g>\n",
              "</svg>\n",
              "  </button>\n",
              "\n",
              "<style>\n",
              "  .colab-df-quickchart {\n",
              "      --bg-color: #E8F0FE;\n",
              "      --fill-color: #1967D2;\n",
              "      --hover-bg-color: #E2EBFA;\n",
              "      --hover-fill-color: #174EA6;\n",
              "      --disabled-fill-color: #AAA;\n",
              "      --disabled-bg-color: #DDD;\n",
              "  }\n",
              "\n",
              "  [theme=dark] .colab-df-quickchart {\n",
              "      --bg-color: #3B4455;\n",
              "      --fill-color: #D2E3FC;\n",
              "      --hover-bg-color: #434B5C;\n",
              "      --hover-fill-color: #FFFFFF;\n",
              "      --disabled-bg-color: #3B4455;\n",
              "      --disabled-fill-color: #666;\n",
              "  }\n",
              "\n",
              "  .colab-df-quickchart {\n",
              "    background-color: var(--bg-color);\n",
              "    border: none;\n",
              "    border-radius: 50%;\n",
              "    cursor: pointer;\n",
              "    display: none;\n",
              "    fill: var(--fill-color);\n",
              "    height: 32px;\n",
              "    padding: 0;\n",
              "    width: 32px;\n",
              "  }\n",
              "\n",
              "  .colab-df-quickchart:hover {\n",
              "    background-color: var(--hover-bg-color);\n",
              "    box-shadow: 0 1px 2px rgba(60, 64, 67, 0.3), 0 1px 3px 1px rgba(60, 64, 67, 0.15);\n",
              "    fill: var(--button-hover-fill-color);\n",
              "  }\n",
              "\n",
              "  .colab-df-quickchart-complete:disabled,\n",
              "  .colab-df-quickchart-complete:disabled:hover {\n",
              "    background-color: var(--disabled-bg-color);\n",
              "    fill: var(--disabled-fill-color);\n",
              "    box-shadow: none;\n",
              "  }\n",
              "\n",
              "  .colab-df-spinner {\n",
              "    border: 2px solid var(--fill-color);\n",
              "    border-color: transparent;\n",
              "    border-bottom-color: var(--fill-color);\n",
              "    animation:\n",
              "      spin 1s steps(1) infinite;\n",
              "  }\n",
              "\n",
              "  @keyframes spin {\n",
              "    0% {\n",
              "      border-color: transparent;\n",
              "      border-bottom-color: var(--fill-color);\n",
              "      border-left-color: var(--fill-color);\n",
              "    }\n",
              "    20% {\n",
              "      border-color: transparent;\n",
              "      border-left-color: var(--fill-color);\n",
              "      border-top-color: var(--fill-color);\n",
              "    }\n",
              "    30% {\n",
              "      border-color: transparent;\n",
              "      border-left-color: var(--fill-color);\n",
              "      border-top-color: var(--fill-color);\n",
              "      border-right-color: var(--fill-color);\n",
              "    }\n",
              "    40% {\n",
              "      border-color: transparent;\n",
              "      border-right-color: var(--fill-color);\n",
              "      border-top-color: var(--fill-color);\n",
              "    }\n",
              "    60% {\n",
              "      border-color: transparent;\n",
              "      border-right-color: var(--fill-color);\n",
              "    }\n",
              "    80% {\n",
              "      border-color: transparent;\n",
              "      border-right-color: var(--fill-color);\n",
              "      border-bottom-color: var(--fill-color);\n",
              "    }\n",
              "    90% {\n",
              "      border-color: transparent;\n",
              "      border-bottom-color: var(--fill-color);\n",
              "    }\n",
              "  }\n",
              "</style>\n",
              "\n",
              "  <script>\n",
              "    async function quickchart(key) {\n",
              "      const quickchartButtonEl =\n",
              "        document.querySelector('#' + key + ' button');\n",
              "      quickchartButtonEl.disabled = true;  // To prevent multiple clicks.\n",
              "      quickchartButtonEl.classList.add('colab-df-spinner');\n",
              "      try {\n",
              "        const charts = await google.colab.kernel.invokeFunction(\n",
              "            'suggestCharts', [key], {});\n",
              "      } catch (error) {\n",
              "        console.error('Error during call to suggestCharts:', error);\n",
              "      }\n",
              "      quickchartButtonEl.classList.remove('colab-df-spinner');\n",
              "      quickchartButtonEl.classList.add('colab-df-quickchart-complete');\n",
              "    }\n",
              "    (() => {\n",
              "      let quickchartButtonEl =\n",
              "        document.querySelector('#df-62166b17-72f5-403f-bb70-28337c7fec1e button');\n",
              "      quickchartButtonEl.style.display =\n",
              "        google.colab.kernel.accessAllowed ? 'block' : 'none';\n",
              "    })();\n",
              "  </script>\n",
              "</div>\n",
              "    </div>\n",
              "  </div>\n"
            ]
          },
          "metadata": {},
          "execution_count": 41
        }
      ]
    },
    {
      "cell_type": "code",
      "source": [
        "def visualize_heatmap(data):\n",
        "    \"\"\"\n",
        "    Visualize a heatmap of the correlation matrix for the DataFrame.\n",
        "\n",
        "    Parameters:\n",
        "    - data (pd.DataFrame): The DataFrame for which the heatmap is generated.\n",
        "\n",
        "    Returns:\n",
        "    None\n",
        "    \"\"\"\n",
        "    # Calculate the correlation matrix\n",
        "    correlation_matrix = data.corr()\n",
        "\n",
        "    # Set the size of the figure\n",
        "    plt.figure(figsize=(15, 10))\n",
        "\n",
        "    # Display the heatmap\n",
        "    sns.heatmap(correlation_matrix, cmap='coolwarm', fmt='.2f', linewidths=0.5)\n",
        "\n",
        "    # Adjust the layout\n",
        "    plt.title('Heatmap of Column Correlations')\n",
        "    plt.show()\n",
        "\n",
        "# Call the function to display the heatmap\n",
        "visualize_heatmap(data)"
      ],
      "metadata": {
        "colab": {
          "base_uri": "https://localhost:8080/",
          "height": 809
        },
        "id": "vzmbI3wvGjk5",
        "outputId": "df4add50-47f8-472c-a126-26ac20dea254"
      },
      "execution_count": 42,
      "outputs": [
        {
          "output_type": "display_data",
          "data": {
            "text/plain": [
              "<Figure size 1500x1000 with 2 Axes>"
            ],
            "image/png": "[encoded data removed]"
          },
          "metadata": {}
        }
      ]
    },
    {
      "cell_type": "code",
      "source": [
        "def visualize_timeframe(data, target_column=\"close\"):\n",
        "    \"\"\"\n",
        "    Visualize the target column using a line chart with fill between.\n",
        "\n",
        "    Parameters:\n",
        "    - df (pd.DataFrame): The DataFrame containing the data.\n",
        "    - target_column (str, optional): The column to visualize. Default is target.\n",
        "\n",
        "    Returns:\n",
        "    None\n",
        "    \"\"\"\n",
        "    # Set the size of the figure\n",
        "    plt.figure(figsize=(14, 6))\n",
        "\n",
        "    # Create a line chart for target\n",
        "    plt.plot(data.index, data[target_column], label=target_column, color='blue', linestyle='-', linewidth=1)\n",
        "\n",
        "    # Add fill between the line and the x-axis\n",
        "    plt.fill_between(data.index, data[target_column], color='blue', alpha=0.2)\n",
        "\n",
        "    # Add labels and title\n",
        "    plt.xlabel('Date', fontsize=14)\n",
        "    plt.ylabel(target_column, fontsize=14)\n",
        "    plt.title(f'Line Chart of {target_column} with Fill Between', fontsize=16)\n",
        "\n",
        "    # Add a legend\n",
        "    plt.legend(fontsize=12)\n",
        "\n",
        "    # Add a grid\n",
        "    plt.grid(True, linestyle='--', alpha=0.7)\n",
        "\n",
        "    # Adjust the layout\n",
        "    plt.tight_layout()\n",
        "    plt.show()\n",
        "\n",
        "# Visualize the close price\n",
        "visualize_timeframe(data)"
      ],
      "metadata": {
        "colab": {
          "base_uri": "https://localhost:8080/",
          "height": 449
        },
        "id": "weFxJF-5HJhw",
        "outputId": "0d8d10d7-0b99-4d88-a31c-c9b284741d47"
      },
      "execution_count": 43,
      "outputs": [
        {
          "output_type": "display_data",
          "data": {
            "text/plain": [
              "<Figure size 1400x600 with 1 Axes>"
            ],
            "image/png": "[encoded data removed]"
          },
          "metadata": {}
        }
      ]
    },
    {
      "cell_type": "markdown",
      "source": [
        "## **Preprocessing the Dataset**"
      ],
      "metadata": {
        "id": "2Mt7UoWJc64o"
      }
    },
    {
      "cell_type": "code",
      "source": [
        "# Mengonversi kolom 'date' menjadi tipe data datetime\n",
        "data['date'] = pd.to_datetime(data['date'])\n",
        "\n",
        "# Menjadikan kolom 'date' sebagai indeks\n",
        "data.set_index('date', inplace=True)\n",
        "data.head()"
      ],
      "metadata": {
        "colab": {
          "base_uri": "https://localhost:8080/",
          "height": 344
        },
        "id": "_SaUgdYcF5yM",
        "outputId": "a8b709aa-6d83-4235-81d5-db5a8920ce67"
      },
      "execution_count": 44,
      "outputs": [
        {
          "output_type": "execute_result",
          "data": {
            "text/plain": [
              "             close  change      volume         value  frequency  \\\n",
              "date                                                              \n",
              "2019-07-29  7175.0   100.0  18841000.0  1.344756e+11     3859.0   \n",
              "2019-07-30  7275.0   100.0  30765800.0  2.220982e+11     4420.0   \n",
              "2019-07-31  7000.0  -275.0  61515300.0  4.324626e+11    11015.0   \n",
              "2019-08-01  7025.0    25.0  37270900.0  2.619394e+11     5176.0   \n",
              "2019-08-02  7075.0    50.0  40942800.0  2.884855e+11     5182.0   \n",
              "\n",
              "            index_individual   offer  offer_volume     bid  bid_volume  \\\n",
              "date                                                                     \n",
              "2019-07-29            5131.0  7175.0      633400.0  7150.0      1600.0   \n",
              "2019-07-30            5202.5  7275.0     1122400.0  7225.0    162000.0   \n",
              "2019-07-31            5005.8  7025.0      110200.0  7000.0   6532400.0   \n",
              "2019-08-01            5023.7  7050.0      514800.0  7025.0   2984200.0   \n",
              "2019-08-02            5059.5  7100.0     3721700.0  7075.0       700.0   \n",
              "\n",
              "            listed_shares  tradeble_shares  weight_for_index  foreign_sell  \\\n",
              "date                                                                         \n",
              "2019-07-29   4.048355e+10     4.048355e+10      4.048355e+10    12745600.0   \n",
              "2019-07-30   4.048355e+10     4.048355e+10      4.048355e+10    17320100.0   \n",
              "2019-07-31   4.048355e+10     4.048355e+10      4.048355e+10    50801800.0   \n",
              "2019-08-01   4.048355e+10     4.048355e+10      4.048355e+10    25471600.0   \n",
              "2019-08-02   4.048355e+10     4.048355e+10      4.048355e+10    26615000.0   \n",
              "\n",
              "            foreign_buy  non_regular_volume  non_regular_value  \\\n",
              "date                                                             \n",
              "2019-07-29    9583800.0           2808700.0       1.995158e+10   \n",
              "2019-07-30   15540300.0           4249420.0       3.027105e+10   \n",
              "2019-07-31   16316900.0          54680952.0       3.850957e+11   \n",
              "2019-08-01   27668200.0          31364378.0       2.208941e+11   \n",
              "2019-08-02   27470700.0          14526329.0       1.030492e+11   \n",
              "\n",
              "            non_regular_frequency  \n",
              "date                               \n",
              "2019-07-29                    7.0  \n",
              "2019-07-30                   25.0  \n",
              "2019-07-31                   45.0  \n",
              "2019-08-01                   19.0  \n",
              "2019-08-02                   13.0  "
            ],
            "text/html": [
              "\n",
              "  <div id=\"df-3ed0ecda-01b8-4c10-b3e6-d8797faf570f\" class=\"colab-df-container\">\n",
              "    <div>\n",
              "<style scoped>\n",
              "    .dataframe tbody tr th:only-of-type {\n",
              "        vertical-align: middle;\n",
              "    }\n",
              "\n",
              "    .dataframe tbody tr th {\n",
              "        vertical-align: top;\n",
              "    }\n",
              "\n",
              "    .dataframe thead th {\n",
              "        text-align: right;\n",
              "    }\n",
              "</style>\n",
              "<table border=\"1\" class=\"dataframe\">\n",
              "  <thead>\n",
              "    <tr style=\"text-align: right;\">\n",
              "      <th></th>\n",
              "      <th>close</th>\n",
              "      <th>change</th>\n",
              "      <th>volume</th>\n",
              "      <th>value</th>\n",
              "      <th>frequency</th>\n",
              "      <th>index_individual</th>\n",
              "      <th>offer</th>\n",
              "      <th>offer_volume</th>\n",
              "      <th>bid</th>\n",
              "      <th>bid_volume</th>\n",
              "      <th>listed_shares</th>\n",
              "      <th>tradeble_shares</th>\n",
              "      <th>weight_for_index</th>\n",
              "      <th>foreign_sell</th>\n",
              "      <th>foreign_buy</th>\n",
              "      <th>non_regular_volume</th>\n",
              "      <th>non_regular_value</th>\n",
              "      <th>non_regular_frequency</th>\n",
              "    </tr>\n",
              "    <tr>\n",
              "      <th>date</th>\n",
              "      <th></th>\n",
              "      <th></th>\n",
              "      <th></th>\n",
              "      <th></th>\n",
              "      <th></th>\n",
              "      <th></th>\n",
              "      <th></th>\n",
              "      <th></th>\n",
              "      <th></th>\n",
              "      <th></th>\n",
              "      <th></th>\n",
              "      <th></th>\n",
              "      <th></th>\n",
              "      <th></th>\n",
              "      <th></th>\n",
              "      <th></th>\n",
              "      <th></th>\n",
              "      <th></th>\n",
              "    </tr>\n",
              "  </thead>\n",
              "  <tbody>\n",
              "    <tr>\n",
              "      <th>2019-07-29</th>\n",
              "      <td>7175.0</td>\n",
              "      <td>100.0</td>\n",
              "      <td>18841000.0</td>\n",
              "      <td>1.344756e+11</td>\n",
              "      <td>3859.0</td>\n",
              "      <td>5131.0</td>\n",
              "      <td>7175.0</td>\n",
              "      <td>633400.0</td>\n",
              "      <td>7150.0</td>\n",
              "      <td>1600.0</td>\n",
              "      <td>4.048355e+10</td>\n",
              "      <td>4.048355e+10</td>\n",
              "      <td>4.048355e+10</td>\n",
              "      <td>12745600.0</td>\n",
              "      <td>9583800.0</td>\n",
              "      <td>2808700.0</td>\n",
              "      <td>1.995158e+10</td>\n",
              "      <td>7.0</td>\n",
              "    </tr>\n",
              "    <tr>\n",
              "      <th>2019-07-30</th>\n",
              "      <td>7275.0</td>\n",
              "      <td>100.0</td>\n",
              "      <td>30765800.0</td>\n",
              "      <td>2.220982e+11</td>\n",
              "      <td>4420.0</td>\n",
              "      <td>5202.5</td>\n",
              "      <td>7275.0</td>\n",
              "      <td>1122400.0</td>\n",
              "      <td>7225.0</td>\n",
              "      <td>162000.0</td>\n",
              "      <td>4.048355e+10</td>\n",
              "      <td>4.048355e+10</td>\n",
              "      <td>4.048355e+10</td>\n",
              "      <td>17320100.0</td>\n",
              "      <td>15540300.0</td>\n",
              "      <td>4249420.0</td>\n",
              "      <td>3.027105e+10</td>\n",
              "      <td>25.0</td>\n",
              "    </tr>\n",
              "    <tr>\n",
              "      <th>2019-07-31</th>\n",
              "      <td>7000.0</td>\n",
              "      <td>-275.0</td>\n",
              "      <td>61515300.0</td>\n",
              "      <td>4.324626e+11</td>\n",
              "      <td>11015.0</td>\n",
              "      <td>5005.8</td>\n",
              "      <td>7025.0</td>\n",
              "      <td>110200.0</td>\n",
              "      <td>7000.0</td>\n",
              "      <td>6532400.0</td>\n",
              "      <td>4.048355e+10</td>\n",
              "      <td>4.048355e+10</td>\n",
              "      <td>4.048355e+10</td>\n",
              "      <td>50801800.0</td>\n",
              "      <td>16316900.0</td>\n",
              "      <td>54680952.0</td>\n",
              "      <td>3.850957e+11</td>\n",
              "      <td>45.0</td>\n",
              "    </tr>\n",
              "    <tr>\n",
              "      <th>2019-08-01</th>\n",
              "      <td>7025.0</td>\n",
              "      <td>25.0</td>\n",
              "      <td>37270900.0</td>\n",
              "      <td>2.619394e+11</td>\n",
              "      <td>5176.0</td>\n",
              "      <td>5023.7</td>\n",
              "      <td>7050.0</td>\n",
              "      <td>514800.0</td>\n",
              "      <td>7025.0</td>\n",
              "      <td>2984200.0</td>\n",
              "      <td>4.048355e+10</td>\n",
              "      <td>4.048355e+10</td>\n",
              "      <td>4.048355e+10</td>\n",
              "      <td>25471600.0</td>\n",
              "      <td>27668200.0</td>\n",
              "      <td>31364378.0</td>\n",
              "      <td>2.208941e+11</td>\n",
              "      <td>19.0</td>\n",
              "    </tr>\n",
              "    <tr>\n",
              "      <th>2019-08-02</th>\n",
              "      <td>7075.0</td>\n",
              "      <td>50.0</td>\n",
              "      <td>40942800.0</td>\n",
              "      <td>2.884855e+11</td>\n",
              "      <td>5182.0</td>\n",
              "      <td>5059.5</td>\n",
              "      <td>7100.0</td>\n",
              "      <td>3721700.0</td>\n",
              "      <td>7075.0</td>\n",
              "      <td>700.0</td>\n",
              "      <td>4.048355e+10</td>\n",
              "      <td>4.048355e+10</td>\n",
              "      <td>4.048355e+10</td>\n",
              "      <td>26615000.0</td>\n",
              "      <td>27470700.0</td>\n",
              "      <td>14526329.0</td>\n",
              "      <td>1.030492e+11</td>\n",
              "      <td>13.0</td>\n",
              "    </tr>\n",
              "  </tbody>\n",
              "</table>\n",
              "</div>\n",
              "    <div class=\"colab-df-buttons\">\n",
              "\n",
              "  <div class=\"colab-df-container\">\n",
              "    <button class=\"colab-df-convert\" onclick=\"convertToInteractive('df-3ed0ecda-01b8-4c10-b3e6-d8797faf570f')\"\n",
              "            title=\"Convert this dataframe to an interactive table.\"\n",
              "            style=\"display:none;\">\n",
              "\n",
              "  <svg xmlns=\"http://www.w3.org/2000/svg\" height=\"24px\" viewBox=\"0 -960 960 960\">\n",
              "    <path d=\"M120-120v-720h720v720H120Zm60-500h600v-160H180v160Zm220 220h160v-160H400v160Zm0 220h160v-160H400v160ZM180-400h160v-160H180v160Zm440 0h160v-160H620v160ZM180-180h160v-160H180v160Zm440 0h160v-160H620v160Z\"/>\n",
              "  </svg>\n",
              "    </button>\n",
              "\n",
              "  <style>\n",
              "    .colab-df-container {\n",
              "      display:flex;\n",
              "      gap: 12px;\n",
              "    }\n",
              "\n",
              "    .colab-df-convert {\n",
              "      background-color: #E8F0FE;\n",
              "      border: none;\n",
              "      border-radius: 50%;\n",
              "      cursor: pointer;\n",
              "      display: none;\n",
              "      fill: #1967D2;\n",
              "      height: 32px;\n",
              "      padding: 0 0 0 0;\n",
              "      width: 32px;\n",
              "    }\n",
              "\n",
              "    .colab-df-convert:hover {\n",
              "      background-color: #E2EBFA;\n",
              "      box-shadow: 0px 1px 2px rgba(60, 64, 67, 0.3), 0px 1px 3px 1px rgba(60, 64, 67, 0.15);\n",
              "      fill: #174EA6;\n",
              "    }\n",
              "\n",
              "    .colab-df-buttons div {\n",
              "      margin-bottom: 4px;\n",
              "    }\n",
              "\n",
              "    [theme=dark] .colab-df-convert {\n",
              "      background-color: #3B4455;\n",
              "      fill: #D2E3FC;\n",
              "    }\n",
              "\n",
              "    [theme=dark] .colab-df-convert:hover {\n",
              "      background-color: #434B5C;\n",
              "      box-shadow: 0px 1px 3px 1px rgba(0, 0, 0, 0.15);\n",
              "      filter: drop-shadow(0px 1px 2px rgba(0, 0, 0, 0.3));\n",
              "      fill: #FFFFFF;\n",
              "    }\n",
              "  </style>\n",
              "\n",
              "    <script>\n",
              "      const buttonEl =\n",
              "        document.querySelector('#df-3ed0ecda-01b8-4c10-b3e6-d8797faf570f button.colab-df-convert');\n",
              "      buttonEl.style.display =\n",
              "        google.colab.kernel.accessAllowed ? 'block' : 'none';\n",
              "\n",
              "      async function convertToInteractive(key) {\n",
              "        const element = document.querySelector('#df-3ed0ecda-01b8-4c10-b3e6-d8797faf570f');\n",
              "        const dataTable =\n",
              "          await google.colab.kernel.invokeFunction('convertToInteractive',\n",
              "                                                    [key], {});\n",
              "        if (!dataTable) return;\n",
              "\n",
              "        const docLinkHtml = 'Like what you see? Visit the ' +\n",
              "          '<a target=\"_blank\" href=https://colab.research.google.com/notebooks/data_table.ipynb>data table notebook</a>'\n",
              "          + ' to learn more about interactive tables.';\n",
              "        element.innerHTML = '';\n",
              "        dataTable['output_type'] = 'display_data';\n",
              "        await google.colab.output.renderOutput(dataTable, element);\n",
              "        const docLink = document.createElement('div');\n",
              "        docLink.innerHTML = docLinkHtml;\n",
              "        element.appendChild(docLink);\n",
              "      }\n",
              "    </script>\n",
              "  </div>\n",
              "\n",
              "\n",
              "<div id=\"df-01f426d2-ee30-4c1b-ad63-069b959dc205\">\n",
              "  <button class=\"colab-df-quickchart\" onclick=\"quickchart('df-01f426d2-ee30-4c1b-ad63-069b959dc205')\"\n",
              "            title=\"Suggest charts\"\n",
              "            style=\"display:none;\">\n",
              "\n",
              "<svg xmlns=\"http://www.w3.org/2000/svg\" height=\"24px\"viewBox=\"0 0 24 24\"\n",
              "     width=\"24px\">\n",
              "    <g>\n",
              "        <path d=\"M19 3H5c-1.1 0-2 .9-2 2v14c0 1.1.9 2 2 2h14c1.1 0 2-.9 2-2V5c0-1.1-.9-2-2-2zM9 17H7v-7h2v7zm4 0h-2V7h2v10zm4 0h-2v-4h2v4z\"/>\n",
              "    </g>\n",
              "</svg>\n",
              "  </button>\n",
              "\n",
              "<style>\n",
              "  .colab-df-quickchart {\n",
              "      --bg-color: #E8F0FE;\n",
              "      --fill-color: #1967D2;\n",
              "      --hover-bg-color: #E2EBFA;\n",
              "      --hover-fill-color: #174EA6;\n",
              "      --disabled-fill-color: #AAA;\n",
              "      --disabled-bg-color: #DDD;\n",
              "  }\n",
              "\n",
              "  [theme=dark] .colab-df-quickchart {\n",
              "      --bg-color: #3B4455;\n",
              "      --fill-color: #D2E3FC;\n",
              "      --hover-bg-color: #434B5C;\n",
              "      --hover-fill-color: #FFFFFF;\n",
              "      --disabled-bg-color: #3B4455;\n",
              "      --disabled-fill-color: #666;\n",
              "  }\n",
              "\n",
              "  .colab-df-quickchart {\n",
              "    background-color: var(--bg-color);\n",
              "    border: none;\n",
              "    border-radius: 50%;\n",
              "    cursor: pointer;\n",
              "    display: none;\n",
              "    fill: var(--fill-color);\n",
              "    height: 32px;\n",
              "    padding: 0;\n",
              "    width: 32px;\n",
              "  }\n",
              "\n",
              "  .colab-df-quickchart:hover {\n",
              "    background-color: var(--hover-bg-color);\n",
              "    box-shadow: 0 1px 2px rgba(60, 64, 67, 0.3), 0 1px 3px 1px rgba(60, 64, 67, 0.15);\n",
              "    fill: var(--button-hover-fill-color);\n",
              "  }\n",
              "\n",
              "  .colab-df-quickchart-complete:disabled,\n",
              "  .colab-df-quickchart-complete:disabled:hover {\n",
              "    background-color: var(--disabled-bg-color);\n",
              "    fill: var(--disabled-fill-color);\n",
              "    box-shadow: none;\n",
              "  }\n",
              "\n",
              "  .colab-df-spinner {\n",
              "    border: 2px solid var(--fill-color);\n",
              "    border-color: transparent;\n",
              "    border-bottom-color: var(--fill-color);\n",
              "    animation:\n",
              "      spin 1s steps(1) infinite;\n",
              "  }\n",
              "\n",
              "  @keyframes spin {\n",
              "    0% {\n",
              "      border-color: transparent;\n",
              "      border-bottom-color: var(--fill-color);\n",
              "      border-left-color: var(--fill-color);\n",
              "    }\n",
              "    20% {\n",
              "      border-color: transparent;\n",
              "      border-left-color: var(--fill-color);\n",
              "      border-top-color: var(--fill-color);\n",
              "    }\n",
              "    30% {\n",
              "      border-color: transparent;\n",
              "      border-left-color: var(--fill-color);\n",
              "      border-top-color: var(--fill-color);\n",
              "      border-right-color: var(--fill-color);\n",
              "    }\n",
              "    40% {\n",
              "      border-color: transparent;\n",
              "      border-right-color: var(--fill-color);\n",
              "      border-top-color: var(--fill-color);\n",
              "    }\n",
              "    60% {\n",
              "      border-color: transparent;\n",
              "      border-right-color: var(--fill-color);\n",
              "    }\n",
              "    80% {\n",
              "      border-color: transparent;\n",
              "      border-right-color: var(--fill-color);\n",
              "      border-bottom-color: var(--fill-color);\n",
              "    }\n",
              "    90% {\n",
              "      border-color: transparent;\n",
              "      border-bottom-color: var(--fill-color);\n",
              "    }\n",
              "  }\n",
              "</style>\n",
              "\n",
              "  <script>\n",
              "    async function quickchart(key) {\n",
              "      const quickchartButtonEl =\n",
              "        document.querySelector('#' + key + ' button');\n",
              "      quickchartButtonEl.disabled = true;  // To prevent multiple clicks.\n",
              "      quickchartButtonEl.classList.add('colab-df-spinner');\n",
              "      try {\n",
              "        const charts = await google.colab.kernel.invokeFunction(\n",
              "            'suggestCharts', [key], {});\n",
              "      } catch (error) {\n",
              "        console.error('Error during call to suggestCharts:', error);\n",
              "      }\n",
              "      quickchartButtonEl.classList.remove('colab-df-spinner');\n",
              "      quickchartButtonEl.classList.add('colab-df-quickchart-complete');\n",
              "    }\n",
              "    (() => {\n",
              "      let quickchartButtonEl =\n",
              "        document.querySelector('#df-01f426d2-ee30-4c1b-ad63-069b959dc205 button');\n",
              "      quickchartButtonEl.style.display =\n",
              "        google.colab.kernel.accessAllowed ? 'block' : 'none';\n",
              "    })();\n",
              "  </script>\n",
              "</div>\n",
              "    </div>\n",
              "  </div>\n"
            ]
          },
          "metadata": {},
          "execution_count": 44
        }
      ]
    },
    {
      "cell_type": "code",
      "source": [
        "# Inisialisasi MinMaxScaler\n",
        "scaler = MinMaxScaler()\n",
        "\n",
        "# Mengambil kolom yang akan dinormalisasi\n",
        "numeric_columns = data.select_dtypes(include=['float64', 'int64']).columns.tolist()\n",
        "\n",
        "# Melakukan normalisasi untuk kolom-kolom numerik\n",
        "data[numeric_columns] = scaler.fit_transform(data[numeric_columns])\n",
        "data.head()"
      ],
      "metadata": {
        "colab": {
          "base_uri": "https://localhost:8080/",
          "height": 344
        },
        "id": "b7vZfi7eb4OD",
        "outputId": "107e3c51-7558-419e-c6a0-418276da7d31"
      },
      "execution_count": 45,
      "outputs": [
        {
          "output_type": "execute_result",
          "data": {
            "text/plain": [
              "               close    change    volume     value  frequency  \\\n",
              "date                                                            \n",
              "2019-07-29  0.906868  0.675676  0.037468  0.053083   0.062591   \n",
              "2019-07-30  0.930151  0.675676  0.076701  0.107481   0.074587   \n",
              "2019-07-31  0.866123  0.337838  0.177867  0.238080   0.215615   \n",
              "2019-08-01  0.871944  0.608108  0.098103  0.132215   0.090754   \n",
              "2019-08-02  0.883586  0.630631  0.110184  0.148696   0.090882   \n",
              "\n",
              "            index_individual     offer  offer_volume       bid  bid_volume  \\\n",
              "date                                                                         \n",
              "2019-07-29          0.906883  0.944079      0.019541  0.943894    0.000039   \n",
              "2019-07-30          0.930162  0.957237      0.034627  0.953795    0.003917   \n",
              "2019-07-31          0.866120  0.924342      0.003400  0.924092    0.157955   \n",
              "2019-08-01          0.871948  0.927632      0.015882  0.927393    0.072159   \n",
              "2019-08-02          0.883604  0.934211      0.114817  0.933993    0.000017   \n",
              "\n",
              "            listed_shares  tradeble_shares  weight_for_index  foreign_sell  \\\n",
              "date                                                                         \n",
              "2019-07-29            0.0              0.0               1.0      0.065525   \n",
              "2019-07-30            0.0              0.0               1.0      0.089288   \n",
              "2019-07-31            0.0              0.0               1.0      0.263219   \n",
              "2019-08-01            0.0              0.0               1.0      0.131634   \n",
              "2019-08-02            0.0              0.0               1.0      0.137574   \n",
              "\n",
              "            foreign_buy  non_regular_volume  non_regular_value  \\\n",
              "date                                                             \n",
              "2019-07-29     0.050705            0.014953           0.020619   \n",
              "2019-07-30     0.086421            0.022623           0.031283   \n",
              "2019-07-31     0.091078            0.291106           0.397970   \n",
              "2019-08-01     0.159143            0.166975           0.228279   \n",
              "2019-08-02     0.157959            0.077334           0.106494   \n",
              "\n",
              "            non_regular_frequency  \n",
              "date                               \n",
              "2019-07-29               0.067961  \n",
              "2019-07-30               0.242718  \n",
              "2019-07-31               0.436893  \n",
              "2019-08-01               0.184466  \n",
              "2019-08-02               0.126214  "
            ],
            "text/html": [
              "\n",
              "  <div id=\"df-3b07bff9-aa1e-4eef-87c1-4edba4157761\" class=\"colab-df-container\">\n",
              "    <div>\n",
              "<style scoped>\n",
              "    .dataframe tbody tr th:only-of-type {\n",
              "        vertical-align: middle;\n",
              "    }\n",
              "\n",
              "    .dataframe tbody tr th {\n",
              "        vertical-align: top;\n",
              "    }\n",
              "\n",
              "    .dataframe thead th {\n",
              "        text-align: right;\n",
              "    }\n",
              "</style>\n",
              "<table border=\"1\" class=\"dataframe\">\n",
              "  <thead>\n",
              "    <tr style=\"text-align: right;\">\n",
              "      <th></th>\n",
              "      <th>close</th>\n",
              "      <th>change</th>\n",
              "      <th>volume</th>\n",
              "      <th>value</th>\n",
              "      <th>frequency</th>\n",
              "      <th>index_individual</th>\n",
              "      <th>offer</th>\n",
              "      <th>offer_volume</th>\n",
              "      <th>bid</th>\n",
              "      <th>bid_volume</th>\n",
              "      <th>listed_shares</th>\n",
              "      <th>tradeble_shares</th>\n",
              "      <th>weight_for_index</th>\n",
              "      <th>foreign_sell</th>\n",
              "      <th>foreign_buy</th>\n",
              "      <th>non_regular_volume</th>\n",
              "      <th>non_regular_value</th>\n",
              "      <th>non_regular_frequency</th>\n",
              "    </tr>\n",
              "    <tr>\n",
              "      <th>date</th>\n",
              "      <th></th>\n",
              "      <th></th>\n",
              "      <th></th>\n",
              "      <th></th>\n",
              "      <th></th>\n",
              "      <th></th>\n",
              "      <th></th>\n",
              "      <th></th>\n",
              "      <th></th>\n",
              "      <th></th>\n",
              "      <th></th>\n",
              "      <th></th>\n",
              "      <th></th>\n",
              "      <th></th>\n",
              "      <th></th>\n",
              "      <th></th>\n",
              "      <th></th>\n",
              "      <th></th>\n",
              "    </tr>\n",
              "  </thead>\n",
              "  <tbody>\n",
              "    <tr>\n",
              "      <th>2019-07-29</th>\n",
              "      <td>0.906868</td>\n",
              "      <td>0.675676</td>\n",
              "      <td>0.037468</td>\n",
              "      <td>0.053083</td>\n",
              "      <td>0.062591</td>\n",
              "      <td>0.906883</td>\n",
              "      <td>0.944079</td>\n",
              "      <td>0.019541</td>\n",
              "      <td>0.943894</td>\n",
              "      <td>0.000039</td>\n",
              "      <td>0.0</td>\n",
              "      <td>0.0</td>\n",
              "      <td>1.0</td>\n",
              "      <td>0.065525</td>\n",
              "      <td>0.050705</td>\n",
              "      <td>0.014953</td>\n",
              "      <td>0.020619</td>\n",
              "      <td>0.067961</td>\n",
              "    </tr>\n",
              "    <tr>\n",
              "      <th>2019-07-30</th>\n",
              "      <td>0.930151</td>\n",
              "      <td>0.675676</td>\n",
              "      <td>0.076701</td>\n",
              "      <td>0.107481</td>\n",
              "      <td>0.074587</td>\n",
              "      <td>0.930162</td>\n",
              "      <td>0.957237</td>\n",
              "      <td>0.034627</td>\n",
              "      <td>0.953795</td>\n",
              "      <td>0.003917</td>\n",
              "      <td>0.0</td>\n",
              "      <td>0.0</td>\n",
              "      <td>1.0</td>\n",
              "      <td>0.089288</td>\n",
              "      <td>0.086421</td>\n",
              "      <td>0.022623</td>\n",
              "      <td>0.031283</td>\n",
              "      <td>0.242718</td>\n",
              "    </tr>\n",
              "    <tr>\n",
              "      <th>2019-07-31</th>\n",
              "      <td>0.866123</td>\n",
              "      <td>0.337838</td>\n",
              "      <td>0.177867</td>\n",
              "      <td>0.238080</td>\n",
              "      <td>0.215615</td>\n",
              "      <td>0.866120</td>\n",
              "      <td>0.924342</td>\n",
              "      <td>0.003400</td>\n",
              "      <td>0.924092</td>\n",
              "      <td>0.157955</td>\n",
              "      <td>0.0</td>\n",
              "      <td>0.0</td>\n",
              "      <td>1.0</td>\n",
              "      <td>0.263219</td>\n",
              "      <td>0.091078</td>\n",
              "      <td>0.291106</td>\n",
              "      <td>0.397970</td>\n",
              "      <td>0.436893</td>\n",
              "    </tr>\n",
              "    <tr>\n",
              "      <th>2019-08-01</th>\n",
              "      <td>0.871944</td>\n",
              "      <td>0.608108</td>\n",
              "      <td>0.098103</td>\n",
              "      <td>0.132215</td>\n",
              "      <td>0.090754</td>\n",
              "      <td>0.871948</td>\n",
              "      <td>0.927632</td>\n",
              "      <td>0.015882</td>\n",
              "      <td>0.927393</td>\n",
              "      <td>0.072159</td>\n",
              "      <td>0.0</td>\n",
              "      <td>0.0</td>\n",
              "      <td>1.0</td>\n",
              "      <td>0.131634</td>\n",
              "      <td>0.159143</td>\n",
              "      <td>0.166975</td>\n",
              "      <td>0.228279</td>\n",
              "      <td>0.184466</td>\n",
              "    </tr>\n",
              "    <tr>\n",
              "      <th>2019-08-02</th>\n",
              "      <td>0.883586</td>\n",
              "      <td>0.630631</td>\n",
              "      <td>0.110184</td>\n",
              "      <td>0.148696</td>\n",
              "      <td>0.090882</td>\n",
              "      <td>0.883604</td>\n",
              "      <td>0.934211</td>\n",
              "      <td>0.114817</td>\n",
              "      <td>0.933993</td>\n",
              "      <td>0.000017</td>\n",
              "      <td>0.0</td>\n",
              "      <td>0.0</td>\n",
              "      <td>1.0</td>\n",
              "      <td>0.137574</td>\n",
              "      <td>0.157959</td>\n",
              "      <td>0.077334</td>\n",
              "      <td>0.106494</td>\n",
              "      <td>0.126214</td>\n",
              "    </tr>\n",
              "  </tbody>\n",
              "</table>\n",
              "</div>\n",
              "    <div class=\"colab-df-buttons\">\n",
              "\n",
              "  <div class=\"colab-df-container\">\n",
              "    <button class=\"colab-df-convert\" onclick=\"convertToInteractive('df-3b07bff9-aa1e-4eef-87c1-4edba4157761')\"\n",
              "            title=\"Convert this dataframe to an interactive table.\"\n",
              "            style=\"display:none;\">\n",
              "\n",
              "  <svg xmlns=\"http://www.w3.org/2000/svg\" height=\"24px\" viewBox=\"0 -960 960 960\">\n",
              "    <path d=\"M120-120v-720h720v720H120Zm60-500h600v-160H180v160Zm220 220h160v-160H400v160Zm0 220h160v-160H400v160ZM180-400h160v-160H180v160Zm440 0h160v-160H620v160ZM180-180h160v-160H180v160Zm440 0h160v-160H620v160Z\"/>\n",
              "  </svg>\n",
              "    </button>\n",
              "\n",
              "  <style>\n",
              "    .colab-df-container {\n",
              "      display:flex;\n",
              "      gap: 12px;\n",
              "    }\n",
              "\n",
              "    .colab-df-convert {\n",
              "      background-color: #E8F0FE;\n",
              "      border: none;\n",
              "      border-radius: 50%;\n",
              "      cursor: pointer;\n",
              "      display: none;\n",
              "      fill: #1967D2;\n",
              "      height: 32px;\n",
              "      padding: 0 0 0 0;\n",
              "      width: 32px;\n",
              "    }\n",
              "\n",
              "    .colab-df-convert:hover {\n",
              "      background-color: #E2EBFA;\n",
              "      box-shadow: 0px 1px 2px rgba(60, 64, 67, 0.3), 0px 1px 3px 1px rgba(60, 64, 67, 0.15);\n",
              "      fill: #174EA6;\n",
              "    }\n",
              "\n",
              "    .colab-df-buttons div {\n",
              "      margin-bottom: 4px;\n",
              "    }\n",
              "\n",
              "    [theme=dark] .colab-df-convert {\n",
              "      background-color: #3B4455;\n",
              "      fill: #D2E3FC;\n",
              "    }\n",
              "\n",
              "    [theme=dark] .colab-df-convert:hover {\n",
              "      background-color: #434B5C;\n",
              "      box-shadow: 0px 1px 3px 1px rgba(0, 0, 0, 0.15);\n",
              "      filter: drop-shadow(0px 1px 2px rgba(0, 0, 0, 0.3));\n",
              "      fill: #FFFFFF;\n",
              "    }\n",
              "  </style>\n",
              "\n",
              "    <script>\n",
              "      const buttonEl =\n",
              "        document.querySelector('#df-3b07bff9-aa1e-4eef-87c1-4edba4157761 button.colab-df-convert');\n",
              "      buttonEl.style.display =\n",
              "        google.colab.kernel.accessAllowed ? 'block' : 'none';\n",
              "\n",
              "      async function convertToInteractive(key) {\n",
              "        const element = document.querySelector('#df-3b07bff9-aa1e-4eef-87c1-4edba4157761');\n",
              "        const dataTable =\n",
              "          await google.colab.kernel.invokeFunction('convertToInteractive',\n",
              "                                                    [key], {});\n",
              "        if (!dataTable) return;\n",
              "\n",
              "        const docLinkHtml = 'Like what you see? Visit the ' +\n",
              "          '<a target=\"_blank\" href=https://colab.research.google.com/notebooks/data_table.ipynb>data table notebook</a>'\n",
              "          + ' to learn more about interactive tables.';\n",
              "        element.innerHTML = '';\n",
              "        dataTable['output_type'] = 'display_data';\n",
              "        await google.colab.output.renderOutput(dataTable, element);\n",
              "        const docLink = document.createElement('div');\n",
              "        docLink.innerHTML = docLinkHtml;\n",
              "        element.appendChild(docLink);\n",
              "      }\n",
              "    </script>\n",
              "  </div>\n",
              "\n",
              "\n",
              "<div id=\"df-b0b68eff-7b08-4c9e-bec8-dd69b17ccd08\">\n",
              "  <button class=\"colab-df-quickchart\" onclick=\"quickchart('df-b0b68eff-7b08-4c9e-bec8-dd69b17ccd08')\"\n",
              "            title=\"Suggest charts\"\n",
              "            style=\"display:none;\">\n",
              "\n",
              "<svg xmlns=\"http://www.w3.org/2000/svg\" height=\"24px\"viewBox=\"0 0 24 24\"\n",
              "     width=\"24px\">\n",
              "    <g>\n",
              "        <path d=\"M19 3H5c-1.1 0-2 .9-2 2v14c0 1.1.9 2 2 2h14c1.1 0 2-.9 2-2V5c0-1.1-.9-2-2-2zM9 17H7v-7h2v7zm4 0h-2V7h2v10zm4 0h-2v-4h2v4z\"/>\n",
              "    </g>\n",
              "</svg>\n",
              "  </button>\n",
              "\n",
              "<style>\n",
              "  .colab-df-quickchart {\n",
              "      --bg-color: #E8F0FE;\n",
              "      --fill-color: #1967D2;\n",
              "      --hover-bg-color: #E2EBFA;\n",
              "      --hover-fill-color: #174EA6;\n",
              "      --disabled-fill-color: #AAA;\n",
              "      --disabled-bg-color: #DDD;\n",
              "  }\n",
              "\n",
              "  [theme=dark] .colab-df-quickchart {\n",
              "      --bg-color: #3B4455;\n",
              "      --fill-color: #D2E3FC;\n",
              "      --hover-bg-color: #434B5C;\n",
              "      --hover-fill-color: #FFFFFF;\n",
              "      --disabled-bg-color: #3B4455;\n",
              "      --disabled-fill-color: #666;\n",
              "  }\n",
              "\n",
              "  .colab-df-quickchart {\n",
              "    background-color: var(--bg-color);\n",
              "    border: none;\n",
              "    border-radius: 50%;\n",
              "    cursor: pointer;\n",
              "    display: none;\n",
              "    fill: var(--fill-color);\n",
              "    height: 32px;\n",
              "    padding: 0;\n",
              "    width: 32px;\n",
              "  }\n",
              "\n",
              "  .colab-df-quickchart:hover {\n",
              "    background-color: var(--hover-bg-color);\n",
              "    box-shadow: 0 1px 2px rgba(60, 64, 67, 0.3), 0 1px 3px 1px rgba(60, 64, 67, 0.15);\n",
              "    fill: var(--button-hover-fill-color);\n",
              "  }\n",
              "\n",
              "  .colab-df-quickchart-complete:disabled,\n",
              "  .colab-df-quickchart-complete:disabled:hover {\n",
              "    background-color: var(--disabled-bg-color);\n",
              "    fill: var(--disabled-fill-color);\n",
              "    box-shadow: none;\n",
              "  }\n",
              "\n",
              "  .colab-df-spinner {\n",
              "    border: 2px solid var(--fill-color);\n",
              "    border-color: transparent;\n",
              "    border-bottom-color: var(--fill-color);\n",
              "    animation:\n",
              "      spin 1s steps(1) infinite;\n",
              "  }\n",
              "\n",
              "  @keyframes spin {\n",
              "    0% {\n",
              "      border-color: transparent;\n",
              "      border-bottom-color: var(--fill-color);\n",
              "      border-left-color: var(--fill-color);\n",
              "    }\n",
              "    20% {\n",
              "      border-color: transparent;\n",
              "      border-left-color: var(--fill-color);\n",
              "      border-top-color: var(--fill-color);\n",
              "    }\n",
              "    30% {\n",
              "      border-color: transparent;\n",
              "      border-left-color: var(--fill-color);\n",
              "      border-top-color: var(--fill-color);\n",
              "      border-right-color: var(--fill-color);\n",
              "    }\n",
              "    40% {\n",
              "      border-color: transparent;\n",
              "      border-right-color: var(--fill-color);\n",
              "      border-top-color: var(--fill-color);\n",
              "    }\n",
              "    60% {\n",
              "      border-color: transparent;\n",
              "      border-right-color: var(--fill-color);\n",
              "    }\n",
              "    80% {\n",
              "      border-color: transparent;\n",
              "      border-right-color: var(--fill-color);\n",
              "      border-bottom-color: var(--fill-color);\n",
              "    }\n",
              "    90% {\n",
              "      border-color: transparent;\n",
              "      border-bottom-color: var(--fill-color);\n",
              "    }\n",
              "  }\n",
              "</style>\n",
              "\n",
              "  <script>\n",
              "    async function quickchart(key) {\n",
              "      const quickchartButtonEl =\n",
              "        document.querySelector('#' + key + ' button');\n",
              "      quickchartButtonEl.disabled = true;  // To prevent multiple clicks.\n",
              "      quickchartButtonEl.classList.add('colab-df-spinner');\n",
              "      try {\n",
              "        const charts = await google.colab.kernel.invokeFunction(\n",
              "            'suggestCharts', [key], {});\n",
              "      } catch (error) {\n",
              "        console.error('Error during call to suggestCharts:', error);\n",
              "      }\n",
              "      quickchartButtonEl.classList.remove('colab-df-spinner');\n",
              "      quickchartButtonEl.classList.add('colab-df-quickchart-complete');\n",
              "    }\n",
              "    (() => {\n",
              "      let quickchartButtonEl =\n",
              "        document.querySelector('#df-b0b68eff-7b08-4c9e-bec8-dd69b17ccd08 button');\n",
              "      quickchartButtonEl.style.display =\n",
              "        google.colab.kernel.accessAllowed ? 'block' : 'none';\n",
              "    })();\n",
              "  </script>\n",
              "</div>\n",
              "    </div>\n",
              "  </div>\n"
            ]
          },
          "metadata": {},
          "execution_count": 45
        }
      ]
    },
    {
      "cell_type": "markdown",
      "source": [
        "## **Feature Selection**"
      ],
      "metadata": {
        "id": "8BK5bIbtmSMD"
      }
    },
    {
      "cell_type": "code",
      "source": [
        "# Initialize min_test_MSE and best_columns\n",
        "min_test_MSE = float('inf')\n",
        "best_columns = None\n",
        "best_lags    = 0\n",
        "target       = \"close\"\n",
        "\n",
        "# Search best feature with iteration\n",
        "for i in tqdm(range(2000), desc=\"Processing\", unit=\"iteration\"):\n",
        "    try:\n",
        "        # Choose random features\n",
        "        selected_data = data.sample(n=random.randint(2, 2 + int(i/200)), axis=1, replace=False)\n",
        "        selected_data[target] = data[target]\n",
        "        data_ = selected_data.copy()\n",
        "\n",
        "        # Sort index\n",
        "        data_ = data_.sort_index(ascending=True)\n",
        "\n",
        "        # Split data\n",
        "        data_train = data_[:int(0.8*len(data_))]\n",
        "        data_test  = data_[int(0.8*len(data_)):]\n",
        "\n",
        "        # Fit VAR model to the training data\n",
        "        model = VAR(data_train)\n",
        "        lag_selection_VAR = model.select_order(maxlags=20 - int(i/200))\n",
        "\n",
        "        # Get the lag order\n",
        "        lag_order = lag_selection_VAR.selected_orders['aic']\n",
        "        model_fitted = model.fit(lag_order)\n",
        "\n",
        "        # Number of predicted time steps\n",
        "        steps = len(data_test) + 100\n",
        "\n",
        "        # Predict use VAR model\n",
        "        forecast       = model_fitted.forecast(data_train.values, steps = steps)\n",
        "        forecast_index = pd.date_range(start=data_train.index[-1], freq='B', periods=steps + 1)[1:]\n",
        "        forecast_data  = pd.DataFrame(forecast, index=forecast_index, columns=data_train.columns)\n",
        "\n",
        "        # Calculate residuals (errors) on the training data\n",
        "        train_residuals = data_train[lag_order:][target] - model_fitted.fittedvalues.values[:, -1]\n",
        "        test_residuals = data_test[target] - forecast_data[target]\n",
        "\n",
        "        # Calculate Mean Squared Error (MSE) for each variable\n",
        "        train_MSE = mean_squared_error(data_train[lag_order:][target], model_fitted.fittedvalues.values[:, -1])\n",
        "        test_MSE = mean_squared_error(data_test[target], forecast_data[:-100][target])\n",
        "\n",
        "        # Check if current test_MSE is the smallest\n",
        "        if test_MSE < min_test_MSE:\n",
        "            min_test_MSE = test_MSE\n",
        "            best_columns = data_.columns.tolist()\n",
        "            best_lags    = lag_order\n",
        "\n",
        "    except Exception as e:\n",
        "        i = i - 1\n",
        "        print(f\"\\n -- An error occurred: {e}\")\n",
        "\n",
        "# Print the columns with the smallest test_MSE\n",
        "print(f\"\\n\\nBest columns with the smallest test_MSE is {best_columns} with lags {best_lags}\")\n",
        "print(f\"Smallest test_MSE value: {min_test_MSE}\")"
      ],
      "metadata": {
        "colab": {
          "base_uri": "https://localhost:8080/"
        },
        "id": "qMyfN0JGfxJe",
        "outputId": "5e2858ba-e1a2-4530-96ae-465270a26881"
      },
      "execution_count": 46,
      "outputs": [
        {
          "output_type": "stream",
          "name": "stderr",
          "text": [
            "Processing:   0%|          | 4/2000 [00:00<01:24, 23.55iteration/s]"
          ]
        },
        {
          "output_type": "stream",
          "name": "stdout",
          "text": [
            "\n",
            " -- An error occurred: 1-th leading minor of the array is not positive definite\n",
            "\n",
            " -- An error occurred: 2-th leading minor of the array is not positive definite\n",
            "\n",
            " -- An error occurred: 2-th leading minor of the array is not positive definite\n",
            "\n",
            " -- An error occurred: 2-th leading minor of the array is not positive definite\n"
          ]
        },
        {
          "output_type": "stream",
          "name": "stderr",
          "text": [
            "Processing:   1%|          | 12/2000 [00:00<01:28, 22.57iteration/s]"
          ]
        },
        {
          "output_type": "stream",
          "name": "stdout",
          "text": [
            "\n",
            " -- An error occurred: 2-th leading minor of the array is not positive definite\n",
            "\n",
            " -- An error occurred: 1-th leading minor of the array is not positive definite\n"
          ]
        },
        {
          "output_type": "stream",
          "name": "stderr",
          "text": [
            "Processing:   1%|          | 18/2000 [00:00<01:34, 21.00iteration/s]"
          ]
        },
        {
          "output_type": "stream",
          "name": "stdout",
          "text": [
            "\n",
            " -- An error occurred: 2-th leading minor of the array is not positive definite\n",
            "\n",
            " -- An error occurred: 1-th leading minor of the array is not positive definite\n",
            "\n",
            " -- An error occurred: 2-th leading minor of the array is not positive definite\n"
          ]
        },
        {
          "output_type": "stream",
          "name": "stderr",
          "text": [
            "\rProcessing:   1%|          | 21/2000 [00:00<01:40, 19.79iteration/s]"
          ]
        },
        {
          "output_type": "stream",
          "name": "stdout",
          "text": [
            "\n",
            " -- An error occurred: 1-th leading minor of the array is not positive definite\n",
            "\n",
            " -- An error occurred: 2-th leading minor of the array is not positive definite\n"
          ]
        },
        {
          "output_type": "stream",
          "name": "stderr",
          "text": [
            "Processing:   1%|▏         | 28/2000 [00:01<02:47, 11.75iteration/s]"
          ]
        },
        {
          "output_type": "stream",
          "name": "stdout",
          "text": [
            "\n",
            " -- An error occurred: 2-th leading minor of the array is not positive definite\n"
          ]
        },
        {
          "output_type": "stream",
          "name": "stderr",
          "text": [
            "Processing:   2%|▏         | 35/2000 [00:02<04:19,  7.57iteration/s]"
          ]
        },
        {
          "output_type": "stream",
          "name": "stdout",
          "text": [
            "\n",
            " -- An error occurred: 1-th leading minor of the array is not positive definite\n"
          ]
        },
        {
          "output_type": "stream",
          "name": "stderr",
          "text": [
            "Processing:   2%|▏         | 49/2000 [00:04<03:06, 10.48iteration/s]"
          ]
        },
        {
          "output_type": "stream",
          "name": "stdout",
          "text": [
            "\n",
            " -- An error occurred: 1-th leading minor of the array is not positive definite\n"
          ]
        },
        {
          "output_type": "stream",
          "name": "stderr",
          "text": [
            "Processing:   3%|▎         | 54/2000 [00:05<02:33, 12.66iteration/s]"
          ]
        },
        {
          "output_type": "stream",
          "name": "stdout",
          "text": [
            "\n",
            " -- An error occurred: 2-th leading minor of the array is not positive definite\n",
            "\n",
            " -- An error occurred: 2-th leading minor of the array is not positive definite\n"
          ]
        },
        {
          "output_type": "stream",
          "name": "stderr",
          "text": [
            "Processing:   3%|▎         | 61/2000 [00:05<02:01, 15.99iteration/s]"
          ]
        },
        {
          "output_type": "stream",
          "name": "stdout",
          "text": [
            "\n",
            " -- An error occurred: 2-th leading minor of the array is not positive definite\n",
            "\n",
            " -- An error occurred: 2-th leading minor of the array is not positive definite\n"
          ]
        },
        {
          "output_type": "stream",
          "name": "stderr",
          "text": [
            "Processing:   3%|▎         | 66/2000 [00:05<02:07, 15.12iteration/s]"
          ]
        },
        {
          "output_type": "stream",
          "name": "stdout",
          "text": [
            "\n",
            " -- An error occurred: 2-th leading minor of the array is not positive definite\n"
          ]
        },
        {
          "output_type": "stream",
          "name": "stderr",
          "text": [
            "\rProcessing:   3%|▎         | 69/2000 [00:06<02:03, 15.58iteration/s]"
          ]
        },
        {
          "output_type": "stream",
          "name": "stdout",
          "text": [
            "\n",
            " -- An error occurred: 1-th leading minor of the array is not positive definite\n",
            "\n",
            " -- An error occurred: 2-th leading minor of the array is not positive definite\n"
          ]
        },
        {
          "output_type": "stream",
          "name": "stderr",
          "text": [
            "Processing:   4%|▍         | 88/2000 [00:07<02:04, 15.41iteration/s]"
          ]
        },
        {
          "output_type": "stream",
          "name": "stdout",
          "text": [
            "\n",
            " -- An error occurred: 2-th leading minor of the array is not positive definite\n",
            "\n",
            " -- An error occurred: 1-th leading minor of the array is not positive definite\n"
          ]
        },
        {
          "output_type": "stream",
          "name": "stderr",
          "text": [
            "Processing:   5%|▍         | 97/2000 [00:08<02:06, 14.99iteration/s]"
          ]
        },
        {
          "output_type": "stream",
          "name": "stdout",
          "text": [
            "\n",
            " -- An error occurred: 1-th leading minor of the array is not positive definite\n",
            "\n",
            " -- An error occurred: 2-th leading minor of the array is not positive definite\n"
          ]
        },
        {
          "output_type": "stream",
          "name": "stderr",
          "text": [
            "Processing:   5%|▌         | 109/2000 [00:08<02:10, 14.51iteration/s]"
          ]
        },
        {
          "output_type": "stream",
          "name": "stdout",
          "text": [
            "\n",
            " -- An error occurred: 1-th leading minor of the array is not positive definite\n"
          ]
        },
        {
          "output_type": "stream",
          "name": "stderr",
          "text": [
            "Processing:   6%|▌         | 119/2000 [00:09<02:00, 15.60iteration/s]"
          ]
        },
        {
          "output_type": "stream",
          "name": "stdout",
          "text": [
            "\n",
            " -- An error occurred: 1-th leading minor of the array is not positive definite\n",
            "\n",
            " -- An error occurred: 2-th leading minor of the array is not positive definite\n",
            "\n",
            " -- An error occurred: 2-th leading minor of the array is not positive definite\n",
            "\n",
            " -- An error occurred: 1-th leading minor of the array is not positive definite\n"
          ]
        },
        {
          "output_type": "stream",
          "name": "stderr",
          "text": [
            "Processing:   6%|▋         | 130/2000 [00:10<01:34, 19.70iteration/s]"
          ]
        },
        {
          "output_type": "stream",
          "name": "stdout",
          "text": [
            "\n",
            " -- An error occurred: 2-th leading minor of the array is not positive definite\n",
            "\n",
            " -- An error occurred: 1-th leading minor of the array is not positive definite\n",
            "\n",
            " -- An error occurred: 2-th leading minor of the array is not positive definite\n"
          ]
        },
        {
          "output_type": "stream",
          "name": "stderr",
          "text": [
            "Processing:   7%|▋         | 137/2000 [00:10<01:56, 15.92iteration/s]"
          ]
        },
        {
          "output_type": "stream",
          "name": "stdout",
          "text": [
            "\n",
            " -- An error occurred: 1-th leading minor of the array is not positive definite\n"
          ]
        },
        {
          "output_type": "stream",
          "name": "stderr",
          "text": [
            "Processing:   7%|▋         | 145/2000 [00:11<01:56, 15.95iteration/s]"
          ]
        },
        {
          "output_type": "stream",
          "name": "stdout",
          "text": [
            "\n",
            " -- An error occurred: 2-th leading minor of the array is not positive definite\n",
            "\n",
            " -- An error occurred: 1-th leading minor of the array is not positive definite\n",
            "\n",
            " -- An error occurred: 1-th leading minor of the array is not positive definite\n"
          ]
        },
        {
          "output_type": "stream",
          "name": "stderr",
          "text": [
            "Processing:   8%|▊         | 153/2000 [00:11<01:57, 15.71iteration/s]"
          ]
        },
        {
          "output_type": "stream",
          "name": "stdout",
          "text": [
            "\n",
            " -- An error occurred: 1-th leading minor of the array is not positive definite\n",
            "\n",
            " -- An error occurred: 1-th leading minor of the array is not positive definite\n"
          ]
        },
        {
          "output_type": "stream",
          "name": "stderr",
          "text": [
            "Processing:   8%|▊         | 161/2000 [00:12<01:55, 15.94iteration/s]"
          ]
        },
        {
          "output_type": "stream",
          "name": "stdout",
          "text": [
            "\n",
            " -- An error occurred: 1-th leading minor of the array is not positive definite\n"
          ]
        },
        {
          "output_type": "stream",
          "name": "stderr",
          "text": [
            "Processing:   8%|▊         | 165/2000 [00:12<01:58, 15.50iteration/s]"
          ]
        },
        {
          "output_type": "stream",
          "name": "stdout",
          "text": [
            "\n",
            " -- An error occurred: 1-th leading minor of the array is not positive definite\n"
          ]
        },
        {
          "output_type": "stream",
          "name": "stderr",
          "text": [
            "Processing:   9%|▉         | 178/2000 [00:13<02:11, 13.89iteration/s]"
          ]
        },
        {
          "output_type": "stream",
          "name": "stdout",
          "text": [
            "\n",
            " -- An error occurred: 1-th leading minor of the array is not positive definite\n",
            "\n",
            " -- An error occurred: 2-th leading minor of the array is not positive definite\n",
            "\n",
            " -- An error occurred: 1-th leading minor of the array is not positive definite\n"
          ]
        },
        {
          "output_type": "stream",
          "name": "stderr",
          "text": [
            "Processing:  10%|▉         | 192/2000 [00:14<02:19, 12.99iteration/s]"
          ]
        },
        {
          "output_type": "stream",
          "name": "stdout",
          "text": [
            "\n",
            " -- An error occurred: 2-th leading minor of the array is not positive definite\n"
          ]
        },
        {
          "output_type": "stream",
          "name": "stderr",
          "text": [
            "Processing:  10%|▉         | 196/2000 [00:15<02:54, 10.32iteration/s]"
          ]
        },
        {
          "output_type": "stream",
          "name": "stdout",
          "text": [
            "\n",
            " -- An error occurred: 2-th leading minor of the array is not positive definite\n"
          ]
        },
        {
          "output_type": "stream",
          "name": "stderr",
          "text": [
            "Processing:  10%|█         | 201/2000 [00:15<02:41, 11.11iteration/s]"
          ]
        },
        {
          "output_type": "stream",
          "name": "stdout",
          "text": [
            "\n",
            " -- An error occurred: 1-th leading minor of the array is not positive definite\n",
            "\n",
            " -- An error occurred: 2-th leading minor of the array is not positive definite\n",
            "\n",
            " -- An error occurred: 1-th leading minor of the array is not positive definite\n",
            "\n",
            " -- An error occurred: 2-th leading minor of the array is not positive definite\n"
          ]
        },
        {
          "output_type": "stream",
          "name": "stderr",
          "text": [
            "Processing:  10%|█         | 210/2000 [00:16<03:13,  9.24iteration/s]"
          ]
        },
        {
          "output_type": "stream",
          "name": "stdout",
          "text": [
            "\n",
            " -- An error occurred: 1-th leading minor of the array is not positive definite\n"
          ]
        },
        {
          "output_type": "stream",
          "name": "stderr",
          "text": [
            "Processing:  11%|█         | 215/2000 [00:17<03:27,  8.62iteration/s]"
          ]
        },
        {
          "output_type": "stream",
          "name": "stdout",
          "text": [
            "\n",
            " -- An error occurred: 1-th leading minor of the array is not positive definite\n"
          ]
        },
        {
          "output_type": "stream",
          "name": "stderr",
          "text": [
            "Processing:  11%|█         | 217/2000 [00:17<03:47,  7.84iteration/s]"
          ]
        },
        {
          "output_type": "stream",
          "name": "stdout",
          "text": [
            "\n",
            " -- An error occurred: 1-th leading minor of the array is not positive definite\n"
          ]
        },
        {
          "output_type": "stream",
          "name": "stderr",
          "text": [
            "Processing:  11%|█▏        | 225/2000 [00:18<02:14, 13.24iteration/s]"
          ]
        },
        {
          "output_type": "stream",
          "name": "stdout",
          "text": [
            "\n",
            " -- An error occurred: 1-th leading minor of the array is not positive definite\n",
            "\n",
            " -- An error occurred: 2-th leading minor of the array is not positive definite\n"
          ]
        },
        {
          "output_type": "stream",
          "name": "stderr",
          "text": [
            "\rProcessing:  11%|█▏        | 228/2000 [00:18<02:02, 14.45iteration/s]"
          ]
        },
        {
          "output_type": "stream",
          "name": "stdout",
          "text": [
            "\n",
            " -- An error occurred: 2-th leading minor of the array is not positive definite\n"
          ]
        },
        {
          "output_type": "stream",
          "name": "stderr",
          "text": [
            "Processing:  12%|█▏        | 235/2000 [00:18<01:36, 18.24iteration/s]"
          ]
        },
        {
          "output_type": "stream",
          "name": "stdout",
          "text": [
            "\n",
            " -- An error occurred: 2-th leading minor of the array is not positive definite\n",
            "\n",
            " -- An error occurred: 1-th leading minor of the array is not positive definite\n",
            "\n",
            " -- An error occurred: 2-th leading minor of the array is not positive definite\n",
            "\n",
            " -- An error occurred: 1-th leading minor of the array is not positive definite\n"
          ]
        },
        {
          "output_type": "stream",
          "name": "stderr",
          "text": [
            "Processing:  12%|█▏        | 248/2000 [00:19<01:44, 16.78iteration/s]"
          ]
        },
        {
          "output_type": "stream",
          "name": "stdout",
          "text": [
            "\n",
            " -- An error occurred: 1-th leading minor of the array is not positive definite\n",
            "\n",
            " -- An error occurred: 3-th leading minor of the array is not positive definite\n"
          ]
        },
        {
          "output_type": "stream",
          "name": "stderr",
          "text": [
            "Processing:  13%|█▎        | 259/2000 [00:20<01:35, 18.16iteration/s]"
          ]
        },
        {
          "output_type": "stream",
          "name": "stdout",
          "text": [
            "\n",
            " -- An error occurred: 2-th leading minor of the array is not positive definite\n",
            "\n",
            " -- An error occurred: 1-th leading minor of the array is not positive definite\n",
            "\n",
            " -- An error occurred: 2-th leading minor of the array is not positive definite\n",
            "\n",
            " -- An error occurred: 1-th leading minor of the array is not positive definite\n"
          ]
        },
        {
          "output_type": "stream",
          "name": "stderr",
          "text": [
            "\rProcessing:  13%|█▎        | 263/2000 [00:20<01:27, 19.77iteration/s]"
          ]
        },
        {
          "output_type": "stream",
          "name": "stdout",
          "text": [
            "\n",
            " -- An error occurred: 2-th leading minor of the array is not positive definite\n"
          ]
        },
        {
          "output_type": "stream",
          "name": "stderr",
          "text": [
            "Processing:  13%|█▎        | 269/2000 [00:20<01:30, 19.12iteration/s]"
          ]
        },
        {
          "output_type": "stream",
          "name": "stdout",
          "text": [
            "\n",
            " -- An error occurred: 3-th leading minor of the array is not positive definite\n",
            "\n",
            " -- An error occurred: 3-th leading minor of the array is not positive definite\n",
            "\n",
            " -- An error occurred: 3-th leading minor of the array is not positive definite\n"
          ]
        },
        {
          "output_type": "stream",
          "name": "stderr",
          "text": [
            "Processing:  14%|█▍        | 277/2000 [00:21<01:44, 16.50iteration/s]"
          ]
        },
        {
          "output_type": "stream",
          "name": "stdout",
          "text": [
            "\n",
            " -- An error occurred: 2-th leading minor of the array is not positive definite\n"
          ]
        },
        {
          "output_type": "stream",
          "name": "stderr",
          "text": [
            "Processing:  14%|█▍        | 288/2000 [00:22<01:58, 14.50iteration/s]"
          ]
        },
        {
          "output_type": "stream",
          "name": "stdout",
          "text": [
            "\n",
            " -- An error occurred: 3-th leading minor of the array is not positive definite\n"
          ]
        },
        {
          "output_type": "stream",
          "name": "stderr",
          "text": [
            "Processing:  15%|█▍        | 293/2000 [00:22<01:55, 14.73iteration/s]"
          ]
        },
        {
          "output_type": "stream",
          "name": "stdout",
          "text": [
            "\n",
            " -- An error occurred: 1-th leading minor of the array is not positive definite\n"
          ]
        },
        {
          "output_type": "stream",
          "name": "stderr",
          "text": [
            "Processing:  15%|█▍        | 299/2000 [00:22<01:44, 16.29iteration/s]"
          ]
        },
        {
          "output_type": "stream",
          "name": "stdout",
          "text": [
            "\n",
            " -- An error occurred: 1-th leading minor of the array is not positive definite\n",
            "\n",
            " -- An error occurred: 1-th leading minor of the array is not positive definite\n"
          ]
        },
        {
          "output_type": "stream",
          "name": "stderr",
          "text": [
            "Processing:  15%|█▌        | 304/2000 [00:22<01:39, 16.98iteration/s]"
          ]
        },
        {
          "output_type": "stream",
          "name": "stdout",
          "text": [
            "\n",
            " -- An error occurred: 2-th leading minor of the array is not positive definite\n",
            "\n",
            " -- An error occurred: 3-th leading minor of the array is not positive definite\n"
          ]
        },
        {
          "output_type": "stream",
          "name": "stderr",
          "text": [
            "Processing:  15%|█▌        | 308/2000 [00:23<01:41, 16.66iteration/s]"
          ]
        },
        {
          "output_type": "stream",
          "name": "stdout",
          "text": [
            "\n",
            " -- An error occurred: 2-th leading minor of the array is not positive definite\n"
          ]
        },
        {
          "output_type": "stream",
          "name": "stderr",
          "text": [
            "Processing:  16%|█▌        | 313/2000 [00:23<01:47, 15.72iteration/s]"
          ]
        },
        {
          "output_type": "stream",
          "name": "stdout",
          "text": [
            "\n",
            " -- An error occurred: 1-th leading minor of the array is not positive definite\n",
            "\n",
            " -- An error occurred: 1-th leading minor of the array is not positive definite\n"
          ]
        },
        {
          "output_type": "stream",
          "name": "stderr",
          "text": [
            "Processing:  16%|█▌        | 319/2000 [00:23<01:44, 16.10iteration/s]"
          ]
        },
        {
          "output_type": "stream",
          "name": "stdout",
          "text": [
            "\n",
            " -- An error occurred: 2-th leading minor of the array is not positive definite\n"
          ]
        },
        {
          "output_type": "stream",
          "name": "stderr",
          "text": [
            "Processing:  16%|█▋        | 326/2000 [00:24<01:46, 15.76iteration/s]"
          ]
        },
        {
          "output_type": "stream",
          "name": "stdout",
          "text": [
            "\n",
            " -- An error occurred: 1-th leading minor of the array is not positive definite\n",
            "\n",
            " -- An error occurred: 1-th leading minor of the array is not positive definite\n"
          ]
        },
        {
          "output_type": "stream",
          "name": "stderr",
          "text": [
            "Processing:  17%|█▋        | 336/2000 [00:25<01:44, 15.87iteration/s]"
          ]
        },
        {
          "output_type": "stream",
          "name": "stdout",
          "text": [
            "\n",
            " -- An error occurred: 3-th leading minor of the array is not positive definite\n",
            "\n",
            " -- An error occurred: 3-th leading minor of the array is not positive definite\n",
            "\n",
            " -- An error occurred: 2-th leading minor of the array is not positive definite\n"
          ]
        },
        {
          "output_type": "stream",
          "name": "stderr",
          "text": [
            "Processing:  17%|█▋        | 341/2000 [00:25<01:40, 16.49iteration/s]"
          ]
        },
        {
          "output_type": "stream",
          "name": "stdout",
          "text": [
            "\n",
            " -- An error occurred: 1-th leading minor of the array is not positive definite\n"
          ]
        },
        {
          "output_type": "stream",
          "name": "stderr",
          "text": [
            "Processing:  18%|█▊        | 350/2000 [00:26<01:54, 14.38iteration/s]"
          ]
        },
        {
          "output_type": "stream",
          "name": "stdout",
          "text": [
            "\n",
            " -- An error occurred: 2-th leading minor of the array is not positive definite\n"
          ]
        },
        {
          "output_type": "stream",
          "name": "stderr",
          "text": [
            "Processing:  18%|█▊        | 356/2000 [00:26<01:40, 16.37iteration/s]"
          ]
        },
        {
          "output_type": "stream",
          "name": "stdout",
          "text": [
            "\n",
            " -- An error occurred: 3-th leading minor of the array is not positive definite\n",
            "\n",
            " -- An error occurred: 1-th leading minor of the array is not positive definite\n"
          ]
        },
        {
          "output_type": "stream",
          "name": "stderr",
          "text": [
            "\rProcessing:  18%|█▊        | 359/2000 [00:26<01:38, 16.67iteration/s]"
          ]
        },
        {
          "output_type": "stream",
          "name": "stdout",
          "text": [
            "\n",
            " -- An error occurred: 2-th leading minor of the array is not positive definite\n"
          ]
        },
        {
          "output_type": "stream",
          "name": "stderr",
          "text": [
            "Processing:  18%|█▊        | 366/2000 [00:27<01:48, 15.08iteration/s]"
          ]
        },
        {
          "output_type": "stream",
          "name": "stdout",
          "text": [
            "\n",
            " -- An error occurred: 2-th leading minor of the array is not positive definite\n"
          ]
        },
        {
          "output_type": "stream",
          "name": "stderr",
          "text": [
            "Processing:  19%|█▊        | 374/2000 [00:27<01:56, 13.95iteration/s]"
          ]
        },
        {
          "output_type": "stream",
          "name": "stdout",
          "text": [
            "\n",
            " -- An error occurred: 2-th leading minor of the array is not positive definite\n"
          ]
        },
        {
          "output_type": "stream",
          "name": "stderr",
          "text": [
            "Processing:  19%|█▉        | 383/2000 [00:28<02:51,  9.44iteration/s]"
          ]
        },
        {
          "output_type": "stream",
          "name": "stdout",
          "text": [
            "\n",
            " -- An error occurred: 2-th leading minor of the array is not positive definite\n",
            "\n",
            " -- An error occurred: 2-th leading minor of the array is not positive definite\n"
          ]
        },
        {
          "output_type": "stream",
          "name": "stderr",
          "text": [
            "Processing:  19%|█▉        | 389/2000 [00:29<03:16,  8.18iteration/s]"
          ]
        },
        {
          "output_type": "stream",
          "name": "stdout",
          "text": [
            "\n",
            " -- An error occurred: 2-th leading minor of the array is not positive definite\n"
          ]
        },
        {
          "output_type": "stream",
          "name": "stderr",
          "text": [
            "Processing:  20%|█▉        | 394/2000 [00:30<03:05,  8.65iteration/s]"
          ]
        },
        {
          "output_type": "stream",
          "name": "stdout",
          "text": [
            "\n",
            " -- An error occurred: 2-th leading minor of the array is not positive definite\n"
          ]
        },
        {
          "output_type": "stream",
          "name": "stderr",
          "text": [
            "Processing:  20%|█▉        | 397/2000 [00:30<03:10,  8.40iteration/s]"
          ]
        },
        {
          "output_type": "stream",
          "name": "stdout",
          "text": [
            "\n",
            " -- An error occurred: 2-th leading minor of the array is not positive definite\n"
          ]
        },
        {
          "output_type": "stream",
          "name": "stderr",
          "text": [
            "Processing:  20%|██        | 403/2000 [00:31<02:05, 12.69iteration/s]"
          ]
        },
        {
          "output_type": "stream",
          "name": "stdout",
          "text": [
            "\n",
            " -- An error occurred: 1-th leading minor of the array is not positive definite\n",
            "\n",
            " -- An error occurred: 2-th leading minor of the array is not positive definite\n"
          ]
        },
        {
          "output_type": "stream",
          "name": "stderr",
          "text": [
            "Processing:  21%|██        | 415/2000 [00:32<01:42, 15.45iteration/s]"
          ]
        },
        {
          "output_type": "stream",
          "name": "stdout",
          "text": [
            "\n",
            " -- An error occurred: 1-th leading minor of the array is not positive definite\n",
            "\n",
            " -- An error occurred: 1-th leading minor of the array is not positive definite\n",
            "\n",
            " -- An error occurred: 4-th leading minor of the array is not positive definite\n",
            "\n",
            " -- An error occurred: 1-th leading minor of the array is not positive definite\n"
          ]
        },
        {
          "output_type": "stream",
          "name": "stderr",
          "text": [
            "Processing:  21%|██        | 423/2000 [00:32<01:11, 22.12iteration/s]"
          ]
        },
        {
          "output_type": "stream",
          "name": "stdout",
          "text": [
            "\n",
            " -- An error occurred: 2-th leading minor of the array is not positive definite\n",
            "\n",
            " -- An error occurred: 1-th leading minor of the array is not positive definite\n",
            "\n",
            " -- An error occurred: 2-th leading minor of the array is not positive definite\n",
            "\n",
            " -- An error occurred: 2-th leading minor of the array is not positive definite\n"
          ]
        },
        {
          "output_type": "stream",
          "name": "stderr",
          "text": [
            "Processing:  22%|██▏       | 432/2000 [00:32<01:25, 18.44iteration/s]"
          ]
        },
        {
          "output_type": "stream",
          "name": "stdout",
          "text": [
            "\n",
            " -- An error occurred: 1-th leading minor of the array is not positive definite\n",
            "\n",
            " -- An error occurred: 4-th leading minor of the array is not positive definite\n",
            "\n",
            " -- An error occurred: 2-th leading minor of the array is not positive definite\n",
            "\n",
            " -- An error occurred: 2-th leading minor of the array is not positive definite\n",
            "\n",
            " -- An error occurred: 1-th leading minor of the array is not positive definite\n"
          ]
        },
        {
          "output_type": "stream",
          "name": "stderr",
          "text": [
            "\rProcessing:  22%|██▏       | 439/2000 [00:33<01:00, 25.80iteration/s]"
          ]
        },
        {
          "output_type": "stream",
          "name": "stdout",
          "text": [
            "\n",
            " -- An error occurred: 2-th leading minor of the array is not positive definite\n",
            "\n",
            " -- An error occurred: 2-th leading minor of the array is not positive definite\n",
            "\n",
            " -- An error occurred: 1-th leading minor of the array is not positive definite\n"
          ]
        },
        {
          "output_type": "stream",
          "name": "stderr",
          "text": [
            "Processing:  22%|██▏       | 448/2000 [00:33<01:14, 20.80iteration/s]"
          ]
        },
        {
          "output_type": "stream",
          "name": "stdout",
          "text": [
            "\n",
            " -- An error occurred: 2-th leading minor of the array is not positive definite\n",
            "\n",
            " -- An error occurred: 4-th leading minor of the array is not positive definite\n"
          ]
        },
        {
          "output_type": "stream",
          "name": "stderr",
          "text": [
            "Processing:  23%|██▎       | 458/2000 [00:34<01:38, 15.59iteration/s]"
          ]
        },
        {
          "output_type": "stream",
          "name": "stdout",
          "text": [
            "\n",
            " -- An error occurred: 3-th leading minor of the array is not positive definite\n",
            "\n",
            " -- An error occurred: 4-th leading minor of the array is not positive definite\n",
            "\n",
            " -- An error occurred: 2-th leading minor of the array is not positive definite\n",
            "\n",
            " -- An error occurred: 1-th leading minor of the array is not positive definite\n",
            "\n",
            " -- An error occurred: 1-th leading minor of the array is not positive definite\n"
          ]
        },
        {
          "output_type": "stream",
          "name": "stderr",
          "text": [
            "Processing:  24%|██▎       | 471/2000 [00:35<01:24, 18.15iteration/s]"
          ]
        },
        {
          "output_type": "stream",
          "name": "stdout",
          "text": [
            "\n",
            " -- An error occurred: 1-th leading minor of the array is not positive definite\n",
            "\n",
            " -- An error occurred: 1-th leading minor of the array is not positive definite\n",
            "\n",
            " -- An error occurred: 3-th leading minor of the array is not positive definite\n",
            "\n",
            " -- An error occurred: 3-th leading minor of the array is not positive definite\n",
            "\n",
            " -- An error occurred: 2-th leading minor of the array is not positive definite\n",
            "\n",
            " -- An error occurred: 3-th leading minor of the array is not positive definite"
          ]
        },
        {
          "output_type": "stream",
          "name": "stderr",
          "text": [
            "\rProcessing:  24%|██▍       | 478/2000 [00:35<01:01, 24.58iteration/s]"
          ]
        },
        {
          "output_type": "stream",
          "name": "stdout",
          "text": [
            "\n",
            "\n",
            " -- An error occurred: 1-th leading minor of the array is not positive definite\n"
          ]
        },
        {
          "output_type": "stream",
          "name": "stderr",
          "text": [
            "\rProcessing:  24%|██▍       | 481/2000 [00:35<01:06, 22.95iteration/s]"
          ]
        },
        {
          "output_type": "stream",
          "name": "stdout",
          "text": [
            "\n",
            " -- An error occurred: 2-th leading minor of the array is not positive definite\n"
          ]
        },
        {
          "output_type": "stream",
          "name": "stderr",
          "text": [
            "Processing:  24%|██▍       | 487/2000 [00:35<01:18, 19.31iteration/s]"
          ]
        },
        {
          "output_type": "stream",
          "name": "stdout",
          "text": [
            "\n",
            " -- An error occurred: 3-th leading minor of the array is not positive definite\n"
          ]
        },
        {
          "output_type": "stream",
          "name": "stderr",
          "text": [
            "Processing:  25%|██▌       | 501/2000 [00:36<01:32, 16.17iteration/s]"
          ]
        },
        {
          "output_type": "stream",
          "name": "stdout",
          "text": [
            "\n",
            " -- An error occurred: 4-th leading minor of the array is not positive definite\n",
            "\n",
            " -- An error occurred: 3-th leading minor of the array is not positive definite\n",
            "\n",
            " -- An error occurred: 1-th leading minor of the array is not positive definite\n",
            "\n",
            " -- An error occurred: 1-th leading minor of the array is not positive definite\n"
          ]
        },
        {
          "output_type": "stream",
          "name": "stderr",
          "text": [
            "Processing:  26%|██▌       | 510/2000 [00:37<01:22, 18.07iteration/s]"
          ]
        },
        {
          "output_type": "stream",
          "name": "stdout",
          "text": [
            "\n",
            " -- An error occurred: 3-th leading minor of the array is not positive definite\n",
            "\n",
            " -- An error occurred: 3-th leading minor of the array is not positive definite\n",
            "\n",
            " -- An error occurred: 2-th leading minor of the array is not positive definite\n"
          ]
        },
        {
          "output_type": "stream",
          "name": "stderr",
          "text": [
            "\rProcessing:  26%|██▌       | 515/2000 [00:37<01:09, 21.48iteration/s]"
          ]
        },
        {
          "output_type": "stream",
          "name": "stdout",
          "text": [
            "\n",
            " -- An error occurred: 1-th leading minor of the array is not positive definite\n",
            "\n",
            " -- An error occurred: 1-th leading minor of the array is not positive definite\n",
            "\n",
            " -- An error occurred: 1-th leading minor of the array is not positive definite\n",
            "\n",
            " -- An error occurred: 2-th leading minor of the array is not positive definite\n",
            "\n",
            " -- An error occurred: 2-th leading minor of the array is not positive definite\n"
          ]
        },
        {
          "output_type": "stream",
          "name": "stderr",
          "text": [
            "Processing:  26%|██▌       | 523/2000 [00:37<01:10, 20.94iteration/s]"
          ]
        },
        {
          "output_type": "stream",
          "name": "stdout",
          "text": [
            "\n",
            " -- An error occurred: 3-th leading minor of the array is not positive definite\n"
          ]
        },
        {
          "output_type": "stream",
          "name": "stderr",
          "text": [
            "Processing:  27%|██▋       | 534/2000 [00:38<01:23, 17.52iteration/s]"
          ]
        },
        {
          "output_type": "stream",
          "name": "stdout",
          "text": [
            "\n",
            " -- An error occurred: 3-th leading minor of the array is not positive definite\n",
            "\n",
            " -- An error occurred: 3-th leading minor of the array is not positive definite\n"
          ]
        },
        {
          "output_type": "stream",
          "name": "stderr",
          "text": [
            "Processing:  27%|██▋       | 540/2000 [00:38<01:17, 18.83iteration/s]"
          ]
        },
        {
          "output_type": "stream",
          "name": "stdout",
          "text": [
            "\n",
            " -- An error occurred: 3-th leading minor of the array is not positive definite\n",
            "\n",
            " -- An error occurred: 2-th leading minor of the array is not positive definite\n",
            "\n",
            " -- An error occurred: 2-th leading minor of the array is not positive definite\n"
          ]
        },
        {
          "output_type": "stream",
          "name": "stderr",
          "text": [
            "Processing:  27%|██▋       | 546/2000 [00:39<01:21, 17.94iteration/s]"
          ]
        },
        {
          "output_type": "stream",
          "name": "stdout",
          "text": [
            "\n",
            " -- An error occurred: 3-th leading minor of the array is not positive definite\n",
            "\n",
            " -- An error occurred: 1-th leading minor of the array is not positive definite\n",
            "\n",
            " -- An error occurred: 3-th leading minor of the array is not positive definite\n",
            "\n",
            " -- An error occurred: 3-th leading minor of the array is not positive definite\n"
          ]
        },
        {
          "output_type": "stream",
          "name": "stderr",
          "text": [
            "Processing:  28%|██▊       | 556/2000 [00:39<01:12, 19.94iteration/s]"
          ]
        },
        {
          "output_type": "stream",
          "name": "stdout",
          "text": [
            "\n",
            " -- An error occurred: 2-th leading minor of the array is not positive definite\n",
            "\n",
            " -- An error occurred: 2-th leading minor of the array is not positive definite\n"
          ]
        },
        {
          "output_type": "stream",
          "name": "stderr",
          "text": [
            "Processing:  28%|██▊       | 562/2000 [00:39<01:10, 20.37iteration/s]"
          ]
        },
        {
          "output_type": "stream",
          "name": "stdout",
          "text": [
            "\n",
            " -- An error occurred: 2-th leading minor of the array is not positive definite\n",
            "\n",
            " -- An error occurred: 3-th leading minor of the array is not positive definite\n",
            "\n",
            " -- An error occurred: 1-th leading minor of the array is not positive definite\n"
          ]
        },
        {
          "output_type": "stream",
          "name": "stderr",
          "text": [
            "\rProcessing:  28%|██▊       | 565/2000 [00:40<01:12, 19.73iteration/s]"
          ]
        },
        {
          "output_type": "stream",
          "name": "stdout",
          "text": [
            "\n",
            " -- An error occurred: 2-th leading minor of the array is not positive definite\n",
            "\n",
            " -- An error occurred: 2-th leading minor of the array is not positive definite\n"
          ]
        },
        {
          "output_type": "stream",
          "name": "stderr",
          "text": [
            "Processing:  29%|██▊       | 574/2000 [00:40<01:15, 18.97iteration/s]"
          ]
        },
        {
          "output_type": "stream",
          "name": "stdout",
          "text": [
            "\n",
            " -- An error occurred: 3-th leading minor of the array is not positive definite\n",
            "\n",
            " -- An error occurred: 1-th leading minor of the array is not positive definite\n"
          ]
        },
        {
          "output_type": "stream",
          "name": "stderr",
          "text": [
            "Processing:  29%|██▉       | 579/2000 [00:40<01:22, 17.25iteration/s]"
          ]
        },
        {
          "output_type": "stream",
          "name": "stdout",
          "text": [
            "\n",
            " -- An error occurred: 2-th leading minor of the array is not positive definite\n"
          ]
        },
        {
          "output_type": "stream",
          "name": "stderr",
          "text": [
            "Processing:  29%|██▉       | 583/2000 [00:41<02:00, 11.79iteration/s]"
          ]
        },
        {
          "output_type": "stream",
          "name": "stdout",
          "text": [
            "\n",
            " -- An error occurred: 4-th leading minor of the array is not positive definite\n"
          ]
        },
        {
          "output_type": "stream",
          "name": "stderr",
          "text": [
            "Processing:  29%|██▉       | 587/2000 [00:41<02:08, 10.99iteration/s]"
          ]
        },
        {
          "output_type": "stream",
          "name": "stdout",
          "text": [
            "\n",
            " -- An error occurred: 1-th leading minor of the array is not positive definite\n"
          ]
        },
        {
          "output_type": "stream",
          "name": "stderr",
          "text": [
            "Processing:  30%|██▉       | 594/2000 [00:42<02:21,  9.95iteration/s]"
          ]
        },
        {
          "output_type": "stream",
          "name": "stdout",
          "text": [
            "\n",
            " -- An error occurred: 1-th leading minor of the array is not positive definite\n",
            "\n",
            " -- An error occurred: 2-th leading minor of the array is not positive definite\n",
            "\n",
            " -- An error occurred: 1-th leading minor of the array is not positive definite\n"
          ]
        },
        {
          "output_type": "stream",
          "name": "stderr",
          "text": [
            "Processing:  30%|██▉       | 598/2000 [00:43<02:18, 10.13iteration/s]"
          ]
        },
        {
          "output_type": "stream",
          "name": "stdout",
          "text": [
            "\n",
            " -- An error occurred: 1-th leading minor of the array is not positive definite\n",
            "\n",
            " -- An error occurred: 1-th leading minor of the array is not positive definite\n",
            "\n",
            " -- An error occurred: 3-th leading minor of the array is not positive definite\n",
            "\n",
            " -- An error occurred: 2-th leading minor of the array is not positive definite\n"
          ]
        },
        {
          "output_type": "stream",
          "name": "stderr",
          "text": [
            "Processing:  30%|███       | 606/2000 [00:43<02:11, 10.58iteration/s]"
          ]
        },
        {
          "output_type": "stream",
          "name": "stdout",
          "text": [
            "\n",
            " -- An error occurred: 1-th leading minor of the array is not positive definite\n",
            "\n",
            " -- An error occurred: 3-th leading minor of the array is not positive definite\n"
          ]
        },
        {
          "output_type": "stream",
          "name": "stderr",
          "text": [
            "Processing:  30%|███       | 610/2000 [00:44<01:58, 11.70iteration/s]"
          ]
        },
        {
          "output_type": "stream",
          "name": "stdout",
          "text": [
            "\n",
            " -- An error occurred: 2-th leading minor of the array is not positive definite\n"
          ]
        },
        {
          "output_type": "stream",
          "name": "stderr",
          "text": [
            "Processing:  31%|███       | 617/2000 [00:44<01:35, 14.55iteration/s]"
          ]
        },
        {
          "output_type": "stream",
          "name": "stdout",
          "text": [
            "\n",
            " -- An error occurred: 3-th leading minor of the array is not positive definite\n",
            "\n",
            " -- An error occurred: 3-th leading minor of the array is not positive definite\n",
            "\n",
            " -- An error occurred: 4-th leading minor of the array is not positive definite\n",
            "\n",
            " -- An error occurred: 4-th leading minor of the array is not positive definite\n"
          ]
        },
        {
          "output_type": "stream",
          "name": "stderr",
          "text": [
            "Processing:  31%|███▏      | 627/2000 [00:44<01:00, 22.81iteration/s]"
          ]
        },
        {
          "output_type": "stream",
          "name": "stdout",
          "text": [
            "\n",
            " -- An error occurred: 1-th leading minor of the array is not positive definite\n",
            "\n",
            " -- An error occurred: 2-th leading minor of the array is not positive definite\n",
            "\n",
            " -- An error occurred: 5-th leading minor of the array is not positive definite\n",
            "\n",
            " -- An error occurred: 2-th leading minor of the array is not positive definite\n",
            "\n",
            " -- An error occurred: 3-th leading minor of the array is not positive definite\n",
            "\n",
            " -- An error occurred: 4-th leading minor of the array is not positive definite\n",
            "\n",
            " -- An error occurred: 3-th leading minor of the array is not positive definite\n",
            "\n",
            " -- An error occurred: 2-th leading minor of the array is not positive definite\n"
          ]
        },
        {
          "output_type": "stream",
          "name": "stderr",
          "text": [
            "Processing:  32%|███▏      | 635/2000 [00:45<01:00, 22.74iteration/s]"
          ]
        },
        {
          "output_type": "stream",
          "name": "stdout",
          "text": [
            "\n",
            " -- An error occurred: 2-th leading minor of the array is not positive definite\n"
          ]
        },
        {
          "output_type": "stream",
          "name": "stderr",
          "text": [
            "Processing:  32%|███▏      | 644/2000 [00:45<01:19, 17.00iteration/s]"
          ]
        },
        {
          "output_type": "stream",
          "name": "stdout",
          "text": [
            "\n",
            " -- An error occurred: 1-th leading minor of the array is not positive definite\n"
          ]
        },
        {
          "output_type": "stream",
          "name": "stderr",
          "text": [
            "Processing:  33%|███▎      | 652/2000 [00:46<00:57, 23.33iteration/s]"
          ]
        },
        {
          "output_type": "stream",
          "name": "stdout",
          "text": [
            "\n",
            " -- An error occurred: 1-th leading minor of the array is not positive definite\n",
            "\n",
            " -- An error occurred: 3-th leading minor of the array is not positive definite\n",
            "\n",
            " -- An error occurred: 4-th leading minor of the array is not positive definite\n",
            "\n",
            " -- An error occurred: 1-th leading minor of the array is not positive definite\n",
            "\n",
            " -- An error occurred: 2-th leading minor of the array is not positive definite\n",
            "\n",
            " -- An error occurred: 2-th leading minor of the array is not positive definite\n",
            "\n",
            " -- An error occurred: 3-th leading minor of the array is not positive definite\n"
          ]
        },
        {
          "output_type": "stream",
          "name": "stderr",
          "text": [
            "Processing:  33%|███▎      | 659/2000 [00:46<01:02, 21.31iteration/s]"
          ]
        },
        {
          "output_type": "stream",
          "name": "stdout",
          "text": [
            "\n",
            " -- An error occurred: 2-th leading minor of the array is not positive definite\n"
          ]
        },
        {
          "output_type": "stream",
          "name": "stderr",
          "text": [
            "Processing:  34%|███▎      | 670/2000 [00:47<01:27, 15.12iteration/s]"
          ]
        },
        {
          "output_type": "stream",
          "name": "stdout",
          "text": [
            "\n",
            " -- An error occurred: 3-th leading minor of the array is not positive definite\n"
          ]
        },
        {
          "output_type": "stream",
          "name": "stderr",
          "text": [
            "Processing:  34%|███▎      | 674/2000 [00:47<01:24, 15.62iteration/s]"
          ]
        },
        {
          "output_type": "stream",
          "name": "stdout",
          "text": [
            "\n",
            " -- An error occurred: 2-th leading minor of the array is not positive definite\n",
            "\n",
            " -- An error occurred: 1-th leading minor of the array is not positive definite\n"
          ]
        },
        {
          "output_type": "stream",
          "name": "stderr",
          "text": [
            "Processing:  34%|███▍      | 682/2000 [00:48<01:22, 15.98iteration/s]"
          ]
        },
        {
          "output_type": "stream",
          "name": "stdout",
          "text": [
            "\n",
            " -- An error occurred: 1-th leading minor of the array is not positive definite\n"
          ]
        },
        {
          "output_type": "stream",
          "name": "stderr",
          "text": [
            "Processing:  35%|███▍      | 691/2000 [00:48<00:59, 21.84iteration/s]"
          ]
        },
        {
          "output_type": "stream",
          "name": "stdout",
          "text": [
            "\n",
            " -- An error occurred: 2-th leading minor of the array is not positive definite\n",
            "\n",
            " -- An error occurred: 1-th leading minor of the array is not positive definite\n",
            "\n",
            " -- An error occurred: 1-th leading minor of the array is not positive definite\n",
            "\n",
            " -- An error occurred: 2-th leading minor of the array is not positive definite\n",
            "\n",
            " -- An error occurred: 2-th leading minor of the array is not positive definite\n",
            "\n",
            " -- An error occurred: 3-th leading minor of the array is not positive definite\n"
          ]
        },
        {
          "output_type": "stream",
          "name": "stderr",
          "text": [
            "Processing:  35%|███▌      | 702/2000 [00:49<00:58, 22.30iteration/s]"
          ]
        },
        {
          "output_type": "stream",
          "name": "stdout",
          "text": [
            "\n",
            " -- An error occurred: 1-th leading minor of the array is not positive definite\n",
            "\n",
            " -- An error occurred: 2-th leading minor of the array is not positive definite\n",
            "\n",
            " -- An error occurred: 3-th leading minor of the array is not positive definite\n",
            "\n",
            " -- An error occurred: 1-th leading minor of the array is not positive definite\n"
          ]
        },
        {
          "output_type": "stream",
          "name": "stderr",
          "text": [
            "Processing:  36%|███▌      | 710/2000 [00:49<00:54, 23.61iteration/s]"
          ]
        },
        {
          "output_type": "stream",
          "name": "stdout",
          "text": [
            "\n",
            " -- An error occurred: 2-th leading minor of the array is not positive definite\n",
            "\n",
            " -- An error occurred: 1-th leading minor of the array is not positive definite\n",
            "\n",
            " -- An error occurred: 4-th leading minor of the array is not positive definite\n",
            "\n",
            " -- An error occurred: 1-th leading minor of the array is not positive definite\n",
            "\n",
            " -- An error occurred: 3-th leading minor of the array is not positive definite\n",
            "\n",
            " -- An error occurred: 3-th leading minor of the array is not positive definite\n"
          ]
        },
        {
          "output_type": "stream",
          "name": "stderr",
          "text": [
            "Processing:  36%|███▌      | 718/2000 [00:49<00:53, 23.99iteration/s]"
          ]
        },
        {
          "output_type": "stream",
          "name": "stdout",
          "text": [
            "\n",
            " -- An error occurred: 1-th leading minor of the array is not positive definite\n",
            "\n",
            " -- An error occurred: 2-th leading minor of the array is not positive definite\n"
          ]
        },
        {
          "output_type": "stream",
          "name": "stderr",
          "text": [
            "Processing:  36%|███▌      | 724/2000 [00:50<01:02, 20.25iteration/s]"
          ]
        },
        {
          "output_type": "stream",
          "name": "stdout",
          "text": [
            "\n",
            " -- An error occurred: 2-th leading minor of the array is not positive definite\n"
          ]
        },
        {
          "output_type": "stream",
          "name": "stderr",
          "text": [
            "Processing:  37%|███▋      | 732/2000 [00:50<00:59, 21.13iteration/s]"
          ]
        },
        {
          "output_type": "stream",
          "name": "stdout",
          "text": [
            "\n",
            " -- An error occurred: 2-th leading minor of the array is not positive definite\n",
            "\n",
            " -- An error occurred: 2-th leading minor of the array is not positive definite\n",
            "\n",
            " -- An error occurred: 4-th leading minor of the array is not positive definite\n"
          ]
        },
        {
          "output_type": "stream",
          "name": "stderr",
          "text": [
            "Processing:  37%|███▋      | 738/2000 [00:50<01:07, 18.64iteration/s]"
          ]
        },
        {
          "output_type": "stream",
          "name": "stdout",
          "text": [
            "\n",
            " -- An error occurred: 3-th leading minor of the array is not positive definite\n",
            "\n",
            " -- An error occurred: 4-th leading minor of the array is not positive definite\n",
            "\n",
            " -- An error occurred: 3-th leading minor of the array is not positive definite\n"
          ]
        },
        {
          "output_type": "stream",
          "name": "stderr",
          "text": [
            "Processing:  38%|███▊      | 750/2000 [00:51<01:09, 17.88iteration/s]"
          ]
        },
        {
          "output_type": "stream",
          "name": "stdout",
          "text": [
            "\n",
            " -- An error occurred: 2-th leading minor of the array is not positive definite\n",
            "\n",
            " -- An error occurred: 1-th leading minor of the array is not positive definite\n",
            "\n",
            " -- An error occurred: 2-th leading minor of the array is not positive definite\n",
            "\n",
            " -- An error occurred: 2-th leading minor of the array is not positive definite\n",
            "\n",
            " -- An error occurred: 2-th leading minor of the array is not positive definite\n",
            "\n",
            " -- An error occurred: 4-th leading minor of the array is not positive definite\n",
            "\n",
            " -- An error occurred: 3-th leading minor of the array is not positive definite\n"
          ]
        },
        {
          "output_type": "stream",
          "name": "stderr",
          "text": [
            "Processing:  38%|███▊      | 763/2000 [00:51<00:45, 27.05iteration/s]"
          ]
        },
        {
          "output_type": "stream",
          "name": "stdout",
          "text": [
            "\n",
            " -- An error occurred: 2-th leading minor of the array is not positive definite\n",
            "\n",
            " -- An error occurred: 1-th leading minor of the array is not positive definite\n",
            "\n",
            " -- An error occurred: 1-th leading minor of the array is not positive definite\n",
            "\n",
            " -- An error occurred: 3-th leading minor of the array is not positive definite\n"
          ]
        },
        {
          "output_type": "stream",
          "name": "stderr",
          "text": [
            "\rProcessing:  38%|███▊      | 766/2000 [00:52<00:51, 23.96iteration/s]"
          ]
        },
        {
          "output_type": "stream",
          "name": "stdout",
          "text": [
            "\n",
            " -- An error occurred: 1-th leading minor of the array is not positive definite\n",
            "\n",
            " -- An error occurred: 4-th leading minor of the array is not positive definite\n"
          ]
        },
        {
          "output_type": "stream",
          "name": "stderr",
          "text": [
            "Processing:  39%|███▉      | 776/2000 [00:52<01:01, 19.75iteration/s]"
          ]
        },
        {
          "output_type": "stream",
          "name": "stdout",
          "text": [
            "\n",
            " -- An error occurred: 4-th leading minor of the array is not positive definite\n",
            "\n",
            " -- An error occurred: 3-th leading minor of the array is not positive definite\n"
          ]
        },
        {
          "output_type": "stream",
          "name": "stderr",
          "text": [
            "Processing:  39%|███▉      | 784/2000 [00:53<00:58, 20.67iteration/s]"
          ]
        },
        {
          "output_type": "stream",
          "name": "stdout",
          "text": [
            "\n",
            " -- An error occurred: 5-th leading minor of the array is not positive definite\n",
            "\n",
            " -- An error occurred: 1-th leading minor of the array is not positive definite\n",
            "\n",
            " -- An error occurred: 2-th leading minor of the array is not positive definite\n"
          ]
        },
        {
          "output_type": "stream",
          "name": "stderr",
          "text": [
            "Processing:  40%|███▉      | 790/2000 [00:53<01:11, 16.97iteration/s]"
          ]
        },
        {
          "output_type": "stream",
          "name": "stdout",
          "text": [
            "\n",
            " -- An error occurred: 5-th leading minor of the array is not positive definite\n"
          ]
        },
        {
          "output_type": "stream",
          "name": "stderr",
          "text": [
            "\rProcessing:  40%|███▉      | 793/2000 [00:53<01:09, 17.38iteration/s]"
          ]
        },
        {
          "output_type": "stream",
          "name": "stdout",
          "text": [
            "\n",
            " -- An error occurred: 3-th leading minor of the array is not positive definite\n",
            "\n",
            " -- An error occurred: 2-th leading minor of the array is not positive definite\n"
          ]
        },
        {
          "output_type": "stream",
          "name": "stderr",
          "text": [
            "Processing:  40%|████      | 802/2000 [00:54<01:01, 19.53iteration/s]"
          ]
        },
        {
          "output_type": "stream",
          "name": "stdout",
          "text": [
            "\n",
            " -- An error occurred: 3-th leading minor of the array is not positive definite\n",
            "\n",
            " -- An error occurred: 2-th leading minor of the array is not positive definite\n",
            "\n",
            " -- An error occurred: 1-th leading minor of the array is not positive definite\n"
          ]
        },
        {
          "output_type": "stream",
          "name": "stderr",
          "text": [
            "\rProcessing:  40%|████      | 804/2000 [00:54<01:12, 16.57iteration/s]"
          ]
        },
        {
          "output_type": "stream",
          "name": "stdout",
          "text": [
            "\n",
            " -- An error occurred: 6-th leading minor of the array is not positive definite\n",
            "\n",
            " -- An error occurred: 5-th leading minor of the array is not positive definite\n",
            "\n",
            " -- An error occurred: 1-th leading minor of the array is not positive definite\n",
            "\n",
            " -- An error occurred: 3-th leading minor of the array is not positive definite\n",
            "\n",
            " -- An error occurred: 2-th leading minor of the array is not positive definite\n",
            "\n",
            " -- An error occurred: 3-th leading minor of the array is not positive definite\n"
          ]
        },
        {
          "output_type": "stream",
          "name": "stderr",
          "text": [
            "Processing:  41%|████      | 818/2000 [00:55<01:33, 12.64iteration/s]"
          ]
        },
        {
          "output_type": "stream",
          "name": "stdout",
          "text": [
            "\n",
            " -- An error occurred: 3-th leading minor of the array is not positive definite\n",
            "\n",
            " -- An error occurred: 1-th leading minor of the array is not positive definite\n"
          ]
        },
        {
          "output_type": "stream",
          "name": "stderr",
          "text": [
            "\rProcessing:  41%|████      | 820/2000 [00:55<01:30, 13.08iteration/s]"
          ]
        },
        {
          "output_type": "stream",
          "name": "stdout",
          "text": [
            "\n",
            " -- An error occurred: 1-th leading minor of the array is not positive definite\n"
          ]
        },
        {
          "output_type": "stream",
          "name": "stderr",
          "text": [
            "Processing:  41%|████      | 824/2000 [00:56<01:58,  9.97iteration/s]"
          ]
        },
        {
          "output_type": "stream",
          "name": "stdout",
          "text": [
            "\n",
            " -- An error occurred: 1-th leading minor of the array is not positive definite\n"
          ]
        },
        {
          "output_type": "stream",
          "name": "stderr",
          "text": [
            "Processing:  42%|████▏     | 831/2000 [00:57<02:09,  9.06iteration/s]"
          ]
        },
        {
          "output_type": "stream",
          "name": "stdout",
          "text": [
            "\n",
            " -- An error occurred: 5-th leading minor of the array is not positive definite\n",
            "\n",
            " -- An error occurred: 5-th leading minor of the array is not positive definite\n",
            "\n",
            " -- An error occurred: 6-th leading minor of the array is not positive definite\n"
          ]
        },
        {
          "output_type": "stream",
          "name": "stderr",
          "text": [
            "Processing:  42%|████▏     | 836/2000 [00:57<01:41, 11.48iteration/s]"
          ]
        },
        {
          "output_type": "stream",
          "name": "stdout",
          "text": [
            "\n",
            " -- An error occurred: 3-th leading minor of the array is not positive definite\n"
          ]
        },
        {
          "output_type": "stream",
          "name": "stderr",
          "text": [
            "Processing:  42%|████▏     | 841/2000 [00:57<01:36, 12.05iteration/s]"
          ]
        },
        {
          "output_type": "stream",
          "name": "stdout",
          "text": [
            "\n",
            " -- An error occurred: 2-th leading minor of the array is not positive definite\n",
            "\n",
            " -- An error occurred: 3-th leading minor of the array is not positive definite\n",
            "\n",
            " -- An error occurred: 1-th leading minor of the array is not positive definite\n"
          ]
        },
        {
          "output_type": "stream",
          "name": "stderr",
          "text": [
            "Processing:  42%|████▏     | 846/2000 [00:58<01:24, 13.60iteration/s]"
          ]
        },
        {
          "output_type": "stream",
          "name": "stdout",
          "text": [
            "\n",
            " -- An error occurred: 3-th leading minor of the array is not positive definite\n",
            "\n",
            " -- An error occurred: 4-th leading minor of the array is not positive definite\n",
            "\n",
            " -- An error occurred: 2-th leading minor of the array is not positive definite\n"
          ]
        },
        {
          "output_type": "stream",
          "name": "stderr",
          "text": [
            "Processing:  43%|████▎     | 855/2000 [00:58<00:59, 19.25iteration/s]"
          ]
        },
        {
          "output_type": "stream",
          "name": "stdout",
          "text": [
            "\n",
            " -- An error occurred: 5-th leading minor of the array is not positive definite\n",
            "\n",
            " -- An error occurred: 4-th leading minor of the array is not positive definite\n",
            "\n",
            " -- An error occurred: 4-th leading minor of the array is not positive definite\n"
          ]
        },
        {
          "output_type": "stream",
          "name": "stderr",
          "text": [
            "Processing:  43%|████▎     | 864/2000 [00:59<01:10, 16.09iteration/s]"
          ]
        },
        {
          "output_type": "stream",
          "name": "stdout",
          "text": [
            "\n",
            " -- An error occurred: 1-th leading minor of the array is not positive definite\n"
          ]
        },
        {
          "output_type": "stream",
          "name": "stderr",
          "text": [
            "Processing:  44%|████▎     | 871/2000 [00:59<00:58, 19.15iteration/s]"
          ]
        },
        {
          "output_type": "stream",
          "name": "stdout",
          "text": [
            "\n",
            " -- An error occurred: 4-th leading minor of the array is not positive definite\n",
            "\n",
            " -- An error occurred: 5-th leading minor of the array is not positive definite\n",
            "\n",
            " -- An error occurred: 5-th leading minor of the array is not positive definite\n"
          ]
        },
        {
          "output_type": "stream",
          "name": "stderr",
          "text": [
            "Processing:  44%|████▍     | 882/2000 [01:00<00:55, 20.26iteration/s]"
          ]
        },
        {
          "output_type": "stream",
          "name": "stdout",
          "text": [
            "\n",
            " -- An error occurred: 2-th leading minor of the array is not positive definite\n",
            "\n",
            " -- An error occurred: 1-th leading minor of the array is not positive definite\n",
            "\n",
            " -- An error occurred: 1-th leading minor of the array is not positive definite\n",
            "\n",
            " -- An error occurred: 6-th leading minor of the array is not positive definite\n",
            "\n",
            " -- An error occurred: 2-th leading minor of the array is not positive definite\n"
          ]
        },
        {
          "output_type": "stream",
          "name": "stderr",
          "text": [
            "\rProcessing:  44%|████▍     | 887/2000 [01:00<00:48, 23.06iteration/s]"
          ]
        },
        {
          "output_type": "stream",
          "name": "stdout",
          "text": [
            "\n",
            " -- An error occurred: 6-th leading minor of the array is not positive definite\n",
            "\n",
            " -- An error occurred: 2-th leading minor of the array is not positive definite\n",
            "\n",
            " -- An error occurred: 3-th leading minor of the array is not positive definite\n",
            "\n",
            " -- An error occurred: 5-th leading minor of the array is not positive definite\n"
          ]
        },
        {
          "output_type": "stream",
          "name": "stderr",
          "text": [
            "Processing:  45%|████▍     | 895/2000 [01:00<00:50, 22.03iteration/s]"
          ]
        },
        {
          "output_type": "stream",
          "name": "stdout",
          "text": [
            "\n",
            " -- An error occurred: 1-th leading minor of the array is not positive definite\n",
            "\n",
            " -- An error occurred: 1-th leading minor of the array is not positive definite\n",
            "\n",
            " -- An error occurred: 1-th leading minor of the array is not positive definite\n",
            "\n",
            " -- An error occurred: 3-th leading minor of the array is not positive definite\n"
          ]
        },
        {
          "output_type": "stream",
          "name": "stderr",
          "text": [
            "Processing:  45%|████▌     | 905/2000 [01:00<00:43, 25.15iteration/s]"
          ]
        },
        {
          "output_type": "stream",
          "name": "stdout",
          "text": [
            "\n",
            " -- An error occurred: 6-th leading minor of the array is not positive definite\n",
            "\n",
            " -- An error occurred: 2-th leading minor of the array is not positive definite\n",
            "\n",
            " -- An error occurred: 1-th leading minor of the array is not positive definite\n"
          ]
        },
        {
          "output_type": "stream",
          "name": "stderr",
          "text": [
            "Processing:  46%|████▌     | 914/2000 [01:01<00:55, 19.41iteration/s]"
          ]
        },
        {
          "output_type": "stream",
          "name": "stdout",
          "text": [
            "\n",
            " -- An error occurred: 1-th leading minor of the array is not positive definite\n",
            "\n",
            " -- An error occurred: 1-th leading minor of the array is not positive definite\n",
            "\n",
            " -- An error occurred: 1-th leading minor of the array is not positive definite\n",
            "\n",
            " -- An error occurred: 1-th leading minor of the array is not positive definite\n",
            "\n",
            " -- An error occurred: 1-th leading minor of the array is not positive definite\n",
            "\n",
            " -- An error occurred: 4-th leading minor of the array is not positive definite\n",
            "\n",
            " -- An error occurred: 1-th leading minor of the array is not positive definite\n",
            "\n",
            " -- An error occurred: 1-th leading minor of the array is not positive definite\n",
            "\n",
            " -- An error occurred: 1-th leading minor of the array is not positive definite\n"
          ]
        },
        {
          "output_type": "stream",
          "name": "stderr",
          "text": [
            "Processing:  46%|████▋     | 926/2000 [01:01<00:37, 28.59iteration/s]"
          ]
        },
        {
          "output_type": "stream",
          "name": "stdout",
          "text": [
            "\n",
            " -- An error occurred: 2-th leading minor of the array is not positive definite\n",
            "\n",
            " -- An error occurred: 1-th leading minor of the array is not positive definite\n",
            "\n",
            " -- An error occurred: 1-th leading minor of the array is not positive definite\n",
            "\n",
            " -- An error occurred: 1-th leading minor of the array is not positive definite\n"
          ]
        },
        {
          "output_type": "stream",
          "name": "stderr",
          "text": [
            "Processing:  47%|████▋     | 933/2000 [01:02<00:43, 24.31iteration/s]"
          ]
        },
        {
          "output_type": "stream",
          "name": "stdout",
          "text": [
            "\n",
            " -- An error occurred: 3-th leading minor of the array is not positive definite\n",
            "\n",
            " -- An error occurred: 1-th leading minor of the array is not positive definite\n",
            "\n",
            " -- An error occurred: 5-th leading minor of the array is not positive definite\n"
          ]
        },
        {
          "output_type": "stream",
          "name": "stderr",
          "text": [
            "Processing:  47%|████▋     | 943/2000 [01:02<00:52, 20.25iteration/s]"
          ]
        },
        {
          "output_type": "stream",
          "name": "stdout",
          "text": [
            "\n",
            " -- An error occurred: 1-th leading minor of the array is not positive definite\n",
            "\n",
            " -- An error occurred: 4-th leading minor of the array is not positive definite\n"
          ]
        },
        {
          "output_type": "stream",
          "name": "stderr",
          "text": [
            "\rProcessing:  47%|████▋     | 947/2000 [01:02<00:48, 21.52iteration/s]"
          ]
        },
        {
          "output_type": "stream",
          "name": "stdout",
          "text": [
            "\n",
            " -- An error occurred: 2-th leading minor of the array is not positive definite\n",
            "\n",
            " -- An error occurred: 3-th leading minor of the array is not positive definite\n",
            "\n",
            " -- An error occurred: 1-th leading minor of the array is not positive definite\n",
            "\n",
            " -- An error occurred: 2-th leading minor of the array is not positive definite\n"
          ]
        },
        {
          "output_type": "stream",
          "name": "stderr",
          "text": [
            "Processing:  48%|████▊     | 955/2000 [01:03<00:44, 23.64iteration/s]"
          ]
        },
        {
          "output_type": "stream",
          "name": "stdout",
          "text": [
            "\n",
            " -- An error occurred: 3-th leading minor of the array is not positive definite\n",
            "\n",
            " -- An error occurred: 2-th leading minor of the array is not positive definite\n",
            "\n",
            " -- An error occurred: 6-th leading minor of the array is not positive definite\n",
            "\n",
            " -- An error occurred: 1-th leading minor of the array is not positive definite\n"
          ]
        },
        {
          "output_type": "stream",
          "name": "stderr",
          "text": [
            "Processing:  48%|████▊     | 966/2000 [01:03<00:50, 20.58iteration/s]"
          ]
        },
        {
          "output_type": "stream",
          "name": "stdout",
          "text": [
            "\n",
            " -- An error occurred: 2-th leading minor of the array is not positive definite\n",
            "\n",
            " -- An error occurred: 4-th leading minor of the array is not positive definite\n",
            "\n",
            " -- An error occurred: 5-th leading minor of the array is not positive definite\n",
            "\n",
            " -- An error occurred: 1-th leading minor of the array is not positive definite\n",
            "\n",
            " -- An error occurred: 2-th leading minor of the array is not positive definite\n"
          ]
        },
        {
          "output_type": "stream",
          "name": "stderr",
          "text": [
            "Processing:  49%|████▉     | 977/2000 [01:04<00:47, 21.72iteration/s]"
          ]
        },
        {
          "output_type": "stream",
          "name": "stdout",
          "text": [
            "\n",
            " -- An error occurred: 3-th leading minor of the array is not positive definite\n",
            "\n",
            " -- An error occurred: 6-th leading minor of the array is not positive definite\n"
          ]
        },
        {
          "output_type": "stream",
          "name": "stderr",
          "text": [
            "\rProcessing:  49%|████▉     | 980/2000 [01:04<00:51, 20.00iteration/s]"
          ]
        },
        {
          "output_type": "stream",
          "name": "stdout",
          "text": [
            "\n",
            " -- An error occurred: 5-th leading minor of the array is not positive definite\n",
            "\n",
            " -- An error occurred: 1-th leading minor of the array is not positive definite\n",
            "\n",
            " -- An error occurred: 5-th leading minor of the array is not positive definite\n"
          ]
        },
        {
          "output_type": "stream",
          "name": "stderr",
          "text": [
            "Processing:  50%|████▉     | 992/2000 [01:05<00:59, 16.99iteration/s]"
          ]
        },
        {
          "output_type": "stream",
          "name": "stdout",
          "text": [
            "\n",
            " -- An error occurred: 2-th leading minor of the array is not positive definite\n",
            "\n",
            " -- An error occurred: 1-th leading minor of the array is not positive definite\n",
            "\n",
            " -- An error occurred: 1-th leading minor of the array is not positive definite\n",
            "\n",
            " -- An error occurred: 1-th leading minor of the array is not positive definite\n",
            "\n",
            " -- An error occurred: 2-th leading minor of the array is not positive definite\n"
          ]
        },
        {
          "output_type": "stream",
          "name": "stderr",
          "text": [
            "Processing:  50%|█████     | 1000/2000 [01:05<00:47, 20.91iteration/s]"
          ]
        },
        {
          "output_type": "stream",
          "name": "stdout",
          "text": [
            "\n",
            " -- An error occurred: 2-th leading minor of the array is not positive definite\n",
            "\n",
            " -- An error occurred: 5-th leading minor of the array is not positive definite\n"
          ]
        },
        {
          "output_type": "stream",
          "name": "stderr",
          "text": [
            "Processing:  50%|█████     | 1006/2000 [01:05<00:49, 20.10iteration/s]"
          ]
        },
        {
          "output_type": "stream",
          "name": "stdout",
          "text": [
            "\n",
            " -- An error occurred: 2-th leading minor of the array is not positive definite\n"
          ]
        },
        {
          "output_type": "stream",
          "name": "stderr",
          "text": [
            "\rProcessing:  50%|█████     | 1009/2000 [01:05<00:49, 19.88iteration/s]"
          ]
        },
        {
          "output_type": "stream",
          "name": "stdout",
          "text": [
            "\n",
            " -- An error occurred: 1-th leading minor of the array is not positive definite\n"
          ]
        },
        {
          "output_type": "stream",
          "name": "stderr",
          "text": [
            "Processing:  51%|█████     | 1015/2000 [01:06<00:55, 17.83iteration/s]"
          ]
        },
        {
          "output_type": "stream",
          "name": "stdout",
          "text": [
            "\n",
            " -- An error occurred: 6-th leading minor of the array is not positive definite\n"
          ]
        },
        {
          "output_type": "stream",
          "name": "stderr",
          "text": [
            "Processing:  51%|█████     | 1022/2000 [01:06<00:46, 21.04iteration/s]"
          ]
        },
        {
          "output_type": "stream",
          "name": "stdout",
          "text": [
            "\n",
            " -- An error occurred: 2-th leading minor of the array is not positive definite\n",
            "\n",
            " -- An error occurred: 2-th leading minor of the array is not positive definite\n",
            "\n",
            " -- An error occurred: 3-th leading minor of the array is not positive definite\n",
            "\n",
            " -- An error occurred: 4-th leading minor of the array is not positive definite\n",
            "\n",
            " -- An error occurred: 4-th leading minor of the array is not positive definite\n",
            "\n",
            " -- An error occurred: 2-th leading minor of the array is not positive definite\n",
            "\n",
            " -- An error occurred: 2-th leading minor of the array is not positive definite\n",
            "\n",
            " -- An error occurred: 2-th leading minor of the array is not positive definite\n"
          ]
        },
        {
          "output_type": "stream",
          "name": "stderr",
          "text": [
            "Processing:  52%|█████▏    | 1032/2000 [01:06<00:40, 23.89iteration/s]"
          ]
        },
        {
          "output_type": "stream",
          "name": "stdout",
          "text": [
            "\n",
            " -- An error occurred: 2-th leading minor of the array is not positive definite\n",
            "\n",
            " -- An error occurred: 4-th leading minor of the array is not positive definite\n"
          ]
        },
        {
          "output_type": "stream",
          "name": "stderr",
          "text": [
            "Processing:  52%|█████▏    | 1038/2000 [01:07<00:45, 20.97iteration/s]"
          ]
        },
        {
          "output_type": "stream",
          "name": "stdout",
          "text": [
            "\n",
            " -- An error occurred: 2-th leading minor of the array is not positive definite\n"
          ]
        },
        {
          "output_type": "stream",
          "name": "stderr",
          "text": [
            "\rProcessing:  52%|█████▏    | 1041/2000 [01:07<00:47, 20.13iteration/s]"
          ]
        },
        {
          "output_type": "stream",
          "name": "stdout",
          "text": [
            "\n",
            " -- An error occurred: 4-th leading minor of the array is not positive definite\n",
            "\n",
            " -- An error occurred: 2-th leading minor of the array is not positive definite\n"
          ]
        },
        {
          "output_type": "stream",
          "name": "stderr",
          "text": [
            "Processing:  53%|█████▎    | 1052/2000 [01:08<01:10, 13.51iteration/s]"
          ]
        },
        {
          "output_type": "stream",
          "name": "stdout",
          "text": [
            "\n",
            " -- An error occurred: 2-th leading minor of the array is not positive definite\n",
            "\n",
            " -- An error occurred: 4-th leading minor of the array is not positive definite\n"
          ]
        },
        {
          "output_type": "stream",
          "name": "stderr",
          "text": [
            "\rProcessing:  53%|█████▎    | 1054/2000 [01:08<01:08, 13.76iteration/s]"
          ]
        },
        {
          "output_type": "stream",
          "name": "stdout",
          "text": [
            "\n",
            " -- An error occurred: 1-th leading minor of the array is not positive definite\n"
          ]
        },
        {
          "output_type": "stream",
          "name": "stderr",
          "text": [
            "Processing:  53%|█████▎    | 1058/2000 [01:08<01:19, 11.90iteration/s]"
          ]
        },
        {
          "output_type": "stream",
          "name": "stdout",
          "text": [
            "\n",
            " -- An error occurred: 6-th leading minor of the array is not positive definite\n"
          ]
        },
        {
          "output_type": "stream",
          "name": "stderr",
          "text": [
            "Processing:  53%|█████▎    | 1062/2000 [01:09<01:17, 12.12iteration/s]"
          ]
        },
        {
          "output_type": "stream",
          "name": "stdout",
          "text": [
            "\n",
            " -- An error occurred: 1-th leading minor of the array is not positive definite\n",
            "\n",
            " -- An error occurred: 4-th leading minor of the array is not positive definite\n",
            "\n",
            " -- An error occurred: 1-th leading minor of the array is not positive definite\n",
            "\n",
            " -- An error occurred: 4-th leading minor of the array is not positive definite\n"
          ]
        },
        {
          "output_type": "stream",
          "name": "stderr",
          "text": [
            "Processing:  53%|█████▎    | 1069/2000 [01:09<01:08, 13.67iteration/s]"
          ]
        },
        {
          "output_type": "stream",
          "name": "stdout",
          "text": [
            "\n",
            " -- An error occurred: 1-th leading minor of the array is not positive definite\n",
            "\n",
            " -- An error occurred: 1-th leading minor of the array is not positive definite\n"
          ]
        },
        {
          "output_type": "stream",
          "name": "stderr",
          "text": [
            "Processing:  54%|█████▎    | 1073/2000 [01:09<01:07, 13.70iteration/s]"
          ]
        },
        {
          "output_type": "stream",
          "name": "stdout",
          "text": [
            "\n",
            " -- An error occurred: 3-th leading minor of the array is not positive definite\n",
            "\n",
            " -- An error occurred: 1-th leading minor of the array is not positive definite\n"
          ]
        },
        {
          "output_type": "stream",
          "name": "stderr",
          "text": [
            "\rProcessing:  54%|█████▍    | 1075/2000 [01:10<01:13, 12.51iteration/s]"
          ]
        },
        {
          "output_type": "stream",
          "name": "stdout",
          "text": [
            "\n",
            " -- An error occurred: 1-th leading minor of the array is not positive definite\n"
          ]
        },
        {
          "output_type": "stream",
          "name": "stderr",
          "text": [
            "Processing:  54%|█████▍    | 1079/2000 [01:10<01:30, 10.21iteration/s]"
          ]
        },
        {
          "output_type": "stream",
          "name": "stdout",
          "text": [
            "\n",
            " -- An error occurred: 2-th leading minor of the array is not positive definite\n"
          ]
        },
        {
          "output_type": "stream",
          "name": "stderr",
          "text": [
            "\rProcessing:  54%|█████▍    | 1081/2000 [01:10<01:26, 10.65iteration/s]"
          ]
        },
        {
          "output_type": "stream",
          "name": "stdout",
          "text": [
            "\n",
            " -- An error occurred: 1-th leading minor of the array is not positive definite\n"
          ]
        },
        {
          "output_type": "stream",
          "name": "stderr",
          "text": [
            "Processing:  54%|█████▍    | 1088/2000 [01:11<01:26, 10.56iteration/s]"
          ]
        },
        {
          "output_type": "stream",
          "name": "stdout",
          "text": [
            "\n",
            " -- An error occurred: 1-th leading minor of the array is not positive definite\n",
            "\n",
            " -- An error occurred: 2-th leading minor of the array is not positive definite\n",
            "\n",
            " -- An error occurred: 2-th leading minor of the array is not positive definite\n"
          ]
        },
        {
          "output_type": "stream",
          "name": "stderr",
          "text": [
            "\rProcessing:  55%|█████▍    | 1095/2000 [01:11<00:51, 17.59iteration/s]"
          ]
        },
        {
          "output_type": "stream",
          "name": "stdout",
          "text": [
            "\n",
            " -- An error occurred: 2-th leading minor of the array is not positive definite\n",
            "\n",
            " -- An error occurred: 2-th leading minor of the array is not positive definite\n",
            "\n",
            " -- An error occurred: 2-th leading minor of the array is not positive definite\n",
            "\n",
            " -- An error occurred: 1-th leading minor of the array is not positive definite\n",
            "\n",
            " -- An error occurred: 3-th leading minor of the array is not positive definite\n"
          ]
        },
        {
          "output_type": "stream",
          "name": "stderr",
          "text": [
            "Processing:  55%|█████▌    | 1102/2000 [01:12<01:05, 13.63iteration/s]"
          ]
        },
        {
          "output_type": "stream",
          "name": "stdout",
          "text": [
            "\n",
            " -- An error occurred: 1-th leading minor of the array is not positive definite\n",
            "\n",
            " -- An error occurred: 5-th leading minor of the array is not positive definite\n",
            "\n",
            " -- An error occurred: 3-th leading minor of the array is not positive definite\n",
            "\n",
            " -- An error occurred: 2-th leading minor of the array is not positive definite\n"
          ]
        },
        {
          "output_type": "stream",
          "name": "stderr",
          "text": [
            "Processing:  56%|█████▌    | 1110/2000 [01:12<00:47, 18.88iteration/s]"
          ]
        },
        {
          "output_type": "stream",
          "name": "stdout",
          "text": [
            "\n",
            " -- An error occurred: 4-th leading minor of the array is not positive definite\n",
            "\n",
            " -- An error occurred: 1-th leading minor of the array is not positive definite\n",
            "\n",
            " -- An error occurred: 1-th leading minor of the array is not positive definite\n"
          ]
        },
        {
          "output_type": "stream",
          "name": "stderr",
          "text": [
            "Processing:  56%|█████▌    | 1123/2000 [01:13<00:28, 31.04iteration/s]"
          ]
        },
        {
          "output_type": "stream",
          "name": "stdout",
          "text": [
            "\n",
            " -- An error occurred: 1-th leading minor of the array is not positive definite\n",
            "\n",
            " -- An error occurred: 6-th leading minor of the array is not positive definite\n",
            "\n",
            " -- An error occurred: 4-th leading minor of the array is not positive definite\n",
            "\n",
            " -- An error occurred: 3-th leading minor of the array is not positive definite\n",
            "\n",
            " -- An error occurred: 2-th leading minor of the array is not positive definite\n",
            "\n",
            " -- An error occurred: 6-th leading minor of the array is not positive definite\n",
            "\n",
            " -- An error occurred: 1-th leading minor of the array is not positive definite\n",
            "\n",
            " -- An error occurred: 5-th leading minor of the array is not positive definite\n"
          ]
        },
        {
          "output_type": "stream",
          "name": "stderr",
          "text": [
            "Processing:  56%|█████▋    | 1130/2000 [01:13<00:35, 24.56iteration/s]"
          ]
        },
        {
          "output_type": "stream",
          "name": "stdout",
          "text": [
            "\n",
            " -- An error occurred: 3-th leading minor of the array is not positive definite\n",
            "\n",
            " -- An error occurred: 3-th leading minor of the array is not positive definite\n",
            "\n",
            " -- An error occurred: 3-th leading minor of the array is not positive definite\n"
          ]
        },
        {
          "output_type": "stream",
          "name": "stderr",
          "text": [
            "Processing:  57%|█████▋    | 1148/2000 [01:14<00:32, 25.85iteration/s]"
          ]
        },
        {
          "output_type": "stream",
          "name": "stdout",
          "text": [
            "\n",
            " -- An error occurred: 2-th leading minor of the array is not positive definite\n",
            "\n",
            " -- An error occurred: 4-th leading minor of the array is not positive definite\n",
            "\n",
            " -- An error occurred: 3-th leading minor of the array is not positive definite\n",
            "\n",
            " -- An error occurred: 1-th leading minor of the array is not positive definite\n",
            "\n",
            " -- An error occurred: 5-th leading minor of the array is not positive definite\n",
            "\n",
            " -- An error occurred: 4-th leading minor of the array is not positive definite\n",
            "\n",
            " -- An error occurred: 3-th leading minor of the array is not positive definite\n"
          ]
        },
        {
          "output_type": "stream",
          "name": "stderr",
          "text": [
            "\rProcessing:  58%|█████▊    | 1152/2000 [01:14<00:34, 24.71iteration/s]"
          ]
        },
        {
          "output_type": "stream",
          "name": "stdout",
          "text": [
            "\n",
            " -- An error occurred: 4-th leading minor of the array is not positive definite\n",
            "\n",
            " -- An error occurred: 1-th leading minor of the array is not positive definite\n"
          ]
        },
        {
          "output_type": "stream",
          "name": "stderr",
          "text": [
            "Processing:  58%|█████▊    | 1164/2000 [01:15<00:34, 24.38iteration/s]"
          ]
        },
        {
          "output_type": "stream",
          "name": "stdout",
          "text": [
            "\n",
            " -- An error occurred: 4-th leading minor of the array is not positive definite\n",
            "\n",
            " -- An error occurred: 2-th leading minor of the array is not positive definite\n",
            "\n",
            " -- An error occurred: 6-th leading minor of the array is not positive definite\n",
            "\n",
            " -- An error occurred: 6-th leading minor of the array is not positive definite\n",
            "\n",
            " -- An error occurred: 1-th leading minor of the array is not positive definite\n"
          ]
        },
        {
          "output_type": "stream",
          "name": "stderr",
          "text": [
            "Processing:  58%|█████▊    | 1170/2000 [01:15<00:42, 19.61iteration/s]"
          ]
        },
        {
          "output_type": "stream",
          "name": "stdout",
          "text": [
            "\n",
            " -- An error occurred: 6-th leading minor of the array is not positive definite\n",
            "\n",
            " -- An error occurred: 2-th leading minor of the array is not positive definite\n"
          ]
        },
        {
          "output_type": "stream",
          "name": "stderr",
          "text": [
            "Processing:  59%|█████▉    | 1176/2000 [01:15<00:40, 20.54iteration/s]"
          ]
        },
        {
          "output_type": "stream",
          "name": "stdout",
          "text": [
            "\n",
            " -- An error occurred: 2-th leading minor of the array is not positive definite\n",
            "\n",
            " -- An error occurred: 3-th leading minor of the array is not positive definite\n",
            "\n",
            " -- An error occurred: 4-th leading minor of the array is not positive definite\n",
            "\n",
            " -- An error occurred: 1-th leading minor of the array is not positive definite\n"
          ]
        },
        {
          "output_type": "stream",
          "name": "stderr",
          "text": [
            "Processing:  59%|█████▉    | 1184/2000 [01:16<00:34, 23.95iteration/s]"
          ]
        },
        {
          "output_type": "stream",
          "name": "stdout",
          "text": [
            "\n",
            " -- An error occurred: 1-th leading minor of the array is not positive definite\n",
            "\n",
            " -- An error occurred: 3-th leading minor of the array is not positive definite"
          ]
        },
        {
          "output_type": "stream",
          "name": "stderr",
          "text": [
            "Processing:  60%|█████▉    | 1190/2000 [01:16<00:35, 22.87iteration/s]"
          ]
        },
        {
          "output_type": "stream",
          "name": "stdout",
          "text": [
            "\n",
            "\n",
            " -- An error occurred: 1-th leading minor of the array is not positive definite\n"
          ]
        },
        {
          "output_type": "stream",
          "name": "stderr",
          "text": [
            "\rProcessing:  60%|█████▉    | 1193/2000 [01:16<00:40, 19.96iteration/s]"
          ]
        },
        {
          "output_type": "stream",
          "name": "stdout",
          "text": [
            "\n",
            " -- An error occurred: 1-th leading minor of the array is not positive definite\n",
            "\n",
            " -- An error occurred: 3-th leading minor of the array is not positive definite\n"
          ]
        },
        {
          "output_type": "stream",
          "name": "stderr",
          "text": [
            "Processing:  60%|██████    | 1203/2000 [01:16<00:37, 21.38iteration/s]"
          ]
        },
        {
          "output_type": "stream",
          "name": "stdout",
          "text": [
            "\n",
            " -- An error occurred: 4-th leading minor of the array is not positive definite\n",
            "\n",
            " -- An error occurred: 2-th leading minor of the array is not positive definite\n",
            "\n",
            " -- An error occurred: 5-th leading minor of the array is not positive definite\n"
          ]
        },
        {
          "output_type": "stream",
          "name": "stderr",
          "text": [
            "\rProcessing:  60%|██████    | 1206/2000 [01:17<00:38, 20.89iteration/s]"
          ]
        },
        {
          "output_type": "stream",
          "name": "stdout",
          "text": [
            "\n",
            " -- An error occurred: 1-th leading minor of the array is not positive definite\n",
            "\n",
            " -- An error occurred: 3-th leading minor of the array is not positive definite\n",
            "\n",
            " -- An error occurred: 3-th leading minor of the array is not positive definite\n"
          ]
        },
        {
          "output_type": "stream",
          "name": "stderr",
          "text": [
            "Processing:  61%|██████    | 1224/2000 [01:18<00:37, 20.89iteration/s]"
          ]
        },
        {
          "output_type": "stream",
          "name": "stdout",
          "text": [
            "\n",
            " -- An error occurred: 2-th leading minor of the array is not positive definite\n",
            "\n",
            " -- An error occurred: 2-th leading minor of the array is not positive definite\n",
            "\n",
            " -- An error occurred: 5-th leading minor of the array is not positive definite\n"
          ]
        },
        {
          "output_type": "stream",
          "name": "stderr",
          "text": [
            "\rProcessing:  61%|██████▏   | 1228/2000 [01:18<00:34, 22.52iteration/s]"
          ]
        },
        {
          "output_type": "stream",
          "name": "stdout",
          "text": [
            "\n",
            " -- An error occurred: 2-th leading minor of the array is not positive definite\n",
            "\n",
            " -- An error occurred: 4-th leading minor of the array is not positive definite\n",
            "\n",
            " -- An error occurred: 2-th leading minor of the array is not positive definite\n",
            "\n",
            " -- An error occurred: 1-th leading minor of the array is not positive definite\n",
            "\n",
            " -- An error occurred: 3-th leading minor of the array is not positive definite\n"
          ]
        },
        {
          "output_type": "stream",
          "name": "stderr",
          "text": [
            "Processing:  62%|██████▏   | 1236/2000 [01:18<00:31, 24.29iteration/s]"
          ]
        },
        {
          "output_type": "stream",
          "name": "stdout",
          "text": [
            "\n",
            " -- An error occurred: 4-th leading minor of the array is not positive definite\n"
          ]
        },
        {
          "output_type": "stream",
          "name": "stderr",
          "text": [
            "Processing:  62%|██████▏   | 1242/2000 [01:18<00:32, 23.26iteration/s]"
          ]
        },
        {
          "output_type": "stream",
          "name": "stdout",
          "text": [
            "\n",
            " -- An error occurred: 3-th leading minor of the array is not positive definite\n",
            "\n",
            " -- An error occurred: 1-th leading minor of the array is not positive definite\n",
            "\n",
            " -- An error occurred: 4-th leading minor of the array is not positive definite\n",
            "\n",
            " -- An error occurred: 6-th leading minor of the array is not positive definite\n",
            "\n",
            " -- An error occurred: 5-th leading minor of the array is not positive definite\n",
            "\n",
            " -- An error occurred: 1-th leading minor of the array is not positive definite\n",
            "\n",
            " -- An error occurred: 4-th leading minor of the array is not positive definite\n",
            "\n",
            " -- An error occurred: 6-th leading minor of the array is not positive definite\n"
          ]
        },
        {
          "output_type": "stream",
          "name": "stderr",
          "text": [
            "Processing:  63%|██████▎   | 1253/2000 [01:19<00:27, 27.37iteration/s]"
          ]
        },
        {
          "output_type": "stream",
          "name": "stdout",
          "text": [
            "\n",
            " -- An error occurred: 1-th leading minor of the array is not positive definite\n",
            "\n",
            " -- An error occurred: 2-th leading minor of the array is not positive definite"
          ]
        },
        {
          "output_type": "stream",
          "name": "stderr",
          "text": [
            "\rProcessing:  63%|██████▎   | 1257/2000 [01:19<00:27, 26.66iteration/s]"
          ]
        },
        {
          "output_type": "stream",
          "name": "stdout",
          "text": [
            "\n",
            "\n",
            " -- An error occurred: 7-th leading minor of the array is not positive definite\n",
            "\n",
            " -- An error occurred: 3-th leading minor of the array is not positive definite\n"
          ]
        },
        {
          "output_type": "stream",
          "name": "stderr",
          "text": [
            "\rProcessing:  63%|██████▎   | 1263/2000 [01:19<00:24, 29.74iteration/s]"
          ]
        },
        {
          "output_type": "stream",
          "name": "stdout",
          "text": [
            "\n",
            " -- An error occurred: 4-th leading minor of the array is not positive definite\n",
            "\n",
            " -- An error occurred: 1-th leading minor of the array is not positive definite\n",
            "\n",
            " -- An error occurred: 2-th leading minor of the array is not positive definite\n",
            "\n",
            " -- An error occurred: 4-th leading minor of the array is not positive definite\n",
            "\n",
            " -- An error occurred: 6-th leading minor of the array is not positive definite\n"
          ]
        },
        {
          "output_type": "stream",
          "name": "stderr",
          "text": [
            "Processing:  64%|██████▎   | 1270/2000 [01:19<00:27, 26.44iteration/s]"
          ]
        },
        {
          "output_type": "stream",
          "name": "stdout",
          "text": [
            "\n",
            " -- An error occurred: 2-th leading minor of the array is not positive definite\n"
          ]
        },
        {
          "output_type": "stream",
          "name": "stderr",
          "text": [
            "Processing:  64%|██████▍   | 1277/2000 [01:20<00:30, 23.91iteration/s]"
          ]
        },
        {
          "output_type": "stream",
          "name": "stdout",
          "text": [
            "\n",
            " -- An error occurred: 1-th leading minor of the array is not positive definite\n",
            "\n",
            " -- An error occurred: 2-th leading minor of the array is not positive definite\n",
            "\n",
            " -- An error occurred: 3-th leading minor of the array is not positive definite\n",
            "\n",
            " -- An error occurred: 3-th leading minor of the array is not positive definite\n"
          ]
        },
        {
          "output_type": "stream",
          "name": "stderr",
          "text": [
            "\rProcessing:  64%|██████▍   | 1282/2000 [01:20<00:27, 26.16iteration/s]"
          ]
        },
        {
          "output_type": "stream",
          "name": "stdout",
          "text": [
            "\n",
            " -- An error occurred: 5-th leading minor of the array is not positive definite\n",
            "\n",
            " -- An error occurred: 2-th leading minor of the array is not positive definite\n"
          ]
        },
        {
          "output_type": "stream",
          "name": "stderr",
          "text": [
            "Processing:  65%|██████▍   | 1291/2000 [01:20<00:30, 23.54iteration/s]"
          ]
        },
        {
          "output_type": "stream",
          "name": "stdout",
          "text": [
            "\n",
            " -- An error occurred: 1-th leading minor of the array is not positive definite\n",
            "\n",
            " -- An error occurred: 3-th leading minor of the array is not positive definite\n"
          ]
        },
        {
          "output_type": "stream",
          "name": "stderr",
          "text": [
            "Processing:  65%|██████▌   | 1303/2000 [01:20<00:19, 34.91iteration/s]"
          ]
        },
        {
          "output_type": "stream",
          "name": "stdout",
          "text": [
            "\n",
            " -- An error occurred: 2-th leading minor of the array is not positive definite\n",
            "\n",
            " -- An error occurred: 5-th leading minor of the array is not positive definite\n",
            "\n",
            " -- An error occurred: 3-th leading minor of the array is not positive definite\n",
            "\n",
            " -- An error occurred: 5-th leading minor of the array is not positive definite\n",
            "\n",
            " -- An error occurred: 4-th leading minor of the array is not positive definite\n",
            "\n",
            " -- An error occurred: 2-th leading minor of the array is not positive definite\n",
            "\n",
            " -- An error occurred: 3-th leading minor of the array is not positive definite\n",
            "\n",
            " -- An error occurred: 1-th leading minor of the array is not positive definite\n"
          ]
        },
        {
          "output_type": "stream",
          "name": "stderr",
          "text": [
            "Processing:  66%|██████▌   | 1312/2000 [01:21<00:23, 29.33iteration/s]"
          ]
        },
        {
          "output_type": "stream",
          "name": "stdout",
          "text": [
            "\n",
            " -- An error occurred: 4-th leading minor of the array is not positive definite\n",
            "\n",
            " -- An error occurred: 5-th leading minor of the array is not positive definite\n",
            "\n",
            " -- An error occurred: 2-th leading minor of the array is not positive definite\n",
            "\n",
            " -- An error occurred: 5-th leading minor of the array is not positive definite\n",
            "\n",
            " -- An error occurred: 4-th leading minor of the array is not positive definite\n",
            "\n",
            " -- An error occurred: 1-th leading minor of the array is not positive definite\n",
            "\n",
            " -- An error occurred: 3-th leading minor of the array is not positive definite\n"
          ]
        },
        {
          "output_type": "stream",
          "name": "stderr",
          "text": [
            "Processing:  66%|██████▌   | 1319/2000 [01:21<00:34, 19.91iteration/s]"
          ]
        },
        {
          "output_type": "stream",
          "name": "stdout",
          "text": [
            "\n",
            " -- An error occurred: 3-th leading minor of the array is not positive definite\n",
            "\n",
            " -- An error occurred: 3-th leading minor of the array is not positive definite\n",
            "\n",
            " -- An error occurred: 3-th leading minor of the array is not positive definite\n"
          ]
        },
        {
          "output_type": "stream",
          "name": "stderr",
          "text": [
            "Processing:  66%|██████▌   | 1324/2000 [01:22<00:51, 13.20iteration/s]"
          ]
        },
        {
          "output_type": "stream",
          "name": "stdout",
          "text": [
            "\n",
            " -- An error occurred: 4-th leading minor of the array is not positive definite\n",
            "\n",
            " -- An error occurred: 3-th leading minor of the array is not positive definite\n"
          ]
        },
        {
          "output_type": "stream",
          "name": "stderr",
          "text": [
            "Processing:  66%|██████▋   | 1328/2000 [01:22<00:47, 14.15iteration/s]"
          ]
        },
        {
          "output_type": "stream",
          "name": "stdout",
          "text": [
            "\n",
            " -- An error occurred: 2-th leading minor of the array is not positive definite\n"
          ]
        },
        {
          "output_type": "stream",
          "name": "stderr",
          "text": [
            "Processing:  67%|██████▋   | 1333/2000 [01:23<00:44, 15.06iteration/s]"
          ]
        },
        {
          "output_type": "stream",
          "name": "stdout",
          "text": [
            "\n",
            " -- An error occurred: 1-th leading minor of the array is not positive definite\n",
            "\n",
            " -- An error occurred: 5-th leading minor of the array is not positive definite\n",
            "\n",
            " -- An error occurred: 1-th leading minor of the array is not positive definite\n"
          ]
        },
        {
          "output_type": "stream",
          "name": "stderr",
          "text": [
            "Processing:  67%|██████▋   | 1339/2000 [01:23<01:02, 10.61iteration/s]"
          ]
        },
        {
          "output_type": "stream",
          "name": "stdout",
          "text": [
            "\n",
            " -- An error occurred: 5-th leading minor of the array is not positive definite\n",
            "\n",
            " -- An error occurred: 3-th leading minor of the array is not positive definite\n"
          ]
        },
        {
          "output_type": "stream",
          "name": "stderr",
          "text": [
            "\rProcessing:  67%|██████▋   | 1341/2000 [01:23<00:54, 12.12iteration/s]"
          ]
        },
        {
          "output_type": "stream",
          "name": "stdout",
          "text": [
            "\n",
            " -- An error occurred: 2-th leading minor of the array is not positive definite\n"
          ]
        },
        {
          "output_type": "stream",
          "name": "stderr",
          "text": [
            "Processing:  67%|██████▋   | 1345/2000 [01:24<01:07,  9.69iteration/s]"
          ]
        },
        {
          "output_type": "stream",
          "name": "stdout",
          "text": [
            "\n",
            " -- An error occurred: 1-th leading minor of the array is not positive definite\n",
            "\n",
            " -- An error occurred: 2-th leading minor of the array is not positive definite\n"
          ]
        },
        {
          "output_type": "stream",
          "name": "stderr",
          "text": [
            "Processing:  68%|██████▊   | 1354/2000 [01:24<00:33, 19.46iteration/s]"
          ]
        },
        {
          "output_type": "stream",
          "name": "stdout",
          "text": [
            "\n",
            " -- An error occurred: 4-th leading minor of the array is not positive definite\n",
            "\n",
            " -- An error occurred: 1-th leading minor of the array is not positive definite\n",
            "\n",
            " -- An error occurred: 5-th leading minor of the array is not positive definite\n",
            "\n",
            " -- An error occurred: 4-th leading minor of the array is not positive definite\n",
            "\n",
            " -- An error occurred: 1-th leading minor of the array is not positive definite\n"
          ]
        },
        {
          "output_type": "stream",
          "name": "stderr",
          "text": [
            "\rProcessing:  68%|██████▊   | 1357/2000 [01:24<00:34, 18.70iteration/s]"
          ]
        },
        {
          "output_type": "stream",
          "name": "stdout",
          "text": [
            "\n",
            " -- An error occurred: 2-th leading minor of the array is not positive definite\n",
            "\n",
            " -- An error occurred: 6-th leading minor of the array is not positive definite\n"
          ]
        },
        {
          "output_type": "stream",
          "name": "stderr",
          "text": [
            "Processing:  68%|██████▊   | 1369/2000 [01:25<00:21, 29.07iteration/s]"
          ]
        },
        {
          "output_type": "stream",
          "name": "stdout",
          "text": [
            "\n",
            " -- An error occurred: 4-th leading minor of the array is not positive definite\n",
            "\n",
            " -- An error occurred: 1-th leading minor of the array is not positive definite\n",
            "\n",
            " -- An error occurred: 1-th leading minor of the array is not positive definite\n",
            "\n",
            " -- An error occurred: 5-th leading minor of the array is not positive definite\n",
            "\n",
            " -- An error occurred: 7-th leading minor of the array is not positive definite\n",
            "\n",
            " -- An error occurred: 3-th leading minor of the array is not positive definite\n",
            "\n",
            " -- An error occurred: 4-th leading minor of the array is not positive definite\n",
            "\n",
            " -- An error occurred: 7-th leading minor of the array is not positive definite\n",
            "\n",
            " -- An error occurred: 2-th leading minor of the array is not positive definite\n"
          ]
        },
        {
          "output_type": "stream",
          "name": "stderr",
          "text": [
            "Processing:  69%|██████▉   | 1382/2000 [01:25<00:22, 27.88iteration/s]"
          ]
        },
        {
          "output_type": "stream",
          "name": "stdout",
          "text": [
            "\n",
            " -- An error occurred: 4-th leading minor of the array is not positive definite\n",
            "\n",
            " -- An error occurred: 3-th leading minor of the array is not positive definite\n",
            "\n",
            " -- An error occurred: 7-th leading minor of the array is not positive definite\n",
            "\n",
            " -- An error occurred: 4-th leading minor of the array is not positive definite\n",
            "\n",
            " -- An error occurred: 3-th leading minor of the array is not positive definite\n"
          ]
        },
        {
          "output_type": "stream",
          "name": "stderr",
          "text": [
            "Processing:  70%|██████▉   | 1392/2000 [01:25<00:19, 30.77iteration/s]"
          ]
        },
        {
          "output_type": "stream",
          "name": "stdout",
          "text": [
            "\n",
            " -- An error occurred: 2-th leading minor of the array is not positive definite\n",
            "\n",
            " -- An error occurred: 2-th leading minor of the array is not positive definite\n",
            "\n",
            " -- An error occurred: 2-th leading minor of the array is not positive definite\n",
            "\n",
            " -- An error occurred: 4-th leading minor of the array is not positive definite\n",
            "\n",
            " -- An error occurred: 2-th leading minor of the array is not positive definite\n",
            "\n",
            " -- An error occurred: 1-th leading minor of the array is not positive definite\n",
            "\n",
            " -- An error occurred: 3-th leading minor of the array is not positive definite\n",
            "\n",
            " -- An error occurred: 3-th leading minor of the array is not positive definite\n"
          ]
        },
        {
          "output_type": "stream",
          "name": "stderr",
          "text": [
            "\rProcessing:  70%|██████▉   | 1398/2000 [01:26<00:18, 32.78iteration/s]"
          ]
        },
        {
          "output_type": "stream",
          "name": "stdout",
          "text": [
            "\n",
            " -- An error occurred: 1-th leading minor of the array is not positive definite\n",
            "\n",
            " -- An error occurred: 1-th leading minor of the array is not positive definite\n",
            "\n",
            " -- An error occurred: 1-th leading minor of the array is not positive definite\n",
            "\n",
            " -- An error occurred: 2-th leading minor of the array is not positive definite\n",
            "\n",
            " -- An error occurred: 5-th leading minor of the array is not positive definite\n",
            "\n",
            " -- An error occurred: 4-th leading minor of the array is not positive definite\n",
            "\n",
            " -- An error occurred: 5-th leading minor of the array is not positive definite\n",
            "\n",
            " -- An error occurred: 2-th leading minor of the array is not positive definite\n"
          ]
        },
        {
          "output_type": "stream",
          "name": "stderr",
          "text": [
            "Processing:  71%|███████   | 1412/2000 [01:26<00:15, 38.61iteration/s]"
          ]
        },
        {
          "output_type": "stream",
          "name": "stdout",
          "text": [
            "\n",
            " -- An error occurred: 1-th leading minor of the array is not positive definite\n",
            "\n",
            " -- An error occurred: 2-th leading minor of the array is not positive definite\n",
            "\n",
            " -- An error occurred: 2-th leading minor of the array is not positive definite\n",
            "\n",
            " -- An error occurred: 3-th leading minor of the array is not positive definite\n"
          ]
        },
        {
          "output_type": "stream",
          "name": "stderr",
          "text": [
            "\rProcessing:  71%|███████   | 1417/2000 [01:26<00:15, 38.26iteration/s]"
          ]
        },
        {
          "output_type": "stream",
          "name": "stdout",
          "text": [
            "\n",
            " -- An error occurred: 8-th leading minor of the array is not positive definite\n",
            "\n",
            " -- An error occurred: 4-th leading minor of the array is not positive definite\n",
            "\n",
            " -- An error occurred: 1-th leading minor of the array is not positive definite\n",
            "\n",
            " -- An error occurred: 1-th leading minor of the array is not positive definite\n"
          ]
        },
        {
          "output_type": "stream",
          "name": "stderr",
          "text": [
            "Processing:  71%|███████▏  | 1425/2000 [01:26<00:17, 32.73iteration/s]"
          ]
        },
        {
          "output_type": "stream",
          "name": "stdout",
          "text": [
            "\n",
            " -- An error occurred: 4-th leading minor of the array is not positive definite\n",
            "\n",
            " -- An error occurred: 6-th leading minor of the array is not positive definite\n",
            "\n",
            " -- An error occurred: 3-th leading minor of the array is not positive definite\n",
            "\n",
            " -- An error occurred: 4-th leading minor of the array is not positive definite\n",
            "\n",
            " -- An error occurred: 4-th leading minor of the array is not positive definite\n",
            "\n",
            " -- An error occurred: 1-th leading minor of the array is not positive definite\n"
          ]
        },
        {
          "output_type": "stream",
          "name": "stderr",
          "text": [
            "Processing:  72%|███████▏  | 1435/2000 [01:27<00:17, 31.58iteration/s]"
          ]
        },
        {
          "output_type": "stream",
          "name": "stdout",
          "text": [
            "\n",
            " -- An error occurred: 2-th leading minor of the array is not positive definite\n",
            "\n",
            " -- An error occurred: 3-th leading minor of the array is not positive definite\n"
          ]
        },
        {
          "output_type": "stream",
          "name": "stderr",
          "text": [
            "\rProcessing:  72%|███████▏  | 1439/2000 [01:27<00:21, 25.77iteration/s]"
          ]
        },
        {
          "output_type": "stream",
          "name": "stdout",
          "text": [
            "\n",
            " -- An error occurred: 4-th leading minor of the array is not positive definite\n"
          ]
        },
        {
          "output_type": "stream",
          "name": "stderr",
          "text": [
            "Processing:  72%|███████▏  | 1446/2000 [01:27<00:23, 23.10iteration/s]"
          ]
        },
        {
          "output_type": "stream",
          "name": "stdout",
          "text": [
            "\n",
            " -- An error occurred: 8-th leading minor of the array is not positive definite\n",
            "\n",
            " -- An error occurred: 3-th leading minor of the array is not positive definite\n",
            "\n",
            " -- An error occurred: 7-th leading minor of the array is not positive definite\n",
            "\n",
            " -- An error occurred: 1-th leading minor of the array is not positive definite\n",
            "\n",
            " -- An error occurred: 5-th leading minor of the array is not positive definite\n"
          ]
        },
        {
          "output_type": "stream",
          "name": "stderr",
          "text": [
            "\rProcessing:  73%|███████▎  | 1452/2000 [01:27<00:19, 27.58iteration/s]"
          ]
        },
        {
          "output_type": "stream",
          "name": "stdout",
          "text": [
            "\n",
            " -- An error occurred: 6-th leading minor of the array is not positive definite\n",
            "\n",
            " -- An error occurred: 3-th leading minor of the array is not positive definite\n",
            "\n",
            " -- An error occurred: 1-th leading minor of the array is not positive definite\n",
            "\n",
            " -- An error occurred: 2-th leading minor of the array is not positive definite\n",
            "\n",
            " -- An error occurred: 2-th leading minor of the array is not positive definite\n"
          ]
        },
        {
          "output_type": "stream",
          "name": "stderr",
          "text": [
            "Processing:  73%|███████▎  | 1463/2000 [01:28<00:16, 32.32iteration/s]"
          ]
        },
        {
          "output_type": "stream",
          "name": "stdout",
          "text": [
            "\n",
            " -- An error occurred: 6-th leading minor of the array is not positive definite\n",
            "\n",
            " -- An error occurred: 4-th leading minor of the array is not positive definite\n",
            "\n",
            " -- An error occurred: 6-th leading minor of the array is not positive definite\n"
          ]
        },
        {
          "output_type": "stream",
          "name": "stderr",
          "text": [
            "Processing:  74%|███████▎  | 1470/2000 [01:28<00:20, 25.66iteration/s]"
          ]
        },
        {
          "output_type": "stream",
          "name": "stdout",
          "text": [
            "\n",
            " -- An error occurred: 1-th leading minor of the array is not positive definite\n",
            "\n",
            " -- An error occurred: 5-th leading minor of the array is not positive definite\n",
            "\n",
            " -- An error occurred: 4-th leading minor of the array is not positive definite\n",
            "\n",
            " -- An error occurred: 2-th leading minor of the array is not positive definite\n"
          ]
        },
        {
          "output_type": "stream",
          "name": "stderr",
          "text": [
            "Processing:  74%|███████▍  | 1477/2000 [01:28<00:21, 24.51iteration/s]"
          ]
        },
        {
          "output_type": "stream",
          "name": "stdout",
          "text": [
            "\n",
            " -- An error occurred: 8-th leading minor of the array is not positive definite\n"
          ]
        },
        {
          "output_type": "stream",
          "name": "stderr",
          "text": [
            "Processing:  74%|███████▍  | 1488/2000 [01:29<00:14, 34.53iteration/s]"
          ]
        },
        {
          "output_type": "stream",
          "name": "stdout",
          "text": [
            "\n",
            " -- An error occurred: 2-th leading minor of the array is not positive definite\n",
            "\n",
            " -- An error occurred: 1-th leading minor of the array is not positive definite\n",
            "\n",
            " -- An error occurred: 1-th leading minor of the array is not positive definite\n",
            "\n",
            " -- An error occurred: 7-th leading minor of the array is not positive definite\n",
            "\n",
            " -- An error occurred: 7-th leading minor of the array is not positive definite\n",
            "\n",
            " -- An error occurred: 5-th leading minor of the array is not positive definite\n",
            "\n",
            " -- An error occurred: 5-th leading minor of the array is not positive definite\n",
            "\n",
            " -- An error occurred: 4-th leading minor of the array is not positive definite\n",
            "\n",
            " -- An error occurred: 1-th leading minor of the array is not positive definite\n"
          ]
        },
        {
          "output_type": "stream",
          "name": "stderr",
          "text": [
            "Processing:  75%|███████▌  | 1502/2000 [01:29<00:15, 31.94iteration/s]"
          ]
        },
        {
          "output_type": "stream",
          "name": "stdout",
          "text": [
            "\n",
            " -- An error occurred: 1-th leading minor of the array is not positive definite\n",
            "\n",
            " -- An error occurred: 3-th leading minor of the array is not positive definite\n",
            "\n",
            " -- An error occurred: 3-th leading minor of the array is not positive definite\n",
            "\n",
            " -- An error occurred: 7-th leading minor of the array is not positive definite\n",
            "\n",
            " -- An error occurred: 6-th leading minor of the array is not positive definite\n",
            "\n",
            " -- An error occurred: 3-th leading minor of the array is not positive definite\n"
          ]
        },
        {
          "output_type": "stream",
          "name": "stderr",
          "text": [
            "Processing:  76%|███████▌  | 1510/2000 [01:29<00:15, 30.95iteration/s]"
          ]
        },
        {
          "output_type": "stream",
          "name": "stdout",
          "text": [
            "\n",
            " -- An error occurred: 5-th leading minor of the array is not positive definite\n",
            "\n",
            " -- An error occurred: 3-th leading minor of the array is not positive definite\n",
            "\n",
            " -- An error occurred: 4-th leading minor of the array is not positive definite\n",
            "\n",
            " -- An error occurred: 5-th leading minor of the array is not positive definite\n"
          ]
        },
        {
          "output_type": "stream",
          "name": "stderr",
          "text": [
            "\rProcessing:  76%|███████▌  | 1514/2000 [01:30<00:15, 31.20iteration/s]"
          ]
        },
        {
          "output_type": "stream",
          "name": "stdout",
          "text": [
            "\n",
            " -- An error occurred: 3-th leading minor of the array is not positive definite\n",
            "\n",
            " -- An error occurred: 2-th leading minor of the array is not positive definite\n",
            "\n",
            " -- An error occurred: 1-th leading minor of the array is not positive definite\n",
            "\n",
            " -- An error occurred: 2-th leading minor of the array is not positive definite\n"
          ]
        },
        {
          "output_type": "stream",
          "name": "stderr",
          "text": [
            "Processing:  76%|███████▋  | 1526/2000 [01:30<00:12, 37.24iteration/s]"
          ]
        },
        {
          "output_type": "stream",
          "name": "stdout",
          "text": [
            "\n",
            " -- An error occurred: 1-th leading minor of the array is not positive definite\n",
            "\n",
            " -- An error occurred: 2-th leading minor of the array is not positive definite\n",
            "\n",
            " -- An error occurred: 3-th leading minor of the array is not positive definite\n",
            "\n",
            " -- An error occurred: 8-th leading minor of the array is not positive definite\n",
            "\n",
            " -- An error occurred: 1-th leading minor of the array is not positive definite\n",
            "\n",
            " -- An error occurred: 2-th leading minor of the array is not positive definite\n"
          ]
        },
        {
          "output_type": "stream",
          "name": "stderr",
          "text": [
            "\rProcessing:  76%|███████▋  | 1530/2000 [01:30<00:16, 29.32iteration/s]"
          ]
        },
        {
          "output_type": "stream",
          "name": "stdout",
          "text": [
            "\n",
            " -- An error occurred: 3-th leading minor of the array is not positive definite\n",
            "\n",
            " -- An error occurred: 3-th leading minor of the array is not positive definite\n"
          ]
        },
        {
          "output_type": "stream",
          "name": "stderr",
          "text": [
            "\rProcessing:  77%|███████▋  | 1534/2000 [01:30<00:16, 28.75iteration/s]"
          ]
        },
        {
          "output_type": "stream",
          "name": "stdout",
          "text": [
            "\n",
            " -- An error occurred: 4-th leading minor of the array is not positive definite\n"
          ]
        },
        {
          "output_type": "stream",
          "name": "stderr",
          "text": [
            "Processing:  77%|███████▋  | 1543/2000 [01:31<00:17, 25.39iteration/s]"
          ]
        },
        {
          "output_type": "stream",
          "name": "stdout",
          "text": [
            "\n",
            " -- An error occurred: 4-th leading minor of the array is not positive definite\n",
            "\n",
            " -- An error occurred: 1-th leading minor of the array is not positive definite\n",
            "\n",
            " -- An error occurred: 1-th leading minor of the array is not positive definite\n"
          ]
        },
        {
          "output_type": "stream",
          "name": "stderr",
          "text": [
            "Processing:  78%|███████▊  | 1550/2000 [01:31<00:17, 26.12iteration/s]"
          ]
        },
        {
          "output_type": "stream",
          "name": "stdout",
          "text": [
            "\n",
            " -- An error occurred: 8-th leading minor of the array is not positive definite\n",
            "\n",
            " -- An error occurred: 5-th leading minor of the array is not positive definite\n",
            "\n",
            " -- An error occurred: 1-th leading minor of the array is not positive definite\n",
            "\n",
            " -- An error occurred: 7-th leading minor of the array is not positive definite\n",
            "\n",
            " -- An error occurred: 9-th leading minor of the array is not positive definite\n"
          ]
        },
        {
          "output_type": "stream",
          "name": "stderr",
          "text": [
            "Processing:  78%|███████▊  | 1560/2000 [01:31<00:13, 32.22iteration/s]"
          ]
        },
        {
          "output_type": "stream",
          "name": "stdout",
          "text": [
            "\n",
            " -- An error occurred: 8-th leading minor of the array is not positive definite\n",
            "\n",
            " -- An error occurred: 6-th leading minor of the array is not positive definite\n",
            "\n",
            " -- An error occurred: 1-th leading minor of the array is not positive definite\n",
            "\n",
            " -- An error occurred: 6-th leading minor of the array is not positive definite\n",
            "\n",
            " -- An error occurred: 1-th leading minor of the array is not positive definite\n",
            "\n",
            " -- An error occurred: 3-th leading minor of the array is not positive definite\n",
            "\n",
            " -- An error occurred: 2-th leading minor of the array is not positive definite\n"
          ]
        },
        {
          "output_type": "stream",
          "name": "stderr",
          "text": [
            "Processing:  78%|███████▊  | 1568/2000 [01:31<00:14, 30.40iteration/s]"
          ]
        },
        {
          "output_type": "stream",
          "name": "stdout",
          "text": [
            "\n",
            " -- An error occurred: 2-th leading minor of the array is not positive definite\n",
            "\n",
            " -- An error occurred: 2-th leading minor of the array is not positive definite\n",
            "\n",
            " -- An error occurred: 1-th leading minor of the array is not positive definite\n"
          ]
        },
        {
          "output_type": "stream",
          "name": "stderr",
          "text": [
            "\rProcessing:  79%|███████▊  | 1572/2000 [01:32<00:14, 30.09iteration/s]"
          ]
        },
        {
          "output_type": "stream",
          "name": "stdout",
          "text": [
            "\n",
            " -- An error occurred: 9-th leading minor of the array is not positive definite\n",
            "\n",
            " -- An error occurred: 3-th leading minor of the array is not positive definite\n"
          ]
        },
        {
          "output_type": "stream",
          "name": "stderr",
          "text": [
            "Processing:  79%|███████▉  | 1585/2000 [01:32<00:13, 30.47iteration/s]"
          ]
        },
        {
          "output_type": "stream",
          "name": "stdout",
          "text": [
            "\n",
            " -- An error occurred: 1-th leading minor of the array is not positive definite\n",
            "\n",
            " -- An error occurred: 2-th leading minor of the array is not positive definite\n",
            "\n",
            " -- An error occurred: 5-th leading minor of the array is not positive definite\n",
            "\n",
            " -- An error occurred: 1-th leading minor of the array is not positive definite\n",
            "\n",
            " -- An error occurred: 2-th leading minor of the array is not positive definite\n",
            "\n",
            " -- An error occurred: 1-th leading minor of the array is not positive definite\n",
            "\n",
            " -- An error occurred: 1-th leading minor of the array is not positive definite\n"
          ]
        },
        {
          "output_type": "stream",
          "name": "stderr",
          "text": [
            "\rProcessing:  80%|███████▉  | 1590/2000 [01:32<00:12, 32.97iteration/s]"
          ]
        },
        {
          "output_type": "stream",
          "name": "stdout",
          "text": [
            "\n",
            " -- An error occurred: 4-th leading minor of the array is not positive definite\n",
            "\n",
            " -- An error occurred: 3-th leading minor of the array is not positive definite\n",
            "\n",
            " -- An error occurred: 4-th leading minor of the array is not positive definite\n",
            "\n",
            " -- An error occurred: 1-th leading minor of the array is not positive definite\n"
          ]
        },
        {
          "output_type": "stream",
          "name": "stderr",
          "text": [
            "Processing:  80%|███████▉  | 1598/2000 [01:32<00:14, 26.99iteration/s]"
          ]
        },
        {
          "output_type": "stream",
          "name": "stdout",
          "text": [
            "\n",
            " -- An error occurred: 4-th leading minor of the array is not positive definite\n"
          ]
        },
        {
          "output_type": "stream",
          "name": "stderr",
          "text": [
            "Processing:  80%|████████  | 1604/2000 [01:33<00:16, 23.81iteration/s]"
          ]
        },
        {
          "output_type": "stream",
          "name": "stdout",
          "text": [
            "\n",
            " -- An error occurred: 2-th leading minor of the array is not positive definite\n",
            "\n",
            " -- An error occurred: 1-th leading minor of the array is not positive definite\n",
            "\n",
            " -- An error occurred: 1-th leading minor of the array is not positive definite\n",
            "\n",
            " -- An error occurred: 2-th leading minor of the array is not positive definite\n"
          ]
        },
        {
          "output_type": "stream",
          "name": "stderr",
          "text": [
            "\rProcessing:  80%|████████  | 1609/2000 [01:33<00:14, 26.49iteration/s]"
          ]
        },
        {
          "output_type": "stream",
          "name": "stdout",
          "text": [
            "\n",
            " -- An error occurred: 9-th leading minor of the array is not positive definite\n",
            "\n",
            " -- An error occurred: 8-th leading minor of the array is not positive definite\n",
            "\n",
            " -- An error occurred: 2-th leading minor of the array is not positive definite\n",
            "\n",
            " -- An error occurred: 3-th leading minor of the array is not positive definite\n",
            "\n",
            " -- An error occurred: 2-th leading minor of the array is not positive definite\n",
            "\n",
            " -- An error occurred: 5-th leading minor of the array is not positive definite\n",
            "\n",
            " -- An error occurred: 10-th leading minor of the array is not positive definite\n"
          ]
        },
        {
          "output_type": "stream",
          "name": "stderr",
          "text": [
            "Processing:  81%|████████▏ | 1626/2000 [01:33<00:09, 40.54iteration/s]"
          ]
        },
        {
          "output_type": "stream",
          "name": "stdout",
          "text": [
            "\n",
            " -- An error occurred: 7-th leading minor of the array is not positive definite\n",
            "\n",
            " -- An error occurred: 7-th leading minor of the array is not positive definite\n",
            "\n",
            " -- An error occurred: 1-th leading minor of the array is not positive definite\n",
            "\n",
            " -- An error occurred: 3-th leading minor of the array is not positive definite\n",
            "\n",
            " -- An error occurred: 3-th leading minor of the array is not positive definite\n",
            "\n",
            " -- An error occurred: 1-th leading minor of the array is not positive definite\n",
            "\n",
            " -- An error occurred: 2-th leading minor of the array is not positive definite\n"
          ]
        },
        {
          "output_type": "stream",
          "name": "stderr",
          "text": [
            "Processing:  82%|████████▏ | 1635/2000 [01:34<00:12, 29.93iteration/s]"
          ]
        },
        {
          "output_type": "stream",
          "name": "stdout",
          "text": [
            "\n",
            " -- An error occurred: 1-th leading minor of the array is not positive definite\n",
            "\n",
            " -- An error occurred: 2-th leading minor of the array is not positive definite\n"
          ]
        },
        {
          "output_type": "stream",
          "name": "stderr",
          "text": [
            "\rProcessing:  82%|████████▏ | 1639/2000 [01:34<00:13, 26.91iteration/s]"
          ]
        },
        {
          "output_type": "stream",
          "name": "stdout",
          "text": [
            "\n",
            " -- An error occurred: 3-th leading minor of the array is not positive definite\n"
          ]
        },
        {
          "output_type": "stream",
          "name": "stderr",
          "text": [
            "\rProcessing:  82%|████████▏ | 1642/2000 [01:34<00:18, 19.76iteration/s]"
          ]
        },
        {
          "output_type": "stream",
          "name": "stdout",
          "text": [
            "\n",
            " -- An error occurred: 2-th leading minor of the array is not positive definite\n"
          ]
        },
        {
          "output_type": "stream",
          "name": "stderr",
          "text": [
            "\rProcessing:  82%|████████▏ | 1645/2000 [01:34<00:22, 16.13iteration/s]"
          ]
        },
        {
          "output_type": "stream",
          "name": "stdout",
          "text": [
            "\n",
            " -- An error occurred: 3-th leading minor of the array is not positive definite\n"
          ]
        },
        {
          "output_type": "stream",
          "name": "stderr",
          "text": [
            "Processing:  82%|████████▎ | 1650/2000 [01:35<00:23, 15.06iteration/s]"
          ]
        },
        {
          "output_type": "stream",
          "name": "stdout",
          "text": [
            "\n",
            " -- An error occurred: 3-th leading minor of the array is not positive definite\n",
            "\n",
            " -- An error occurred: 7-th leading minor of the array is not positive definite\n",
            "\n",
            " -- An error occurred: 6-th leading minor of the array is not positive definite\n"
          ]
        },
        {
          "output_type": "stream",
          "name": "stderr",
          "text": [
            "Processing:  83%|████████▎ | 1656/2000 [01:35<00:26, 12.78iteration/s]"
          ]
        },
        {
          "output_type": "stream",
          "name": "stdout",
          "text": [
            "\n",
            " -- An error occurred: 4-th leading minor of the array is not positive definite\n",
            "\n",
            " -- An error occurred: 6-th leading minor of the array is not positive definite\n",
            "\n",
            " -- An error occurred: 1-th leading minor of the array is not positive definite\n"
          ]
        },
        {
          "output_type": "stream",
          "name": "stderr",
          "text": [
            "Processing:  83%|████████▎ | 1661/2000 [01:36<00:22, 15.14iteration/s]"
          ]
        },
        {
          "output_type": "stream",
          "name": "stdout",
          "text": [
            "\n",
            " -- An error occurred: 2-th leading minor of the array is not positive definite\n"
          ]
        },
        {
          "output_type": "stream",
          "name": "stderr",
          "text": [
            "Processing:  84%|████████▎ | 1670/2000 [01:36<00:21, 15.64iteration/s]"
          ]
        },
        {
          "output_type": "stream",
          "name": "stdout",
          "text": [
            "\n",
            " -- An error occurred: 2-th leading minor of the array is not positive definite\n",
            "\n",
            " -- An error occurred: 3-th leading minor of the array is not positive definite\n",
            "\n",
            " -- An error occurred: 2-th leading minor of the array is not positive definite\n",
            "\n",
            " -- An error occurred: 5-th leading minor of the array is not positive definite\n"
          ]
        },
        {
          "output_type": "stream",
          "name": "stderr",
          "text": [
            "Processing:  84%|████████▍ | 1677/2000 [01:37<00:19, 16.76iteration/s]"
          ]
        },
        {
          "output_type": "stream",
          "name": "stdout",
          "text": [
            "\n",
            " -- An error occurred: 8-th leading minor of the array is not positive definite\n",
            "\n",
            " -- An error occurred: 2-th leading minor of the array is not positive definite\n",
            "\n",
            " -- An error occurred: 1-th leading minor of the array is not positive definite\n",
            "\n",
            " -- An error occurred: 4-th leading minor of the array is not positive definite\n"
          ]
        },
        {
          "output_type": "stream",
          "name": "stderr",
          "text": [
            "\rProcessing:  84%|████████▍ | 1680/2000 [01:37<00:20, 15.53iteration/s]"
          ]
        },
        {
          "output_type": "stream",
          "name": "stdout",
          "text": [
            "\n",
            " -- An error occurred: 3-th leading minor of the array is not positive definite\n",
            "\n",
            " -- An error occurred: 1-th leading minor of the array is not positive definite\n",
            "\n",
            " -- An error occurred: 5-th leading minor of the array is not positive definite\n"
          ]
        },
        {
          "output_type": "stream",
          "name": "stderr",
          "text": [
            "Processing:  84%|████████▍ | 1686/2000 [01:37<00:15, 19.98iteration/s]"
          ]
        },
        {
          "output_type": "stream",
          "name": "stdout",
          "text": [
            "\n",
            " -- An error occurred: 5-th leading minor of the array is not positive definite\n",
            "\n",
            " -- An error occurred: 1-th leading minor of the array is not positive definite\n"
          ]
        },
        {
          "output_type": "stream",
          "name": "stderr",
          "text": [
            "Processing:  85%|████████▍ | 1697/2000 [01:38<00:09, 30.58iteration/s]"
          ]
        },
        {
          "output_type": "stream",
          "name": "stdout",
          "text": [
            "\n",
            " -- An error occurred: 1-th leading minor of the array is not positive definite\n",
            "\n",
            " -- An error occurred: 7-th leading minor of the array is not positive definite\n",
            "\n",
            " -- An error occurred: 5-th leading minor of the array is not positive definite\n",
            "\n",
            " -- An error occurred: 3-th leading minor of the array is not positive definite\n",
            "\n",
            " -- An error occurred: 3-th leading minor of the array is not positive definite\n",
            "\n",
            " -- An error occurred: 1-th leading minor of the array is not positive definite\n",
            "\n",
            " -- An error occurred: 8-th leading minor of the array is not positive definite\n",
            "\n",
            " -- An error occurred: 2-th leading minor of the array is not positive definite\n",
            "\n",
            " -- An error occurred: 10-th leading minor of the array is not positive definite\n",
            "\n",
            " -- An error occurred: 4-th leading minor of the array is not positive definite\n",
            "\n",
            " -- An error occurred: 9-th leading minor of the array is not positive definite\n"
          ]
        },
        {
          "output_type": "stream",
          "name": "stderr",
          "text": [
            "Processing:  85%|████████▌ | 1708/2000 [01:38<00:08, 35.16iteration/s]"
          ]
        },
        {
          "output_type": "stream",
          "name": "stdout",
          "text": [
            "\n",
            " -- An error occurred: 2-th leading minor of the array is not positive definite\n",
            "\n",
            " -- An error occurred: 1-th leading minor of the array is not positive definite\n",
            "\n",
            " -- An error occurred: 2-th leading minor of the array is not positive definite\n"
          ]
        },
        {
          "output_type": "stream",
          "name": "stderr",
          "text": [
            "Processing:  86%|████████▌ | 1716/2000 [01:38<00:11, 25.76iteration/s]"
          ]
        },
        {
          "output_type": "stream",
          "name": "stdout",
          "text": [
            "\n",
            " -- An error occurred: 2-th leading minor of the array is not positive definite\n",
            "\n",
            " -- An error occurred: 3-th leading minor of the array is not positive definite\n",
            "\n",
            " -- An error occurred: 3-th leading minor of the array is not positive definite\n"
          ]
        },
        {
          "output_type": "stream",
          "name": "stderr",
          "text": [
            "Processing:  86%|████████▌ | 1724/2000 [01:39<00:10, 25.13iteration/s]"
          ]
        },
        {
          "output_type": "stream",
          "name": "stdout",
          "text": [
            "\n",
            " -- An error occurred: 3-th leading minor of the array is not positive definite\n",
            "\n",
            " -- An error occurred: 3-th leading minor of the array is not positive definite\n"
          ]
        },
        {
          "output_type": "stream",
          "name": "stderr",
          "text": [
            "Processing:  87%|████████▋ | 1733/2000 [01:39<00:12, 22.04iteration/s]"
          ]
        },
        {
          "output_type": "stream",
          "name": "stdout",
          "text": [
            "\n",
            " -- An error occurred: 4-th leading minor of the array is not positive definite\n",
            "\n",
            " -- An error occurred: 1-th leading minor of the array is not positive definite\n"
          ]
        },
        {
          "output_type": "stream",
          "name": "stderr",
          "text": [
            "\rProcessing:  87%|████████▋ | 1737/2000 [01:39<00:10, 24.63iteration/s]"
          ]
        },
        {
          "output_type": "stream",
          "name": "stdout",
          "text": [
            "\n",
            " -- An error occurred: 4-th leading minor of the array is not positive definite\n",
            "\n",
            " -- An error occurred: 1-th leading minor of the array is not positive definite\n",
            "\n",
            " -- An error occurred: 1-th leading minor of the array is not positive definite\n"
          ]
        },
        {
          "output_type": "stream",
          "name": "stderr",
          "text": [
            "Processing:  87%|████████▋ | 1745/2000 [01:39<00:09, 27.90iteration/s]"
          ]
        },
        {
          "output_type": "stream",
          "name": "stdout",
          "text": [
            "\n",
            " -- An error occurred: 2-th leading minor of the array is not positive definite\n",
            "\n",
            " -- An error occurred: 2-th leading minor of the array is not positive definite\n",
            "\n",
            " -- An error occurred: 5-th leading minor of the array is not positive definite\n",
            "\n",
            " -- An error occurred: 1-th leading minor of the array is not positive definite\n",
            "\n",
            " -- An error occurred: 5-th leading minor of the array is not positive definite\n",
            "\n",
            " -- An error occurred: 7-th leading minor of the array is not positive definite\n",
            "\n",
            " -- An error occurred: 4-th leading minor of the array is not positive definite\n",
            "\n",
            " -- An error occurred: 3-th leading minor of the array is not positive definite\n"
          ]
        },
        {
          "output_type": "stream",
          "name": "stderr",
          "text": [
            "Processing:  88%|████████▊ | 1756/2000 [01:40<00:09, 26.99iteration/s]"
          ]
        },
        {
          "output_type": "stream",
          "name": "stdout",
          "text": [
            "\n",
            " -- An error occurred: 1-th leading minor of the array is not positive definite\n"
          ]
        },
        {
          "output_type": "stream",
          "name": "stderr",
          "text": [
            "Processing:  88%|████████▊ | 1766/2000 [01:40<00:09, 23.43iteration/s]"
          ]
        },
        {
          "output_type": "stream",
          "name": "stdout",
          "text": [
            "\n",
            " -- An error occurred: 5-th leading minor of the array is not positive definite\n",
            "\n",
            " -- An error occurred: 1-th leading minor of the array is not positive definite\n",
            "\n",
            " -- An error occurred: 2-th leading minor of the array is not positive definite\n",
            "\n",
            " -- An error occurred: 1-th leading minor of the array is not positive definite\n",
            "\n",
            " -- An error occurred: 1-th leading minor of the array is not positive definite\n",
            "\n",
            " -- An error occurred: 5-th leading minor of the array is not positive definite\n",
            "\n",
            " -- An error occurred: 1-th leading minor of the array is not positive definite\n",
            "\n",
            " -- An error occurred: 6-th leading minor of the array is not positive definite\n",
            "\n",
            " -- An error occurred: 2-th leading minor of the array is not positive definite\n"
          ]
        },
        {
          "output_type": "stream",
          "name": "stderr",
          "text": [
            "Processing:  89%|████████▉ | 1783/2000 [01:41<00:06, 32.44iteration/s]"
          ]
        },
        {
          "output_type": "stream",
          "name": "stdout",
          "text": [
            "\n",
            " -- An error occurred: 7-th leading minor of the array is not positive definite\n",
            "\n",
            " -- An error occurred: 1-th leading minor of the array is not positive definite\n",
            "\n",
            " -- An error occurred: 2-th leading minor of the array is not positive definite\n",
            "\n",
            " -- An error occurred: 1-th leading minor of the array is not positive definite\n"
          ]
        },
        {
          "output_type": "stream",
          "name": "stderr",
          "text": [
            "\rProcessing:  89%|████████▉ | 1789/2000 [01:41<00:06, 34.03iteration/s]"
          ]
        },
        {
          "output_type": "stream",
          "name": "stdout",
          "text": [
            "\n",
            " -- An error occurred: 6-th leading minor of the array is not positive definite\n",
            "\n",
            " -- An error occurred: 1-th leading minor of the array is not positive definite\n",
            "\n",
            " -- An error occurred: 4-th leading minor of the array is not positive definite\n",
            "\n",
            " -- An error occurred: 2-th leading minor of the array is not positive definite\n"
          ]
        },
        {
          "output_type": "stream",
          "name": "stderr",
          "text": [
            "\rProcessing:  90%|████████▉ | 1796/2000 [01:41<00:05, 37.43iteration/s]"
          ]
        },
        {
          "output_type": "stream",
          "name": "stdout",
          "text": [
            "\n",
            " -- An error occurred: 6-th leading minor of the array is not positive definite\n",
            "\n",
            " -- An error occurred: 4-th leading minor of the array is not positive definite\n",
            "\n",
            " -- An error occurred: 2-th leading minor of the array is not positive definite\n",
            "\n",
            " -- An error occurred: 1-th leading minor of the array is not positive definite\n",
            "\n",
            " -- An error occurred: 2-th leading minor of the array is not positive definite\n",
            "\n",
            " -- An error occurred: 5-th leading minor of the array is not positive definite\n",
            "\n",
            " -- An error occurred: 1-th leading minor of the array is not positive definite\n",
            "\n",
            " -- An error occurred: 1-th leading minor of the array is not positive definite\n",
            "\n",
            " -- An error occurred: 8-th leading minor of the array is not positive definite\n",
            "\n",
            " -- An error occurred: 3-th leading minor of the array is not positive definite\n",
            "\n",
            " -- An error occurred: 10-th leading minor of the array is not positive definite\n"
          ]
        },
        {
          "output_type": "stream",
          "name": "stderr",
          "text": [
            "Processing:  90%|█████████ | 1810/2000 [01:41<00:04, 42.33iteration/s]"
          ]
        },
        {
          "output_type": "stream",
          "name": "stdout",
          "text": [
            "\n",
            " -- An error occurred: 2-th leading minor of the array is not positive definite\n",
            "\n",
            " -- An error occurred: 7-th leading minor of the array is not positive definite\n",
            "\n",
            " -- An error occurred: 1-th leading minor of the array is not positive definite\n",
            "\n",
            " -- An error occurred: 1-th leading minor of the array is not positive definite\n"
          ]
        },
        {
          "output_type": "stream",
          "name": "stderr",
          "text": [
            "Processing:  91%|█████████ | 1822/2000 [01:42<00:04, 44.23iteration/s]"
          ]
        },
        {
          "output_type": "stream",
          "name": "stdout",
          "text": [
            "\n",
            " -- An error occurred: 6-th leading minor of the array is not positive definite\n",
            "\n",
            " -- An error occurred: 8-th leading minor of the array is not positive definite\n",
            "\n",
            " -- An error occurred: 5-th leading minor of the array is not positive definite\n",
            "\n",
            " -- An error occurred: 9-th leading minor of the array is not positive definite\n",
            "\n",
            " -- An error occurred: 3-th leading minor of the array is not positive definite\n",
            "\n",
            " -- An error occurred: 4-th leading minor of the array is not positive definite\n",
            "\n",
            " -- An error occurred: 8-th leading minor of the array is not positive definite\n"
          ]
        },
        {
          "output_type": "stream",
          "name": "stderr",
          "text": [
            "\rProcessing:  91%|█████████▏| 1827/2000 [01:42<00:04, 36.62iteration/s]"
          ]
        },
        {
          "output_type": "stream",
          "name": "stdout",
          "text": [
            "\n",
            " -- An error occurred: 2-th leading minor of the array is not positive definite\n",
            "\n",
            " -- An error occurred: 2-th leading minor of the array is not positive definite\n",
            "\n",
            " -- An error occurred: 2-th leading minor of the array is not positive definite\n",
            "\n",
            " -- An error occurred: 4-th leading minor of the array is not positive definite\n"
          ]
        },
        {
          "output_type": "stream",
          "name": "stderr",
          "text": [
            "Processing:  92%|█████████▏| 1838/2000 [01:42<00:03, 41.00iteration/s]"
          ]
        },
        {
          "output_type": "stream",
          "name": "stdout",
          "text": [
            "\n",
            " -- An error occurred: 1-th leading minor of the array is not positive definite\n",
            "\n",
            " -- An error occurred: 3-th leading minor of the array is not positive definite\n",
            "\n",
            " -- An error occurred: 6-th leading minor of the array is not positive definite\n",
            "\n",
            " -- An error occurred: 10-th leading minor of the array is not positive definite\n",
            "\n",
            " -- An error occurred: 7-th leading minor of the array is not positive definite\n",
            "\n",
            " -- An error occurred: 9-th leading minor of the array is not positive definite\n",
            "\n",
            " -- An error occurred: 7-th leading minor of the array is not positive definite\n",
            "\n",
            " -- An error occurred: 4-th leading minor of the array is not positive definite\n",
            "\n",
            " -- An error occurred: 5-th leading minor of the array is not positive definite\n"
          ]
        },
        {
          "output_type": "stream",
          "name": "stderr",
          "text": [
            "Processing:  93%|█████████▎| 1851/2000 [01:42<00:03, 47.60iteration/s]"
          ]
        },
        {
          "output_type": "stream",
          "name": "stdout",
          "text": [
            "\n",
            " -- An error occurred: 4-th leading minor of the array is not positive definite\n",
            "\n",
            " -- An error occurred: 1-th leading minor of the array is not positive definite\n",
            "\n",
            " -- An error occurred: 3-th leading minor of the array is not positive definite\n",
            "\n",
            " -- An error occurred: 1-th leading minor of the array is not positive definite\n",
            "\n",
            " -- An error occurred: 8-th leading minor of the array is not positive definite\n",
            "\n",
            " -- An error occurred: 5-th leading minor of the array is not positive definite\n",
            "\n",
            " -- An error occurred: 7-th leading minor of the array is not positive definite\n",
            "\n",
            " -- An error occurred: 7-th leading minor of the array is not positive definite\n",
            "\n",
            " -- An error occurred: 2-th leading minor of the array is not positive definite\n",
            "\n",
            " -- An error occurred: 9-th leading minor of the array is not positive definite\n",
            "\n",
            " -- An error occurred: 5-th leading minor of the array is not positive definite\n",
            "\n",
            " -- An error occurred: 7-th leading minor of the array is not positive definite\n"
          ]
        },
        {
          "output_type": "stream",
          "name": "stderr",
          "text": [
            "\rProcessing:  93%|█████████▎| 1860/2000 [01:42<00:02, 52.95iteration/s]"
          ]
        },
        {
          "output_type": "stream",
          "name": "stdout",
          "text": [
            "\n",
            " -- An error occurred: 3-th leading minor of the array is not positive definite\n",
            "\n",
            " -- An error occurred: 2-th leading minor of the array is not positive definite\n",
            "\n",
            " -- An error occurred: 5-th leading minor of the array is not positive definite\n",
            "\n",
            " -- An error occurred: 1-th leading minor of the array is not positive definite\n",
            "\n",
            " -- An error occurred: 10-th leading minor of the array is not positive definite\n",
            "\n",
            " -- An error occurred: 6-th leading minor of the array is not positive definite\n",
            "\n",
            " -- An error occurred: 3-th leading minor of the array is not positive definite\n",
            "\n",
            " -- An error occurred: 3-th leading minor of the array is not positive definite\n",
            "\n",
            " -- An error occurred: 5-th leading minor of the array is not positive definite\n",
            "\n",
            " -- An error occurred: 6-th leading minor of the array is not positive definite\n"
          ]
        },
        {
          "output_type": "stream",
          "name": "stderr",
          "text": [
            "Processing:  94%|█████████▍| 1878/2000 [01:43<00:02, 58.32iteration/s]"
          ]
        },
        {
          "output_type": "stream",
          "name": "stdout",
          "text": [
            "\n",
            " -- An error occurred: 2-th leading minor of the array is not positive definite\n",
            "\n",
            " -- An error occurred: 3-th leading minor of the array is not positive definite\n",
            "\n",
            " -- An error occurred: 6-th leading minor of the array is not positive definite\n",
            "\n",
            " -- An error occurred: 2-th leading minor of the array is not positive definite\n",
            "\n",
            " -- An error occurred: 1-th leading minor of the array is not positive definite\n",
            "\n",
            " -- An error occurred: 4-th leading minor of the array is not positive definite\n"
          ]
        },
        {
          "output_type": "stream",
          "name": "stderr",
          "text": [
            "\rProcessing:  94%|█████████▍| 1884/2000 [01:43<00:02, 43.49iteration/s]"
          ]
        },
        {
          "output_type": "stream",
          "name": "stdout",
          "text": [
            "\n",
            " -- An error occurred: 2-th leading minor of the array is not positive definite\n",
            "\n",
            " -- An error occurred: 3-th leading minor of the array is not positive definite\n",
            "\n",
            " -- An error occurred: 4-th leading minor of the array is not positive definite\n",
            "\n",
            " -- An error occurred: 2-th leading minor of the array is not positive definite\n"
          ]
        },
        {
          "output_type": "stream",
          "name": "stderr",
          "text": [
            "Processing:  95%|█████████▍| 1894/2000 [01:43<00:03, 33.39iteration/s]"
          ]
        },
        {
          "output_type": "stream",
          "name": "stdout",
          "text": [
            "\n",
            " -- An error occurred: 6-th leading minor of the array is not positive definite\n",
            "\n",
            " -- An error occurred: 5-th leading minor of the array is not positive definite\n"
          ]
        },
        {
          "output_type": "stream",
          "name": "stderr",
          "text": [
            "Processing:  95%|█████████▌| 1902/2000 [01:44<00:03, 31.90iteration/s]"
          ]
        },
        {
          "output_type": "stream",
          "name": "stdout",
          "text": [
            "\n",
            " -- An error occurred: 7-th leading minor of the array is not positive definite\n",
            "\n",
            " -- An error occurred: 7-th leading minor of the array is not positive definite\n"
          ]
        },
        {
          "output_type": "stream",
          "name": "stderr",
          "text": [
            "\rProcessing:  95%|█████████▌| 1906/2000 [01:44<00:02, 32.80iteration/s]"
          ]
        },
        {
          "output_type": "stream",
          "name": "stdout",
          "text": [
            "\n",
            " -- An error occurred: 1-th leading minor of the array is not positive definite\n",
            "\n",
            " -- An error occurred: 4-th leading minor of the array is not positive definite\n",
            "\n",
            " -- An error occurred: 3-th leading minor of the array is not positive definite\n",
            "\n",
            " -- An error occurred: 1-th leading minor of the array is not positive definite\n",
            "\n",
            " -- An error occurred: 3-th leading minor of the array is not positive definite\n"
          ]
        },
        {
          "output_type": "stream",
          "name": "stderr",
          "text": [
            "Processing:  96%|█████████▌| 1918/2000 [01:44<00:02, 38.98iteration/s]"
          ]
        },
        {
          "output_type": "stream",
          "name": "stdout",
          "text": [
            "\n",
            " -- An error occurred: 2-th leading minor of the array is not positive definite\n",
            "\n",
            " -- An error occurred: 2-th leading minor of the array is not positive definite\n",
            "\n",
            " -- An error occurred: 3-th leading minor of the array is not positive definite\n",
            "\n",
            " -- An error occurred: 4-th leading minor of the array is not positive definite\n",
            "\n",
            " -- An error occurred: 2-th leading minor of the array is not positive definite\n",
            "\n",
            " -- An error occurred: 2-th leading minor of the array is not positive definite\n",
            "\n",
            " -- An error occurred: 3-th leading minor of the array is not positive definite\n",
            "\n",
            " -- An error occurred: 1-th leading minor of the array is not positive definite\n",
            "\n",
            " -- An error occurred: 6-th leading minor of the array is not positive definite\n",
            "\n",
            " -- An error occurred: 2-th leading minor of the array is not positive definite\n",
            "\n",
            " -- An error occurred: 1-th leading minor of the array is not positive definite\n"
          ]
        },
        {
          "output_type": "stream",
          "name": "stderr",
          "text": [
            "Processing:  97%|█████████▋| 1934/2000 [01:44<00:01, 48.85iteration/s]"
          ]
        },
        {
          "output_type": "stream",
          "name": "stdout",
          "text": [
            "\n",
            " -- An error occurred: 6-th leading minor of the array is not positive definite\n",
            "\n",
            " -- An error occurred: 1-th leading minor of the array is not positive definite\n",
            "\n",
            " -- An error occurred: 8-th leading minor of the array is not positive definite\n",
            "\n",
            " -- An error occurred: 1-th leading minor of the array is not positive definite\n",
            "\n",
            " -- An error occurred: 5-th leading minor of the array is not positive definite\n",
            "\n",
            " -- An error occurred: 1-th leading minor of the array is not positive definite\n",
            "\n",
            " -- An error occurred: 1-th leading minor of the array is not positive definite\n",
            "\n",
            " -- An error occurred: 1-th leading minor of the array is not positive definite\n"
          ]
        },
        {
          "output_type": "stream",
          "name": "stderr",
          "text": [
            "Processing:  97%|█████████▋| 1948/2000 [01:45<00:00, 52.95iteration/s]"
          ]
        },
        {
          "output_type": "stream",
          "name": "stdout",
          "text": [
            "\n",
            " -- An error occurred: 1-th leading minor of the array is not positive definite\n",
            "\n",
            " -- An error occurred: 5-th leading minor of the array is not positive definite\n",
            "\n",
            " -- An error occurred: 4-th leading minor of the array is not positive definite\n",
            "\n",
            " -- An error occurred: 5-th leading minor of the array is not positive definite\n",
            "\n",
            " -- An error occurred: 2-th leading minor of the array is not positive definite\n",
            "\n",
            " -- An error occurred: 2-th leading minor of the array is not positive definite\n",
            "\n",
            " -- An error occurred: 4-th leading minor of the array is not positive definite\n",
            "\n",
            " -- An error occurred: 1-th leading minor of the array is not positive definite\n",
            "\n",
            " -- An error occurred: 7-th leading minor of the array is not positive definite\n"
          ]
        },
        {
          "output_type": "stream",
          "name": "stderr",
          "text": [
            "\rProcessing:  98%|█████████▊| 1954/2000 [01:45<00:00, 51.00iteration/s]"
          ]
        },
        {
          "output_type": "stream",
          "name": "stdout",
          "text": [
            "\n",
            " -- An error occurred: 4-th leading minor of the array is not positive definite\n",
            "\n",
            " -- An error occurred: 1-th leading minor of the array is not positive definite\n",
            "\n",
            " -- An error occurred: 1-th leading minor of the array is not positive definite\n",
            "\n",
            " -- An error occurred: 2-th leading minor of the array is not positive definite\n",
            "\n",
            " -- An error occurred: 4-th leading minor of the array is not positive definite\n"
          ]
        },
        {
          "output_type": "stream",
          "name": "stderr",
          "text": [
            "Processing:  98%|█████████▊| 1969/2000 [01:45<00:00, 49.42iteration/s]"
          ]
        },
        {
          "output_type": "stream",
          "name": "stdout",
          "text": [
            "\n",
            " -- An error occurred: 1-th leading minor of the array is not positive definite\n",
            "\n",
            " -- An error occurred: 5-th leading minor of the array is not positive definite\n",
            "\n",
            " -- An error occurred: 5-th leading minor of the array is not positive definite\n",
            "\n",
            " -- An error occurred: 3-th leading minor of the array is not positive definite\n",
            "\n",
            " -- An error occurred: 2-th leading minor of the array is not positive definite\n",
            "\n",
            " -- An error occurred: 1-th leading minor of the array is not positive definite\n",
            "\n",
            " -- An error occurred: 1-th leading minor of the array is not positive definite\n",
            "\n",
            " -- An error occurred: 1-th leading minor of the array is not positive definite\n",
            "\n",
            " -- An error occurred: 2-th leading minor of the array is not positive definite\n"
          ]
        },
        {
          "output_type": "stream",
          "name": "stderr",
          "text": [
            "\rProcessing:  99%|█████████▉| 1975/2000 [01:45<00:00, 41.86iteration/s]"
          ]
        },
        {
          "output_type": "stream",
          "name": "stdout",
          "text": [
            "\n",
            " -- An error occurred: 2-th leading minor of the array is not positive definite\n",
            "\n",
            " -- An error occurred: 5-th leading minor of the array is not positive definite\n",
            "\n",
            " -- An error occurred: 3-th leading minor of the array is not positive definite\n"
          ]
        },
        {
          "output_type": "stream",
          "name": "stderr",
          "text": [
            "Processing:  99%|█████████▉| 1985/2000 [01:45<00:00, 38.16iteration/s]"
          ]
        },
        {
          "output_type": "stream",
          "name": "stdout",
          "text": [
            "\n",
            " -- An error occurred: 5-th leading minor of the array is not positive definite\n",
            "\n",
            " -- An error occurred: 9-th leading minor of the array is not positive definite\n",
            "\n",
            " -- An error occurred: 4-th leading minor of the array is not positive definite\n",
            "\n",
            " -- An error occurred: 5-th leading minor of the array is not positive definite\n",
            "\n",
            " -- An error occurred: 4-th leading minor of the array is not positive definite\n",
            "\n",
            " -- An error occurred: 3-th leading minor of the array is not positive definite\n",
            "\n",
            " -- An error occurred: 1-th leading minor of the array is not positive definite\n",
            "\n",
            " -- An error occurred: 7-th leading minor of the array is not positive definite\n"
          ]
        },
        {
          "output_type": "stream",
          "name": "stderr",
          "text": [
            "\rProcessing: 100%|█████████▉| 1991/2000 [01:46<00:00, 42.42iteration/s]"
          ]
        },
        {
          "output_type": "stream",
          "name": "stdout",
          "text": [
            "\n",
            " -- An error occurred: 4-th leading minor of the array is not positive definite\n",
            "\n",
            " -- An error occurred: 1-th leading minor of the array is not positive definite\n"
          ]
        },
        {
          "output_type": "stream",
          "name": "stderr",
          "text": [
            "Processing: 100%|██████████| 2000/2000 [01:46<00:00, 18.78iteration/s]"
          ]
        },
        {
          "output_type": "stream",
          "name": "stdout",
          "text": [
            "\n",
            " -- An error occurred: 7-th leading minor of the array is not positive definite\n",
            "\n",
            " -- An error occurred: 4-th leading minor of the array is not positive definite\n",
            "\n",
            " -- An error occurred: 4-th leading minor of the array is not positive definite\n",
            "\n",
            "\n",
            "Best columns with the smallest test_MSE is ['weight_for_index', 'foreign_sell', 'volume', 'close'] with lags 5\n",
            "Smallest test_MSE value: 0.007720944211397492\n"
          ]
        },
        {
          "output_type": "stream",
          "name": "stderr",
          "text": [
            "\n"
          ]
        }
      ]
    },
    {
      "cell_type": "code",
      "source": [
        "data = data[best_columns]\n",
        "data.head()"
      ],
      "metadata": {
        "colab": {
          "base_uri": "https://localhost:8080/",
          "height": 237
        },
        "id": "HRU9xNtYhBnx",
        "outputId": "bf1ee820-9498-43f4-ab27-b5bd7c8da473"
      },
      "execution_count": 47,
      "outputs": [
        {
          "output_type": "execute_result",
          "data": {
            "text/plain": [
              "            weight_for_index  foreign_sell    volume     close\n",
              "date                                                          \n",
              "2019-07-29               1.0      0.065525  0.037468  0.906868\n",
              "2019-07-30               1.0      0.089288  0.076701  0.930151\n",
              "2019-07-31               1.0      0.263219  0.177867  0.866123\n",
              "2019-08-01               1.0      0.131634  0.098103  0.871944\n",
              "2019-08-02               1.0      0.137574  0.110184  0.883586"
            ],
            "text/html": [
              "\n",
              "  <div id=\"df-d96f793c-2589-4ce0-a258-84594aeb386e\" class=\"colab-df-container\">\n",
              "    <div>\n",
              "<style scoped>\n",
              "    .dataframe tbody tr th:only-of-type {\n",
              "        vertical-align: middle;\n",
              "    }\n",
              "\n",
              "    .dataframe tbody tr th {\n",
              "        vertical-align: top;\n",
              "    }\n",
              "\n",
              "    .dataframe thead th {\n",
              "        text-align: right;\n",
              "    }\n",
              "</style>\n",
              "<table border=\"1\" class=\"dataframe\">\n",
              "  <thead>\n",
              "    <tr style=\"text-align: right;\">\n",
              "      <th></th>\n",
              "      <th>weight_for_index</th>\n",
              "      <th>foreign_sell</th>\n",
              "      <th>volume</th>\n",
              "      <th>close</th>\n",
              "    </tr>\n",
              "    <tr>\n",
              "      <th>date</th>\n",
              "      <th></th>\n",
              "      <th></th>\n",
              "      <th></th>\n",
              "      <th></th>\n",
              "    </tr>\n",
              "  </thead>\n",
              "  <tbody>\n",
              "    <tr>\n",
              "      <th>2019-07-29</th>\n",
              "      <td>1.0</td>\n",
              "      <td>0.065525</td>\n",
              "      <td>0.037468</td>\n",
              "      <td>0.906868</td>\n",
              "    </tr>\n",
              "    <tr>\n",
              "      <th>2019-07-30</th>\n",
              "      <td>1.0</td>\n",
              "      <td>0.089288</td>\n",
              "      <td>0.076701</td>\n",
              "      <td>0.930151</td>\n",
              "    </tr>\n",
              "    <tr>\n",
              "      <th>2019-07-31</th>\n",
              "      <td>1.0</td>\n",
              "      <td>0.263219</td>\n",
              "      <td>0.177867</td>\n",
              "      <td>0.866123</td>\n",
              "    </tr>\n",
              "    <tr>\n",
              "      <th>2019-08-01</th>\n",
              "      <td>1.0</td>\n",
              "      <td>0.131634</td>\n",
              "      <td>0.098103</td>\n",
              "      <td>0.871944</td>\n",
              "    </tr>\n",
              "    <tr>\n",
              "      <th>2019-08-02</th>\n",
              "      <td>1.0</td>\n",
              "      <td>0.137574</td>\n",
              "      <td>0.110184</td>\n",
              "      <td>0.883586</td>\n",
              "    </tr>\n",
              "  </tbody>\n",
              "</table>\n",
              "</div>\n",
              "    <div class=\"colab-df-buttons\">\n",
              "\n",
              "  <div class=\"colab-df-container\">\n",
              "    <button class=\"colab-df-convert\" onclick=\"convertToInteractive('df-d96f793c-2589-4ce0-a258-84594aeb386e')\"\n",
              "            title=\"Convert this dataframe to an interactive table.\"\n",
              "            style=\"display:none;\">\n",
              "\n",
              "  <svg xmlns=\"http://www.w3.org/2000/svg\" height=\"24px\" viewBox=\"0 -960 960 960\">\n",
              "    <path d=\"M120-120v-720h720v720H120Zm60-500h600v-160H180v160Zm220 220h160v-160H400v160Zm0 220h160v-160H400v160ZM180-400h160v-160H180v160Zm440 0h160v-160H620v160ZM180-180h160v-160H180v160Zm440 0h160v-160H620v160Z\"/>\n",
              "  </svg>\n",
              "    </button>\n",
              "\n",
              "  <style>\n",
              "    .colab-df-container {\n",
              "      display:flex;\n",
              "      gap: 12px;\n",
              "    }\n",
              "\n",
              "    .colab-df-convert {\n",
              "      background-color: #E8F0FE;\n",
              "      border: none;\n",
              "      border-radius: 50%;\n",
              "      cursor: pointer;\n",
              "      display: none;\n",
              "      fill: #1967D2;\n",
              "      height: 32px;\n",
              "      padding: 0 0 0 0;\n",
              "      width: 32px;\n",
              "    }\n",
              "\n",
              "    .colab-df-convert:hover {\n",
              "      background-color: #E2EBFA;\n",
              "      box-shadow: 0px 1px 2px rgba(60, 64, 67, 0.3), 0px 1px 3px 1px rgba(60, 64, 67, 0.15);\n",
              "      fill: #174EA6;\n",
              "    }\n",
              "\n",
              "    .colab-df-buttons div {\n",
              "      margin-bottom: 4px;\n",
              "    }\n",
              "\n",
              "    [theme=dark] .colab-df-convert {\n",
              "      background-color: #3B4455;\n",
              "      fill: #D2E3FC;\n",
              "    }\n",
              "\n",
              "    [theme=dark] .colab-df-convert:hover {\n",
              "      background-color: #434B5C;\n",
              "      box-shadow: 0px 1px 3px 1px rgba(0, 0, 0, 0.15);\n",
              "      filter: drop-shadow(0px 1px 2px rgba(0, 0, 0, 0.3));\n",
              "      fill: #FFFFFF;\n",
              "    }\n",
              "  </style>\n",
              "\n",
              "    <script>\n",
              "      const buttonEl =\n",
              "        document.querySelector('#df-d96f793c-2589-4ce0-a258-84594aeb386e button.colab-df-convert');\n",
              "      buttonEl.style.display =\n",
              "        google.colab.kernel.accessAllowed ? 'block' : 'none';\n",
              "\n",
              "      async function convertToInteractive(key) {\n",
              "        const element = document.querySelector('#df-d96f793c-2589-4ce0-a258-84594aeb386e');\n",
              "        const dataTable =\n",
              "          await google.colab.kernel.invokeFunction('convertToInteractive',\n",
              "                                                    [key], {});\n",
              "        if (!dataTable) return;\n",
              "\n",
              "        const docLinkHtml = 'Like what you see? Visit the ' +\n",
              "          '<a target=\"_blank\" href=https://colab.research.google.com/notebooks/data_table.ipynb>data table notebook</a>'\n",
              "          + ' to learn more about interactive tables.';\n",
              "        element.innerHTML = '';\n",
              "        dataTable['output_type'] = 'display_data';\n",
              "        await google.colab.output.renderOutput(dataTable, element);\n",
              "        const docLink = document.createElement('div');\n",
              "        docLink.innerHTML = docLinkHtml;\n",
              "        element.appendChild(docLink);\n",
              "      }\n",
              "    </script>\n",
              "  </div>\n",
              "\n",
              "\n",
              "<div id=\"df-b3bac42a-eb49-45db-8a17-99dcf1ff72ef\">\n",
              "  <button class=\"colab-df-quickchart\" onclick=\"quickchart('df-b3bac42a-eb49-45db-8a17-99dcf1ff72ef')\"\n",
              "            title=\"Suggest charts\"\n",
              "            style=\"display:none;\">\n",
              "\n",
              "<svg xmlns=\"http://www.w3.org/2000/svg\" height=\"24px\"viewBox=\"0 0 24 24\"\n",
              "     width=\"24px\">\n",
              "    <g>\n",
              "        <path d=\"M19 3H5c-1.1 0-2 .9-2 2v14c0 1.1.9 2 2 2h14c1.1 0 2-.9 2-2V5c0-1.1-.9-2-2-2zM9 17H7v-7h2v7zm4 0h-2V7h2v10zm4 0h-2v-4h2v4z\"/>\n",
              "    </g>\n",
              "</svg>\n",
              "  </button>\n",
              "\n",
              "<style>\n",
              "  .colab-df-quickchart {\n",
              "      --bg-color: #E8F0FE;\n",
              "      --fill-color: #1967D2;\n",
              "      --hover-bg-color: #E2EBFA;\n",
              "      --hover-fill-color: #174EA6;\n",
              "      --disabled-fill-color: #AAA;\n",
              "      --disabled-bg-color: #DDD;\n",
              "  }\n",
              "\n",
              "  [theme=dark] .colab-df-quickchart {\n",
              "      --bg-color: #3B4455;\n",
              "      --fill-color: #D2E3FC;\n",
              "      --hover-bg-color: #434B5C;\n",
              "      --hover-fill-color: #FFFFFF;\n",
              "      --disabled-bg-color: #3B4455;\n",
              "      --disabled-fill-color: #666;\n",
              "  }\n",
              "\n",
              "  .colab-df-quickchart {\n",
              "    background-color: var(--bg-color);\n",
              "    border: none;\n",
              "    border-radius: 50%;\n",
              "    cursor: pointer;\n",
              "    display: none;\n",
              "    fill: var(--fill-color);\n",
              "    height: 32px;\n",
              "    padding: 0;\n",
              "    width: 32px;\n",
              "  }\n",
              "\n",
              "  .colab-df-quickchart:hover {\n",
              "    background-color: var(--hover-bg-color);\n",
              "    box-shadow: 0 1px 2px rgba(60, 64, 67, 0.3), 0 1px 3px 1px rgba(60, 64, 67, 0.15);\n",
              "    fill: var(--button-hover-fill-color);\n",
              "  }\n",
              "\n",
              "  .colab-df-quickchart-complete:disabled,\n",
              "  .colab-df-quickchart-complete:disabled:hover {\n",
              "    background-color: var(--disabled-bg-color);\n",
              "    fill: var(--disabled-fill-color);\n",
              "    box-shadow: none;\n",
              "  }\n",
              "\n",
              "  .colab-df-spinner {\n",
              "    border: 2px solid var(--fill-color);\n",
              "    border-color: transparent;\n",
              "    border-bottom-color: var(--fill-color);\n",
              "    animation:\n",
              "      spin 1s steps(1) infinite;\n",
              "  }\n",
              "\n",
              "  @keyframes spin {\n",
              "    0% {\n",
              "      border-color: transparent;\n",
              "      border-bottom-color: var(--fill-color);\n",
              "      border-left-color: var(--fill-color);\n",
              "    }\n",
              "    20% {\n",
              "      border-color: transparent;\n",
              "      border-left-color: var(--fill-color);\n",
              "      border-top-color: var(--fill-color);\n",
              "    }\n",
              "    30% {\n",
              "      border-color: transparent;\n",
              "      border-left-color: var(--fill-color);\n",
              "      border-top-color: var(--fill-color);\n",
              "      border-right-color: var(--fill-color);\n",
              "    }\n",
              "    40% {\n",
              "      border-color: transparent;\n",
              "      border-right-color: var(--fill-color);\n",
              "      border-top-color: var(--fill-color);\n",
              "    }\n",
              "    60% {\n",
              "      border-color: transparent;\n",
              "      border-right-color: var(--fill-color);\n",
              "    }\n",
              "    80% {\n",
              "      border-color: transparent;\n",
              "      border-right-color: var(--fill-color);\n",
              "      border-bottom-color: var(--fill-color);\n",
              "    }\n",
              "    90% {\n",
              "      border-color: transparent;\n",
              "      border-bottom-color: var(--fill-color);\n",
              "    }\n",
              "  }\n",
              "</style>\n",
              "\n",
              "  <script>\n",
              "    async function quickchart(key) {\n",
              "      const quickchartButtonEl =\n",
              "        document.querySelector('#' + key + ' button');\n",
              "      quickchartButtonEl.disabled = true;  // To prevent multiple clicks.\n",
              "      quickchartButtonEl.classList.add('colab-df-spinner');\n",
              "      try {\n",
              "        const charts = await google.colab.kernel.invokeFunction(\n",
              "            'suggestCharts', [key], {});\n",
              "      } catch (error) {\n",
              "        console.error('Error during call to suggestCharts:', error);\n",
              "      }\n",
              "      quickchartButtonEl.classList.remove('colab-df-spinner');\n",
              "      quickchartButtonEl.classList.add('colab-df-quickchart-complete');\n",
              "    }\n",
              "    (() => {\n",
              "      let quickchartButtonEl =\n",
              "        document.querySelector('#df-b3bac42a-eb49-45db-8a17-99dcf1ff72ef button');\n",
              "      quickchartButtonEl.style.display =\n",
              "        google.colab.kernel.accessAllowed ? 'block' : 'none';\n",
              "    })();\n",
              "  </script>\n",
              "</div>\n",
              "    </div>\n",
              "  </div>\n"
            ]
          },
          "metadata": {},
          "execution_count": 47
        }
      ]
    },
    {
      "cell_type": "markdown",
      "source": [
        "## **Split the Dataset**"
      ],
      "metadata": {
        "id": "eFA1xBv5c-ei"
      }
    },
    {
      "cell_type": "code",
      "source": [
        "data_train = data[:int(0.8*len(data))]\n",
        "data_test  = data[int(0.8*len(data)):]\n",
        "\n",
        "print(\"Data train shape :\", data_train.shape)\n",
        "print(\"Data test shape  :\", data_test.shape)"
      ],
      "metadata": {
        "colab": {
          "base_uri": "https://localhost:8080/"
        },
        "id": "FkHkpZYvJdw5",
        "outputId": "deaeccfc-0d97-44dc-c7a9-ee98c6952b62"
      },
      "execution_count": 48,
      "outputs": [
        {
          "output_type": "stream",
          "name": "stdout",
          "text": [
            "Data train shape : (843, 4)\n",
            "Data test shape  : (211, 4)\n"
          ]
        }
      ]
    },
    {
      "cell_type": "markdown",
      "source": [
        "## **Model Training**"
      ],
      "metadata": {
        "id": "3ooWd2zHdBi3"
      }
    },
    {
      "cell_type": "code",
      "source": [
        "# Fit VAR model to the training data\n",
        "model = VAR(data_train)\n",
        "lag_selection_VAR = model.select_order(maxlags=best_lags)\n",
        "print(lag_selection_VAR.summary())\n",
        "\n",
        "# Get the lag order\n",
        "lag_order = lag_selection_VAR.selected_orders['aic']\n",
        "print(\"Best lag order :\", lag_order)\n",
        "model_fitted = model.fit(lag_order)"
      ],
      "metadata": {
        "colab": {
          "base_uri": "https://localhost:8080/"
        },
        "id": "k_1jCYb5K4Go",
        "outputId": "d83bf532-4f0a-4e6f-d085-f3dd53951435"
      },
      "execution_count": 49,
      "outputs": [
        {
          "output_type": "stream",
          "name": "stdout",
          "text": [
            " VAR Order Selection (* highlights the minimums) \n",
            "=================================================\n",
            "      AIC         BIC         FPE         HQIC   \n",
            "-------------------------------------------------\n",
            "0      -16.11      -16.08   1.012e-07      -16.10\n",
            "1      -26.16     -26.04*   4.367e-12     -26.11*\n",
            "2      -26.19      -25.98   4.245e-12      -26.11\n",
            "3      -26.21      -25.92   4.145e-12      -26.10\n",
            "4      -26.23      -25.85   4.059e-12      -26.08\n",
            "5     -26.25*      -25.77  3.998e-12*      -26.06\n",
            "-------------------------------------------------\n",
            "Best lag order : 5\n"
          ]
        }
      ]
    },
    {
      "cell_type": "code",
      "source": [
        "# Number of predicted time steps\n",
        "steps = len(data_test) + 100\n",
        "\n",
        "# Predict use VAR model\n",
        "forecast       = model_fitted.forecast(data_train.values, steps = steps)\n",
        "forecast_index = pd.date_range(start=data_train.index[-1], freq='B', periods=steps + 1)[1:]\n",
        "forecast_data  = pd.DataFrame(forecast, index=forecast_index, columns=data_train.columns)\n",
        "forecast_data.tail()"
      ],
      "metadata": {
        "colab": {
          "base_uri": "https://localhost:8080/",
          "height": 206
        },
        "id": "unrOzGdrK7Lh",
        "outputId": "03730894-b261-4269-d5c0-fccc1e8a7370"
      },
      "execution_count": 50,
      "outputs": [
        {
          "output_type": "execute_result",
          "data": {
            "text/plain": [
              "            weight_for_index  foreign_sell    volume     close\n",
              "2024-03-01         -0.539257      0.168970  0.152894  0.801462\n",
              "2024-03-04         -0.541047      0.169016  0.152921  0.801825\n",
              "2024-03-05         -0.542838      0.169062  0.152948  0.802189\n",
              "2024-03-06         -0.544629      0.169108  0.152975  0.802552\n",
              "2024-03-07         -0.546422      0.169154  0.153003  0.802915"
            ],
            "text/html": [
              "\n",
              "  <div id=\"df-eae6ef23-2033-4304-903a-e047a0520b96\" class=\"colab-df-container\">\n",
              "    <div>\n",
              "<style scoped>\n",
              "    .dataframe tbody tr th:only-of-type {\n",
              "        vertical-align: middle;\n",
              "    }\n",
              "\n",
              "    .dataframe tbody tr th {\n",
              "        vertical-align: top;\n",
              "    }\n",
              "\n",
              "    .dataframe thead th {\n",
              "        text-align: right;\n",
              "    }\n",
              "</style>\n",
              "<table border=\"1\" class=\"dataframe\">\n",
              "  <thead>\n",
              "    <tr style=\"text-align: right;\">\n",
              "      <th></th>\n",
              "      <th>weight_for_index</th>\n",
              "      <th>foreign_sell</th>\n",
              "      <th>volume</th>\n",
              "      <th>close</th>\n",
              "    </tr>\n",
              "  </thead>\n",
              "  <tbody>\n",
              "    <tr>\n",
              "      <th>2024-03-01</th>\n",
              "      <td>-0.539257</td>\n",
              "      <td>0.168970</td>\n",
              "      <td>0.152894</td>\n",
              "      <td>0.801462</td>\n",
              "    </tr>\n",
              "    <tr>\n",
              "      <th>2024-03-04</th>\n",
              "      <td>-0.541047</td>\n",
              "      <td>0.169016</td>\n",
              "      <td>0.152921</td>\n",
              "      <td>0.801825</td>\n",
              "    </tr>\n",
              "    <tr>\n",
              "      <th>2024-03-05</th>\n",
              "      <td>-0.542838</td>\n",
              "      <td>0.169062</td>\n",
              "      <td>0.152948</td>\n",
              "      <td>0.802189</td>\n",
              "    </tr>\n",
              "    <tr>\n",
              "      <th>2024-03-06</th>\n",
              "      <td>-0.544629</td>\n",
              "      <td>0.169108</td>\n",
              "      <td>0.152975</td>\n",
              "      <td>0.802552</td>\n",
              "    </tr>\n",
              "    <tr>\n",
              "      <th>2024-03-07</th>\n",
              "      <td>-0.546422</td>\n",
              "      <td>0.169154</td>\n",
              "      <td>0.153003</td>\n",
              "      <td>0.802915</td>\n",
              "    </tr>\n",
              "  </tbody>\n",
              "</table>\n",
              "</div>\n",
              "    <div class=\"colab-df-buttons\">\n",
              "\n",
              "  <div class=\"colab-df-container\">\n",
              "    <button class=\"colab-df-convert\" onclick=\"convertToInteractive('df-eae6ef23-2033-4304-903a-e047a0520b96')\"\n",
              "            title=\"Convert this dataframe to an interactive table.\"\n",
              "            style=\"display:none;\">\n",
              "\n",
              "  <svg xmlns=\"http://www.w3.org/2000/svg\" height=\"24px\" viewBox=\"0 -960 960 960\">\n",
              "    <path d=\"M120-120v-720h720v720H120Zm60-500h600v-160H180v160Zm220 220h160v-160H400v160Zm0 220h160v-160H400v160ZM180-400h160v-160H180v160Zm440 0h160v-160H620v160ZM180-180h160v-160H180v160Zm440 0h160v-160H620v160Z\"/>\n",
              "  </svg>\n",
              "    </button>\n",
              "\n",
              "  <style>\n",
              "    .colab-df-container {\n",
              "      display:flex;\n",
              "      gap: 12px;\n",
              "    }\n",
              "\n",
              "    .colab-df-convert {\n",
              "      background-color: #E8F0FE;\n",
              "      border: none;\n",
              "      border-radius: 50%;\n",
              "      cursor: pointer;\n",
              "      display: none;\n",
              "      fill: #1967D2;\n",
              "      height: 32px;\n",
              "      padding: 0 0 0 0;\n",
              "      width: 32px;\n",
              "    }\n",
              "\n",
              "    .colab-df-convert:hover {\n",
              "      background-color: #E2EBFA;\n",
              "      box-shadow: 0px 1px 2px rgba(60, 64, 67, 0.3), 0px 1px 3px 1px rgba(60, 64, 67, 0.15);\n",
              "      fill: #174EA6;\n",
              "    }\n",
              "\n",
              "    .colab-df-buttons div {\n",
              "      margin-bottom: 4px;\n",
              "    }\n",
              "\n",
              "    [theme=dark] .colab-df-convert {\n",
              "      background-color: #3B4455;\n",
              "      fill: #D2E3FC;\n",
              "    }\n",
              "\n",
              "    [theme=dark] .colab-df-convert:hover {\n",
              "      background-color: #434B5C;\n",
              "      box-shadow: 0px 1px 3px 1px rgba(0, 0, 0, 0.15);\n",
              "      filter: drop-shadow(0px 1px 2px rgba(0, 0, 0, 0.3));\n",
              "      fill: #FFFFFF;\n",
              "    }\n",
              "  </style>\n",
              "\n",
              "    <script>\n",
              "      const buttonEl =\n",
              "        document.querySelector('#df-eae6ef23-2033-4304-903a-e047a0520b96 button.colab-df-convert');\n",
              "      buttonEl.style.display =\n",
              "        google.colab.kernel.accessAllowed ? 'block' : 'none';\n",
              "\n",
              "      async function convertToInteractive(key) {\n",
              "        const element = document.querySelector('#df-eae6ef23-2033-4304-903a-e047a0520b96');\n",
              "        const dataTable =\n",
              "          await google.colab.kernel.invokeFunction('convertToInteractive',\n",
              "                                                    [key], {});\n",
              "        if (!dataTable) return;\n",
              "\n",
              "        const docLinkHtml = 'Like what you see? Visit the ' +\n",
              "          '<a target=\"_blank\" href=https://colab.research.google.com/notebooks/data_table.ipynb>data table notebook</a>'\n",
              "          + ' to learn more about interactive tables.';\n",
              "        element.innerHTML = '';\n",
              "        dataTable['output_type'] = 'display_data';\n",
              "        await google.colab.output.renderOutput(dataTable, element);\n",
              "        const docLink = document.createElement('div');\n",
              "        docLink.innerHTML = docLinkHtml;\n",
              "        element.appendChild(docLink);\n",
              "      }\n",
              "    </script>\n",
              "  </div>\n",
              "\n",
              "\n",
              "<div id=\"df-2af24576-aaee-4f78-b135-1b70719e1f64\">\n",
              "  <button class=\"colab-df-quickchart\" onclick=\"quickchart('df-2af24576-aaee-4f78-b135-1b70719e1f64')\"\n",
              "            title=\"Suggest charts\"\n",
              "            style=\"display:none;\">\n",
              "\n",
              "<svg xmlns=\"http://www.w3.org/2000/svg\" height=\"24px\"viewBox=\"0 0 24 24\"\n",
              "     width=\"24px\">\n",
              "    <g>\n",
              "        <path d=\"M19 3H5c-1.1 0-2 .9-2 2v14c0 1.1.9 2 2 2h14c1.1 0 2-.9 2-2V5c0-1.1-.9-2-2-2zM9 17H7v-7h2v7zm4 0h-2V7h2v10zm4 0h-2v-4h2v4z\"/>\n",
              "    </g>\n",
              "</svg>\n",
              "  </button>\n",
              "\n",
              "<style>\n",
              "  .colab-df-quickchart {\n",
              "      --bg-color: #E8F0FE;\n",
              "      --fill-color: #1967D2;\n",
              "      --hover-bg-color: #E2EBFA;\n",
              "      --hover-fill-color: #174EA6;\n",
              "      --disabled-fill-color: #AAA;\n",
              "      --disabled-bg-color: #DDD;\n",
              "  }\n",
              "\n",
              "  [theme=dark] .colab-df-quickchart {\n",
              "      --bg-color: #3B4455;\n",
              "      --fill-color: #D2E3FC;\n",
              "      --hover-bg-color: #434B5C;\n",
              "      --hover-fill-color: #FFFFFF;\n",
              "      --disabled-bg-color: #3B4455;\n",
              "      --disabled-fill-color: #666;\n",
              "  }\n",
              "\n",
              "  .colab-df-quickchart {\n",
              "    background-color: var(--bg-color);\n",
              "    border: none;\n",
              "    border-radius: 50%;\n",
              "    cursor: pointer;\n",
              "    display: none;\n",
              "    fill: var(--fill-color);\n",
              "    height: 32px;\n",
              "    padding: 0;\n",
              "    width: 32px;\n",
              "  }\n",
              "\n",
              "  .colab-df-quickchart:hover {\n",
              "    background-color: var(--hover-bg-color);\n",
              "    box-shadow: 0 1px 2px rgba(60, 64, 67, 0.3), 0 1px 3px 1px rgba(60, 64, 67, 0.15);\n",
              "    fill: var(--button-hover-fill-color);\n",
              "  }\n",
              "\n",
              "  .colab-df-quickchart-complete:disabled,\n",
              "  .colab-df-quickchart-complete:disabled:hover {\n",
              "    background-color: var(--disabled-bg-color);\n",
              "    fill: var(--disabled-fill-color);\n",
              "    box-shadow: none;\n",
              "  }\n",
              "\n",
              "  .colab-df-spinner {\n",
              "    border: 2px solid var(--fill-color);\n",
              "    border-color: transparent;\n",
              "    border-bottom-color: var(--fill-color);\n",
              "    animation:\n",
              "      spin 1s steps(1) infinite;\n",
              "  }\n",
              "\n",
              "  @keyframes spin {\n",
              "    0% {\n",
              "      border-color: transparent;\n",
              "      border-bottom-color: var(--fill-color);\n",
              "      border-left-color: var(--fill-color);\n",
              "    }\n",
              "    20% {\n",
              "      border-color: transparent;\n",
              "      border-left-color: var(--fill-color);\n",
              "      border-top-color: var(--fill-color);\n",
              "    }\n",
              "    30% {\n",
              "      border-color: transparent;\n",
              "      border-left-color: var(--fill-color);\n",
              "      border-top-color: var(--fill-color);\n",
              "      border-right-color: var(--fill-color);\n",
              "    }\n",
              "    40% {\n",
              "      border-color: transparent;\n",
              "      border-right-color: var(--fill-color);\n",
              "      border-top-color: var(--fill-color);\n",
              "    }\n",
              "    60% {\n",
              "      border-color: transparent;\n",
              "      border-right-color: var(--fill-color);\n",
              "    }\n",
              "    80% {\n",
              "      border-color: transparent;\n",
              "      border-right-color: var(--fill-color);\n",
              "      border-bottom-color: var(--fill-color);\n",
              "    }\n",
              "    90% {\n",
              "      border-color: transparent;\n",
              "      border-bottom-color: var(--fill-color);\n",
              "    }\n",
              "  }\n",
              "</style>\n",
              "\n",
              "  <script>\n",
              "    async function quickchart(key) {\n",
              "      const quickchartButtonEl =\n",
              "        document.querySelector('#' + key + ' button');\n",
              "      quickchartButtonEl.disabled = true;  // To prevent multiple clicks.\n",
              "      quickchartButtonEl.classList.add('colab-df-spinner');\n",
              "      try {\n",
              "        const charts = await google.colab.kernel.invokeFunction(\n",
              "            'suggestCharts', [key], {});\n",
              "      } catch (error) {\n",
              "        console.error('Error during call to suggestCharts:', error);\n",
              "      }\n",
              "      quickchartButtonEl.classList.remove('colab-df-spinner');\n",
              "      quickchartButtonEl.classList.add('colab-df-quickchart-complete');\n",
              "    }\n",
              "    (() => {\n",
              "      let quickchartButtonEl =\n",
              "        document.querySelector('#df-2af24576-aaee-4f78-b135-1b70719e1f64 button');\n",
              "      quickchartButtonEl.style.display =\n",
              "        google.colab.kernel.accessAllowed ? 'block' : 'none';\n",
              "    })();\n",
              "  </script>\n",
              "</div>\n",
              "    </div>\n",
              "  </div>\n"
            ]
          },
          "metadata": {},
          "execution_count": 50
        }
      ]
    },
    {
      "cell_type": "code",
      "source": [
        "# Plot the results\n",
        "plt.figure(figsize=(12, 3))\n",
        "\n",
        "# Plot the training, test, and forecasted\n",
        "plt.plot(data_train.index    , data_train[target]   , label='Training Data', color='green')\n",
        "plt.plot(data_test.index     , data_test[target]    , label='Test Data'    , color='red')\n",
        "plt.plot(forecast_data.index , forecast_data[target], label='Test Forecast', color='blue', linestyle='--')\n",
        "\n",
        "plt.plot(data_train.index[lag_order + len(data_train[lag_order:])-100:],\n",
        "         model_fitted.fittedvalues.values[len(data_train[lag_order:])-100:, -1],\n",
        "         label='Train Forecast', color='blue')\n",
        "\n",
        "plt.title('VAR Model Forecasting')\n",
        "plt.xlabel('Date')\n",
        "plt.ylabel(target)\n",
        "plt.legend()\n",
        "plt.grid(True)\n",
        "plt.show()"
      ],
      "metadata": {
        "colab": {
          "base_uri": "https://localhost:8080/",
          "height": 333
        },
        "id": "D23iC8A1eKWJ",
        "outputId": "c3ef0ebe-2fff-4831-bd85-513e5fc6c725"
      },
      "execution_count": 51,
      "outputs": [
        {
          "output_type": "display_data",
          "data": {
            "text/plain": [
              "<Figure size 1200x300 with 1 Axes>"
            ],
            "image/png": "[encoded data removed]"
          },
          "metadata": {}
        }
      ]
    },
    {
      "cell_type": "code",
      "source": [
        "# Performance on Training Data\n",
        "plt.figure(figsize=(12, 3))\n",
        "plt.plot(data_train[lag_order:].index, data_train[lag_order:]['close']  , label='Training Data' , color='green')\n",
        "plt.plot(data_train[lag_order:].index, model_fitted.fittedvalues.values[:, -1], label='Train Forecast', color='blue')\n",
        "plt.title('Performance on Training Data')\n",
        "plt.xlabel('Date')\n",
        "plt.ylabel('Close Price')\n",
        "plt.legend()\n",
        "plt.grid(True)\n",
        "plt.show()"
      ],
      "metadata": {
        "colab": {
          "base_uri": "https://localhost:8080/",
          "height": 333
        },
        "id": "HF8upJ3bpX4y",
        "outputId": "0e35f3b4-a3c4-464f-9d8d-9c92b72ebd3b"
      },
      "execution_count": 52,
      "outputs": [
        {
          "output_type": "display_data",
          "data": {
            "text/plain": [
              "<Figure size 1200x300 with 1 Axes>"
            ],
            "image/png": "[encoded data removed]"
          },
          "metadata": {}
        }
      ]
    },
    {
      "cell_type": "code",
      "source": [
        "# Calculate residuals (errors) on the training data\n",
        "train_residuals = data_train[lag_order:]['close'] - model_fitted.fittedvalues.values[:, -1]\n",
        "test_residuals = data_test['close'] - forecast_data['close']\n",
        "\n",
        "# Calculate Mean Squared Error (MSE) for each variable\n",
        "train_MSE = mean_squared_error(data_train[lag_order:]['close'], model_fitted.fittedvalues.values[:, -1])\n",
        "test_MSE = mean_squared_error(data_test['close'], forecast_data[:-100]['close'])\n",
        "\n",
        "# Print the MSE for each feature\n",
        "print(\"Close Price MSE on Training Data:\", train_MSE)\n",
        "print(\"Close Price MSE on Test Data:\", test_MSE)"
      ],
      "metadata": {
        "colab": {
          "base_uri": "https://localhost:8080/"
        },
        "id": "plLbdNfCq_4u",
        "outputId": "279851b1-efeb-43b0-9a08-6934bec2ac92"
      },
      "execution_count": 53,
      "outputs": [
        {
          "output_type": "stream",
          "name": "stdout",
          "text": [
            "Close Price MSE on Training Data: 0.0007899643711769598\n",
            "Close Price MSE on Test Data: 0.007720944211397492\n"
          ]
        }
      ]
    },
    {
      "cell_type": "markdown",
      "source": [
        "## **Save the Model**"
      ],
      "metadata": {
        "id": "9EcSIQvYcKT2"
      }
    },
    {
      "cell_type": "code",
      "source": [
        "# Menyimpan model VAR ke dalam file menggunakan pickle\n",
        "with open('model_var.pkl', 'wb') as f:\n",
        "    pickle.dump(model_fitted, f)"
      ],
      "metadata": {
        "id": "Ng0NQDDmcFJv"
      },
      "execution_count": 54,
      "outputs": []
    },
    {
      "cell_type": "code",
      "source": [
        "# Untuk memuat kembali model dari file\n",
        "with open('model_var.pkl', 'rb') as f:\n",
        "    model_fitted = pickle.load(f)"
      ],
      "metadata": {
        "id": "Z_HxJZWAdEoh"
      },
      "execution_count": 55,
      "outputs": []
    },
    {
      "cell_type": "markdown",
      "source": [
        "## **Forecast in the Future**"
      ],
      "metadata": {
        "id": "PuacB1L3csda"
      }
    },
    {
      "cell_type": "code",
      "source": [
        "# Number of predicted time steps\n",
        "steps = 250\n",
        "\n",
        "# Predict use VAR model\n",
        "forecast       = model_fitted.forecast(data_test.values, steps = steps)\n",
        "forecast_index = pd.date_range(start=data_test.index[-1], freq='B', periods=steps + 1)[1:]\n",
        "forecast_data  = pd.DataFrame(forecast, index=forecast_index, columns=data_test.columns)\n",
        "forecast_data.head()"
      ],
      "metadata": {
        "colab": {
          "base_uri": "https://localhost:8080/",
          "height": 206
        },
        "id": "qM7y9CItcJ3F",
        "outputId": "27e024f8-47dc-4f2e-c674-c8ed26816c70"
      },
      "execution_count": 56,
      "outputs": [
        {
          "output_type": "execute_result",
          "data": {
            "text/plain": [
              "            weight_for_index  foreign_sell    volume     close\n",
              "2023-11-16         -0.004543      0.118770  0.103801  0.574480\n",
              "2023-11-17         -0.007490      0.120372  0.103729  0.575478\n",
              "2023-11-20         -0.009823      0.127444  0.111584  0.574404\n",
              "2023-11-21         -0.013971      0.130804  0.117515  0.577592\n",
              "2023-11-22         -0.016706      0.139317  0.128093  0.580010"
            ],
            "text/html": [
              "\n",
              "  <div id=\"df-b9331728-cace-4ea8-9e7e-ba342e0edcfa\" class=\"colab-df-container\">\n",
              "    <div>\n",
              "<style scoped>\n",
              "    .dataframe tbody tr th:only-of-type {\n",
              "        vertical-align: middle;\n",
              "    }\n",
              "\n",
              "    .dataframe tbody tr th {\n",
              "        vertical-align: top;\n",
              "    }\n",
              "\n",
              "    .dataframe thead th {\n",
              "        text-align: right;\n",
              "    }\n",
              "</style>\n",
              "<table border=\"1\" class=\"dataframe\">\n",
              "  <thead>\n",
              "    <tr style=\"text-align: right;\">\n",
              "      <th></th>\n",
              "      <th>weight_for_index</th>\n",
              "      <th>foreign_sell</th>\n",
              "      <th>volume</th>\n",
              "      <th>close</th>\n",
              "    </tr>\n",
              "  </thead>\n",
              "  <tbody>\n",
              "    <tr>\n",
              "      <th>2023-11-16</th>\n",
              "      <td>-0.004543</td>\n",
              "      <td>0.118770</td>\n",
              "      <td>0.103801</td>\n",
              "      <td>0.574480</td>\n",
              "    </tr>\n",
              "    <tr>\n",
              "      <th>2023-11-17</th>\n",
              "      <td>-0.007490</td>\n",
              "      <td>0.120372</td>\n",
              "      <td>0.103729</td>\n",
              "      <td>0.575478</td>\n",
              "    </tr>\n",
              "    <tr>\n",
              "      <th>2023-11-20</th>\n",
              "      <td>-0.009823</td>\n",
              "      <td>0.127444</td>\n",
              "      <td>0.111584</td>\n",
              "      <td>0.574404</td>\n",
              "    </tr>\n",
              "    <tr>\n",
              "      <th>2023-11-21</th>\n",
              "      <td>-0.013971</td>\n",
              "      <td>0.130804</td>\n",
              "      <td>0.117515</td>\n",
              "      <td>0.577592</td>\n",
              "    </tr>\n",
              "    <tr>\n",
              "      <th>2023-11-22</th>\n",
              "      <td>-0.016706</td>\n",
              "      <td>0.139317</td>\n",
              "      <td>0.128093</td>\n",
              "      <td>0.580010</td>\n",
              "    </tr>\n",
              "  </tbody>\n",
              "</table>\n",
              "</div>\n",
              "    <div class=\"colab-df-buttons\">\n",
              "\n",
              "  <div class=\"colab-df-container\">\n",
              "    <button class=\"colab-df-convert\" onclick=\"convertToInteractive('df-b9331728-cace-4ea8-9e7e-ba342e0edcfa')\"\n",
              "            title=\"Convert this dataframe to an interactive table.\"\n",
              "            style=\"display:none;\">\n",
              "\n",
              "  <svg xmlns=\"http://www.w3.org/2000/svg\" height=\"24px\" viewBox=\"0 -960 960 960\">\n",
              "    <path d=\"M120-120v-720h720v720H120Zm60-500h600v-160H180v160Zm220 220h160v-160H400v160Zm0 220h160v-160H400v160ZM180-400h160v-160H180v160Zm440 0h160v-160H620v160ZM180-180h160v-160H180v160Zm440 0h160v-160H620v160Z\"/>\n",
              "  </svg>\n",
              "    </button>\n",
              "\n",
              "  <style>\n",
              "    .colab-df-container {\n",
              "      display:flex;\n",
              "      gap: 12px;\n",
              "    }\n",
              "\n",
              "    .colab-df-convert {\n",
              "      background-color: #E8F0FE;\n",
              "      border: none;\n",
              "      border-radius: 50%;\n",
              "      cursor: pointer;\n",
              "      display: none;\n",
              "      fill: #1967D2;\n",
              "      height: 32px;\n",
              "      padding: 0 0 0 0;\n",
              "      width: 32px;\n",
              "    }\n",
              "\n",
              "    .colab-df-convert:hover {\n",
              "      background-color: #E2EBFA;\n",
              "      box-shadow: 0px 1px 2px rgba(60, 64, 67, 0.3), 0px 1px 3px 1px rgba(60, 64, 67, 0.15);\n",
              "      fill: #174EA6;\n",
              "    }\n",
              "\n",
              "    .colab-df-buttons div {\n",
              "      margin-bottom: 4px;\n",
              "    }\n",
              "\n",
              "    [theme=dark] .colab-df-convert {\n",
              "      background-color: #3B4455;\n",
              "      fill: #D2E3FC;\n",
              "    }\n",
              "\n",
              "    [theme=dark] .colab-df-convert:hover {\n",
              "      background-color: #434B5C;\n",
              "      box-shadow: 0px 1px 3px 1px rgba(0, 0, 0, 0.15);\n",
              "      filter: drop-shadow(0px 1px 2px rgba(0, 0, 0, 0.3));\n",
              "      fill: #FFFFFF;\n",
              "    }\n",
              "  </style>\n",
              "\n",
              "    <script>\n",
              "      const buttonEl =\n",
              "        document.querySelector('#df-b9331728-cace-4ea8-9e7e-ba342e0edcfa button.colab-df-convert');\n",
              "      buttonEl.style.display =\n",
              "        google.colab.kernel.accessAllowed ? 'block' : 'none';\n",
              "\n",
              "      async function convertToInteractive(key) {\n",
              "        const element = document.querySelector('#df-b9331728-cace-4ea8-9e7e-ba342e0edcfa');\n",
              "        const dataTable =\n",
              "          await google.colab.kernel.invokeFunction('convertToInteractive',\n",
              "                                                    [key], {});\n",
              "        if (!dataTable) return;\n",
              "\n",
              "        const docLinkHtml = 'Like what you see? Visit the ' +\n",
              "          '<a target=\"_blank\" href=https://colab.research.google.com/notebooks/data_table.ipynb>data table notebook</a>'\n",
              "          + ' to learn more about interactive tables.';\n",
              "        element.innerHTML = '';\n",
              "        dataTable['output_type'] = 'display_data';\n",
              "        await google.colab.output.renderOutput(dataTable, element);\n",
              "        const docLink = document.createElement('div');\n",
              "        docLink.innerHTML = docLinkHtml;\n",
              "        element.appendChild(docLink);\n",
              "      }\n",
              "    </script>\n",
              "  </div>\n",
              "\n",
              "\n",
              "<div id=\"df-652b81de-ef77-4b63-93d9-3c3f5d5f2227\">\n",
              "  <button class=\"colab-df-quickchart\" onclick=\"quickchart('df-652b81de-ef77-4b63-93d9-3c3f5d5f2227')\"\n",
              "            title=\"Suggest charts\"\n",
              "            style=\"display:none;\">\n",
              "\n",
              "<svg xmlns=\"http://www.w3.org/2000/svg\" height=\"24px\"viewBox=\"0 0 24 24\"\n",
              "     width=\"24px\">\n",
              "    <g>\n",
              "        <path d=\"M19 3H5c-1.1 0-2 .9-2 2v14c0 1.1.9 2 2 2h14c1.1 0 2-.9 2-2V5c0-1.1-.9-2-2-2zM9 17H7v-7h2v7zm4 0h-2V7h2v10zm4 0h-2v-4h2v4z\"/>\n",
              "    </g>\n",
              "</svg>\n",
              "  </button>\n",
              "\n",
              "<style>\n",
              "  .colab-df-quickchart {\n",
              "      --bg-color: #E8F0FE;\n",
              "      --fill-color: #1967D2;\n",
              "      --hover-bg-color: #E2EBFA;\n",
              "      --hover-fill-color: #174EA6;\n",
              "      --disabled-fill-color: #AAA;\n",
              "      --disabled-bg-color: #DDD;\n",
              "  }\n",
              "\n",
              "  [theme=dark] .colab-df-quickchart {\n",
              "      --bg-color: #3B4455;\n",
              "      --fill-color: #D2E3FC;\n",
              "      --hover-bg-color: #434B5C;\n",
              "      --hover-fill-color: #FFFFFF;\n",
              "      --disabled-bg-color: #3B4455;\n",
              "      --disabled-fill-color: #666;\n",
              "  }\n",
              "\n",
              "  .colab-df-quickchart {\n",
              "    background-color: var(--bg-color);\n",
              "    border: none;\n",
              "    border-radius: 50%;\n",
              "    cursor: pointer;\n",
              "    display: none;\n",
              "    fill: var(--fill-color);\n",
              "    height: 32px;\n",
              "    padding: 0;\n",
              "    width: 32px;\n",
              "  }\n",
              "\n",
              "  .colab-df-quickchart:hover {\n",
              "    background-color: var(--hover-bg-color);\n",
              "    box-shadow: 0 1px 2px rgba(60, 64, 67, 0.3), 0 1px 3px 1px rgba(60, 64, 67, 0.15);\n",
              "    fill: var(--button-hover-fill-color);\n",
              "  }\n",
              "\n",
              "  .colab-df-quickchart-complete:disabled,\n",
              "  .colab-df-quickchart-complete:disabled:hover {\n",
              "    background-color: var(--disabled-bg-color);\n",
              "    fill: var(--disabled-fill-color);\n",
              "    box-shadow: none;\n",
              "  }\n",
              "\n",
              "  .colab-df-spinner {\n",
              "    border: 2px solid var(--fill-color);\n",
              "    border-color: transparent;\n",
              "    border-bottom-color: var(--fill-color);\n",
              "    animation:\n",
              "      spin 1s steps(1) infinite;\n",
              "  }\n",
              "\n",
              "  @keyframes spin {\n",
              "    0% {\n",
              "      border-color: transparent;\n",
              "      border-bottom-color: var(--fill-color);\n",
              "      border-left-color: var(--fill-color);\n",
              "    }\n",
              "    20% {\n",
              "      border-color: transparent;\n",
              "      border-left-color: var(--fill-color);\n",
              "      border-top-color: var(--fill-color);\n",
              "    }\n",
              "    30% {\n",
              "      border-color: transparent;\n",
              "      border-left-color: var(--fill-color);\n",
              "      border-top-color: var(--fill-color);\n",
              "      border-right-color: var(--fill-color);\n",
              "    }\n",
              "    40% {\n",
              "      border-color: transparent;\n",
              "      border-right-color: var(--fill-color);\n",
              "      border-top-color: var(--fill-color);\n",
              "    }\n",
              "    60% {\n",
              "      border-color: transparent;\n",
              "      border-right-color: var(--fill-color);\n",
              "    }\n",
              "    80% {\n",
              "      border-color: transparent;\n",
              "      border-right-color: var(--fill-color);\n",
              "      border-bottom-color: var(--fill-color);\n",
              "    }\n",
              "    90% {\n",
              "      border-color: transparent;\n",
              "      border-bottom-color: var(--fill-color);\n",
              "    }\n",
              "  }\n",
              "</style>\n",
              "\n",
              "  <script>\n",
              "    async function quickchart(key) {\n",
              "      const quickchartButtonEl =\n",
              "        document.querySelector('#' + key + ' button');\n",
              "      quickchartButtonEl.disabled = true;  // To prevent multiple clicks.\n",
              "      quickchartButtonEl.classList.add('colab-df-spinner');\n",
              "      try {\n",
              "        const charts = await google.colab.kernel.invokeFunction(\n",
              "            'suggestCharts', [key], {});\n",
              "      } catch (error) {\n",
              "        console.error('Error during call to suggestCharts:', error);\n",
              "      }\n",
              "      quickchartButtonEl.classList.remove('colab-df-spinner');\n",
              "      quickchartButtonEl.classList.add('colab-df-quickchart-complete');\n",
              "    }\n",
              "    (() => {\n",
              "      let quickchartButtonEl =\n",
              "        document.querySelector('#df-652b81de-ef77-4b63-93d9-3c3f5d5f2227 button');\n",
              "      quickchartButtonEl.style.display =\n",
              "        google.colab.kernel.accessAllowed ? 'block' : 'none';\n",
              "    })();\n",
              "  </script>\n",
              "</div>\n",
              "    </div>\n",
              "  </div>\n"
            ]
          },
          "metadata": {},
          "execution_count": 56
        }
      ]
    },
    {
      "cell_type": "code",
      "source": [
        "# Plot the results\n",
        "plt.figure(figsize=(12, 3))\n",
        "\n",
        "# Plot the training, test, and forecasted\n",
        "plt.plot(data_train.index    , data_train[target]   , label='Training Data', color='green')\n",
        "plt.plot(data_test.index     , data_test[target]    , label='Test Data'    , color='red')\n",
        "plt.plot(forecast_data.index , forecast_data[target], label='Test Forecast', color='blue', linestyle='--')\n",
        "\n",
        "plt.title('VAR Model Forecasting')\n",
        "plt.xlabel('Date')\n",
        "plt.ylabel(target)\n",
        "plt.legend()\n",
        "plt.grid(True)\n",
        "plt.show()"
      ],
      "metadata": {
        "colab": {
          "base_uri": "https://localhost:8080/",
          "height": 333
        },
        "id": "XKEKekahde-2",
        "outputId": "7648bc5c-7730-40b7-8d2f-389a19aefe89"
      },
      "execution_count": 57,
      "outputs": [
        {
          "output_type": "display_data",
          "data": {
            "text/plain": [
              "<Figure size 1200x300 with 1 Axes>"
            ],
            "image/png": "[encoded data removed]"
          },
          "metadata": {}
        }
      ]
    }
  ]
}